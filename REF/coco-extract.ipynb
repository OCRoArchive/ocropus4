{
 "cells": [
  {
   "cell_type": "code",
   "execution_count": 3,
   "metadata": {},
   "outputs": [],
   "source": [
    "seg2patches /data19/cocotext/coco-detect-train"
   ]
  },
  {
   "cell_type": "code",
   "execution_count": 4,
   "metadata": {},
   "outputs": [
    {
     "name": "stdout",
     "output_type": "stream",
     "text": [
      "Untitled.ipynb                         coco-text-affine-004-val-000000.tar\n",
      "coco-to-shards.ipynb                   coco-text-affine-005-train-000000.tar\n",
      "cocotext-to-detection-shards.ipynb     coco-text-affine-005-val-000000.tar\n",
      "cocotext-to-shards.ipynb               coco-text-affine-006-train-000000.tar\n",
      "cocotext-nice.v2.json                  coco-text-affine-006-val-000000.tar\n",
      "cocotext.v2.json                       coco-text-affine-007-train-000000.tar\n",
      "coco-detect-train-000000.tar           coco-text-affine-007-val-000000.tar\n",
      "coco-detect-val-000000.tar             coco-text-affine-008-train-000000.tar\n",
      "coco-text-affine-000-train-000000.tar  coco-text-affine-008-val-000000.tar\n",
      "coco-text-affine-000-val-000000.tar    coco-text-affine-009-train-000000.tar\n",
      "coco-text-affine-001-train-000000.tar  coco-text-affine-009-val-000000.tar\n",
      "coco-text-affine-001-val-000000.tar    coco-text-rect-train-000000.tar\n",
      "coco-text-affine-002-train-000000.tar  coco-text-rect-val-000000.tar\n",
      "coco-text-affine-002-val-000000.tar    coco-text-rot-train-000000.tar\n",
      "coco-text-affine-003-train-000000.tar  coco-text-rot-val-000000.tar\n",
      "coco-text-affine-003-val-000000.tar    cocotext.v2.zip\n",
      "coco-text-affine-004-train-000000.tar\n"
     ]
    }
   ],
   "source": [
    "ls"
   ]
  },
  {
   "cell_type": "code",
   "execution_count": null,
   "metadata": {},
   "outputs": [],
   "source": []
  }
 ],
 "metadata": {
  "kernelspec": {
   "display_name": "Bash",
   "language": "bash",
   "name": "bash"
  },
  "language_info": {
   "codemirror_mode": "shell",
   "file_extension": ".sh",
   "mimetype": "text/x-sh",
   "name": "bash"
  }
 },
 "nbformat": 4,
 "nbformat_minor": 4
}
