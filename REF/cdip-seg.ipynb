{
 "cells": [
  {
   "cell_type": "code",
   "execution_count": null,
   "metadata": {
    "kernel": "Bash"
   },
   "outputs": [],
   "source": [
    "gsutil -m rm gs://lpr-temp/* > log 2>&1 || true\n",
    "tail log"
   ]
  },
  {
   "cell_type": "code",
   "execution_count": null,
   "metadata": {},
   "outputs": [],
   "source": [
    "src=gs://lpr-cdip-tess\n",
    "dst=gs://lpr-temp\n",
    "out=gs://lpr-cdip-seg"
   ]
  },
  {
   "cell_type": "code",
   "execution_count": null,
   "metadata": {
    "kernel": "Bash"
   },
   "outputs": [],
   "source": [
    "kubectl delete jobs --all 2>&1 | tail \n",
    "kubectl delete pods --all 2>&1 | tail\n",
    "kubectl delete services shuffle || true"
   ]
  },
  {
   "cell_type": "code",
   "execution_count": null,
   "metadata": {
    "kernel": "Bash"
   },
   "outputs": [],
   "source": [
    "cat > kubetpl.yaml <<'EOF'\n",
    "image: gcr.io/research-191823/simple\n",
    "memory: 8G\n",
    "app: shuffle\n",
    "subdomain: shuffle\n",
    "EOF"
   ]
  },
  {
   "cell_type": "code",
   "execution_count": null,
   "metadata": {
    "kernel": "Bash"
   },
   "outputs": [],
   "source": [
    "kubetpl service | kubectl apply -f -"
   ]
  },
  {
   "cell_type": "code",
   "execution_count": null,
   "metadata": {
    "kernel": "Bash"
   },
   "outputs": [],
   "source": [
    "gsutil ls $src | fgrep .tgz | cat -n | \n",
    "while read index src; do\n",
    "base=$(basename $src .tgz)\n",
    "echo $index $src $base\n",
    "kubetpl job -L jobgroup=mapper -M 8G -I gcr.io/research-191823/simple -n mapper$index -c \"\n",
    "python3 /files/hocr2markers $src /dev/stdout | gsutil cp - $dst/$base-seg.tgz\n",
    "\" | kubectl apply -f -\n",
    "done"
   ]
  },
  {
   "cell_type": "code",
   "execution_count": null,
   "metadata": {},
   "outputs": [],
   "source": [
    "sleep 60\n",
    "kubectl logs job.batch/mapper1 | tail"
   ]
  },
  {
   "cell_type": "code",
   "execution_count": null,
   "metadata": {},
   "outputs": [],
   "source": [
    "kubectl wait jobs -l jobgroup=mapper --for=condition=complete --timeout=-1s"
   ]
  }
 ],
 "metadata": {
  "kernelspec": {
   "display_name": "Bash",
   "language": "bash",
   "name": "bash"
  },
  "language_info": {
   "codemirror_mode": "shell",
   "file_extension": ".sh",
   "mimetype": "text/x-sh",
   "name": "bash"
  },
  "sos": {
   "kernels": [
    [
     "Bash",
     "bash",
     "Bash",
     "#E6EEFF",
     "shell"
    ]
   ],
   "panel": {
    "displayed": true,
    "height": 0
   },
   "version": "0.20.5"
  }
 },
 "nbformat": 4,
 "nbformat_minor": 4
}
