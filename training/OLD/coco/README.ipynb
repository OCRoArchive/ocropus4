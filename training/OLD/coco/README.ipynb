{
 "cells": [
  {
   "cell_type": "markdown",
   "metadata": {},
   "source": [
    "ocroline\n",
    "========\n",
    "\n",
    "An LSTM/CTC-based text line recognizer for printed text.\n",
    "\n",
    "In order to run this, you need a model. You can download a trained model\n",
    "for English from here:\n",
    "\n",
    "    https://storage.googleapis.com/tmb-models/line2-000003330-004377.pt\n",
    "\n",
    "Training is carried out using the `ocroline-train` command line\n",
    "program. This takes inputs in the form of tar files of training\n",
    "data as defined by [dlinputs](https://github.com/NVlabs/dlinputs).\n",
    "\n",
    "Recognition is carried out using the `ocroline.LineRecognizer` class.\n",
    "\n",
    "Note that `ocroline` requires a GPU for training, and the code currently also assumes a GPU for inference (although you could probably run the inference code without a GPU).\n",
    "\n",
    "There are some requirements for installation."
   ]
  },
  {
   "cell_type": "code",
   "execution_count": 1,
   "metadata": {},
   "outputs": [
    {
     "name": "stdout",
     "output_type": "stream",
     "text": [
      "-e git://github.com/NVlabs/dlinputs.git#egg=dlinputs\n",
      "-e git://github.com/NVlabs/dltrainers.git#egg=dltrainers\n",
      "-e git://github.com/tmbdev/cctc.git#egg=cctc\n",
      "editdistance\n"
     ]
    }
   ],
   "source": [
    "%%bash\n",
    "cat requirements.txt"
   ]
  },
  {
   "cell_type": "markdown",
   "metadata": {},
   "source": [
    "# Training"
   ]
  },
  {
   "cell_type": "markdown",
   "metadata": {},
   "source": [
    "Training files are just tar files containing `.png` and corresponding `.txt` files with the ground truth."
   ]
  },
  {
   "cell_type": "code",
   "execution_count": 2,
   "metadata": {},
   "outputs": [
    {
     "name": "stdout",
     "output_type": "stream",
     "text": [
      "-rw-rw-r-- tmb/tmb           1 2018-03-24 23:57 000000.index\n",
      "-rw-rw-r-- tmb/tmb        1470 2018-03-24 23:57 000000.png\n",
      "-rw-rw-r-- tmb/tmb          19 2018-03-24 23:57 000000.txt\n",
      "-rw-rw-r-- tmb/tmb           1 2018-03-24 23:57 000001.index\n",
      "-rw-rw-r-- tmb/tmb         424 2018-03-24 23:57 000001.png\n",
      "-rw-rw-r-- tmb/tmb           3 2018-03-24 23:57 000001.txt\n"
     ]
    },
    {
     "name": "stderr",
     "output_type": "stream",
     "text": [
      "tar: write error\n"
     ]
    }
   ],
   "source": [
    "%%bash\n",
    "tar -ztvf testdata/testlines.tgz | sed 6q"
   ]
  },
  {
   "cell_type": "markdown",
   "metadata": {},
   "source": [
    "This is read internally using the `dlinputs` library. This library is also used for training and has a large number of options for conversions, batching, and data augmentation."
   ]
  },
  {
   "cell_type": "code",
   "execution_count": 3,
   "metadata": {},
   "outputs": [
    {
     "name": "stdout",
     "output_type": "stream",
     "text": [
      "Populating the interactive namespace from numpy and matplotlib\n"
     ]
    }
   ],
   "source": [
    "%pylab inline\n",
    "rc(\"image\", cmap=\"gray\", interpolation=\"bicubic\")"
   ]
  },
  {
   "cell_type": "code",
   "execution_count": 4,
   "metadata": {},
   "outputs": [
    {
     "name": "stdout",
     "output_type": "stream",
     "text": [
      "Continuum Mechanics\n"
     ]
    },
    {
     "data": {
      "text/plain": [
       "<matplotlib.image.AxesImage at 0x7fea2b75e0d0>"
      ]
     },
     "execution_count": 4,
     "metadata": {},
     "output_type": "execute_result"
    },
    {
     "data": {
      "image/png": "[encoded data removed]",
      "text/plain": [
       "<Figure size 432x288 with 1 Axes>"
      ]
     },
     "metadata": {},
     "output_type": "display_data"
    }
   ],
   "source": [
    "from dlinputs import tarrecords\n",
    "sample = tarrecords.tariterator(open(\"testdata/testlines.tgz\")).next()\n",
    "print sample[\"txt\"]\n",
    "imshow(sample[\"png\"])"
   ]
  },
  {
   "cell_type": "markdown",
   "metadata": {},
   "source": [
    "The training data for the line recognizer needs to be sized normalized. You can use the functions in `lineest.CenterLineNormalizer` for that. In this training set, the data is already normalized."
   ]
  },
  {
   "cell_type": "code",
   "execution_count": 5,
   "metadata": {},
   "outputs": [
    {
     "name": "stdout",
     "output_type": "stream",
     "text": [
      "['CenterNormalizer', 'LineRecognizer', '__builtins__', '__doc__', '__file__', '__name__', '__package__', '__path__', 'lineest', 'recognizer']\n",
      "__key__ <type 'list'> ['000006', '000007', '000008', '000009', '000010']\n",
      "__source__ <type 'list'> ['testdata/testlines.tgz', 'testdata/testlines.tgz', 'testda\n",
      "_bucket 12\n",
      "image float64 (5, 48, 1295, 1)\n",
      "transcript float64 (5, 159, 97)\n",
      "input (3L, 48L, 20L, 1L)\n",
      "output (3L, 20L, 97L)\n",
      "Sequential(\n",
      "  (0): Reorder BHWD->BDHW\n",
      "  (1): CheckSizes [(0, 900), (1, 1), (48, 48), (0, 9000)]\n",
      "  (2): Conv2d(1, 100, kernel_size=(3, 3), stride=(1, 1), padding=(1, 1))\n",
      "  (3): ReLU()\n",
      "  (4): Reshape((0, [1, 2], 3))\n",
      "  (5): CheckSizes [(0, 900), (0, 5000), (0, 9000)]\n",
      "  (6): LSTM1:LSTM(4800, 100, bidirectional=1)\n",
      "  (7): Conv1d(200, 97, kernel_size=(1,), stride=(1,))\n",
      "  (8): Reorder BDW->BWD\n",
      "  (9): CheckSizes [(0, 900), (0, 9000), (97, 97)]\n",
      ")\n",
      "# 5\n",
      "TRU body fill a region in a four-dimensional Preisach space. A thermodynamical\n",
      "ALN \n",
      "PRE Z\n",
      "testset 100 1.0\n",
      "saving as testmodel-000000000-1000000.pt\n",
      "done\n"
     ]
    }
   ],
   "source": [
    "%%bash\n",
    "ocroline-train -d testdata/testlines.tgz -t testdata/testlines.tgz -T 100 -o testmodel --epochs 1"
   ]
  },
  {
   "cell_type": "markdown",
   "metadata": {},
   "source": [
    "Note that `ocroline-train` uses the convention that all models are saved as `prefix-000000000-000000.pt`, where the first number is the number of training samples used for training (in thousands) and the second number is the error rate times one million."
   ]
  },
  {
   "cell_type": "markdown",
   "metadata": {},
   "source": [
    "# Line Recognition"
   ]
  },
  {
   "cell_type": "code",
   "execution_count": 2,
   "metadata": {},
   "outputs": [],
   "source": [
    "%%bash\n",
    "model=line2-000003330-004377.pt\n",
    "test -f $model || wget --quiet -nd https://storage.googleapis.com/tmb-models/$model"
   ]
  },
  {
   "cell_type": "markdown",
   "metadata": {},
   "source": [
    "The `LineRecognizer` class wraps up the line recognizer in a small, simple-to-use class. This class will always perform line normalization on its input. It can also perform batching of multiple lines if you want to recognize multiple lines together."
   ]
  },
  {
   "cell_type": "code",
   "execution_count": 7,
   "metadata": {},
   "outputs": [
    {
     "data": {
      "text/plain": [
       "Sequential(\n",
       "  (0): Reorder BHWD->BDHW\n",
       "  (1): CheckSizes [(0, 900), (1, 1), (48, 48), (0, 9000)]\n",
       "  (2): Conv2d(1, 100, kernel_size=(3, 3), stride=(1, 1), padding=(1, 1))\n",
       "  (3): BatchNorm2d(100, eps=1e-05, momentum=0.1, affine=True)\n",
       "  (4): ReLU()\n",
       "  (5): MaxPool2d(kernel_size=(2, 1), stride=(2, 1), dilation=(1, 1), ceil_mode=False)\n",
       "  (6): Conv2d(100, 200, kernel_size=(3, 3), stride=(1, 1), padding=(1, 1))\n",
       "  (7): BatchNorm2d(200, eps=1e-05, momentum=0.1, affine=True)\n",
       "  (8): ReLU()\n",
       "  (9): Reshape((0, [1, 2], 3))\n",
       "  (10): CheckSizes [(0, 900), (0, 5000), (0, 9000)]\n",
       "  (11): LSTM1:LSTM(4800, 200, bidirectional=1)\n",
       "  (12): Conv1d(400, 97, kernel_size=(1,), stride=(1,))\n",
       "  (13): Reorder BDW->BWD\n",
       "  (14): CheckSizes [(0, 900), (0, 9000), (97, 97)]\n",
       ")"
      ]
     },
     "execution_count": 7,
     "metadata": {},
     "output_type": "execute_result"
    }
   ],
   "source": [
    "import ocroline\n",
    "rec = ocroline.LineRecognizer(\"line2-000003330-004377.pt\")\n",
    "rec.model"
   ]
  },
  {
   "cell_type": "code",
   "execution_count": 8,
   "metadata": {},
   "outputs": [
    {
     "data": {
      "text/plain": [
       "<matplotlib.image.AxesImage at 0x7fe9ea75f290>"
      ]
     },
     "execution_count": 8,
     "metadata": {},
     "output_type": "execute_result"
    },
    {
     "data": {
      "image/png": "[encoded data removed]",
      "text/plain": [
       "<Figure size 432x288 with 1 Axes>"
      ]
     },
     "metadata": {},
     "output_type": "display_data"
    }
   ],
   "source": [
    "imshow(sample[\"png\"])"
   ]
  },
  {
   "cell_type": "code",
   "execution_count": 9,
   "metadata": {},
   "outputs": [
    {
     "data": {
      "text/plain": [
       "'Continuum Mechanics'"
      ]
     },
     "execution_count": 9,
     "metadata": {},
     "output_type": "execute_result"
    }
   ],
   "source": [
    "rec.recognize_line(sample[\"png\"])"
   ]
  },
  {
   "cell_type": "code",
   "execution_count": null,
   "metadata": {},
   "outputs": [],
   "source": []
  }
 ],
 "metadata": {
  "kernelspec": {
   "display_name": "Python 2",
   "language": "python",
   "name": "python2"
  },
  "language_info": {
   "codemirror_mode": {
    "name": "ipython",
    "version": 2
   },
   "file_extension": ".py",
   "mimetype": "text/x-python",
   "name": "python",
   "nbconvert_exporter": "python",
   "pygments_lexer": "ipython2",
   "version": "2.7.12"
  }
 },
 "nbformat": 4,
 "nbformat_minor": 2
}
