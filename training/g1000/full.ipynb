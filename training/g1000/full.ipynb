{
 "cells": [
  {
   "cell_type": "markdown",
   "id": "democratic-university",
   "metadata": {
    "kernel": "SoS"
   },
   "source": [
    "# Full OCRopus 4 Training and Running\n",
    "\n",
    "This worksheet demonstrates OCRopus 4 training from start to finish, including bootstrapping using another OCR system.\n",
    "\n"
   ]
  },
  {
   "cell_type": "markdown",
   "id": "surface-lover",
   "metadata": {
    "kernel": "SoS"
   },
   "source": [
    "Important Notes:\n",
    "\n",
    "- this does NOT yield usable models since the training data set used in this worksheet is so small and limited\n",
    "- this implements the main components of an OCR system and is suitable for text indexing and other applications, but full page recognition requires some additional components"
   ]
  },
  {
   "cell_type": "code",
   "execution_count": null,
   "id": "decreased-creation",
   "metadata": {
    "kernel": "SoS"
   },
   "outputs": [],
   "source": [
    "import os\n",
    "os.getcwd()\n",
    "os.system(\"sos convert full.ipynb full.sos\")"
   ]
  },
  {
   "cell_type": "code",
   "execution_count": null,
   "id": "going-criminal",
   "metadata": {
    "kernel": "Bash",
    "tags": []
   },
   "outputs": [],
   "source": [
    "rm -f *.sqlite3 *.pth\n",
    "rm -f book-seg.tar book-words.tar book-lines.tar"
   ]
  },
  {
   "cell_type": "code",
   "execution_count": null,
   "id": "recreational-philadelphia",
   "metadata": {
    "kernel": "SoS"
   },
   "outputs": [],
   "source": [
    "[global]\n",
    "display = 10\n",
    "maxpages = 50; multiplier = 1\n",
    "# maxpages = 9999; multiplier = 1000\n",
    "maxextract = 1000 * multiplier\n",
    "nwordtrain = 1000 * multiplier\n",
    "nsegtrain = 200 * multiplier\n",
    "nrottrain = 200 * multiplier\n",
    "nskewtrain = 200 * multiplier\n",
    "nscaletrain = 200 * multiplier\n",
    "nbintrain = 10 * multiplier\n",
    "dataurl = 'http://storage.googleapis.com/ocropus4/Volume_0000.tar'"
   ]
  },
  {
   "cell_type": "markdown",
   "id": "cross-investing",
   "metadata": {
    "kernel": "SoS"
   },
   "source": [
    "# Download Dataset and Run Tesseract\n",
    "\n",
    "The dataset is Volume 0 from Google's 1000 Book dataset. These images are camera scanned, modest resolution, modest quality images. This volume contains a mix of English and Gaelic.\n",
    "\n",
    "_This dataset is used here for demonstration purposes only. It is not large or diverse enough to train a practical recognizer. You can obtain a usable recognizer by training on the UW3 dataset, but unfortunately that's not redistributable. We are currently putting together a larger, representative training set._\n",
    "\n",
    "We use Tesseract as our bootstrap OCR system."
   ]
  },
  {
   "cell_type": "code",
   "execution_count": null,
   "id": "bigger-moscow",
   "metadata": {
    "kernel": "SoS"
   },
   "outputs": [],
   "source": [
    "[download]\n",
    "input: []\n",
    "output: 'Volume_0000.tar'\n",
    "sh: expand=True\n",
    "    curl {dataurl} > Volume_0000.tar"
   ]
  },
  {
   "cell_type": "code",
   "execution_count": null,
   "id": "secret-reflection",
   "metadata": {
    "kernel": "SoS"
   },
   "outputs": [],
   "source": [
    "%sosrun download"
   ]
  },
  {
   "cell_type": "markdown",
   "id": "figured-brave",
   "metadata": {
    "kernel": "SoS"
   },
   "source": [
    "## Binarization\n",
    "\n",
    "By default, we binarize with a hardcoded binarizer based on grayscale morphology. This binarizer is purely CPU based (we may eventually port it to the GPU). It has worked very well in many different settings. "
   ]
  },
  {
   "cell_type": "code",
   "execution_count": null,
   "id": "pending-position",
   "metadata": {
    "kernel": "Bash",
    "tags": []
   },
   "outputs": [],
   "source": [
    "tarp cat --help"
   ]
  },
  {
   "cell_type": "code",
   "execution_count": null,
   "id": "other-universe",
   "metadata": {
    "kernel": "SoS"
   },
   "outputs": [],
   "source": [
    "[binarize]\n",
    "input: 'Volume_0000.tar'\n",
    "output: 'raw.tar'\n",
    "sh: expand=True\n",
    "    vocropus nlbin binarize {_input} --gray --output raw.tar --maxrec {maxpages}"
   ]
  },
  {
   "cell_type": "code",
   "execution_count": null,
   "id": "hollow-editor",
   "metadata": {
    "kernel": "SoS",
    "scrolled": true
   },
   "outputs": [],
   "source": [
    "%sosrun binarize"
   ]
  },
  {
   "cell_type": "markdown",
   "id": "confidential-foundation",
   "metadata": {
    "kernel": "SoS"
   },
   "source": [
    "## Bootstrap OCR Recognizer\n",
    "\n",
    "We're using Tesseract as the bootstrap OCR engine. Tesseract runs on the normalized images returned in the previous step. The bootstrap OCR recognizer can have a moderately high error rate and OCRopus 4 can still be trained on it successfully. In fact, once you have trained an initial OCRopus 4 recognizer, you can use it as the bootstrap recognizer for additional source materials. OCRopus 4 is, in effect, self-training and self-improving."
   ]
  },
  {
   "cell_type": "code",
   "execution_count": null,
   "id": "literary-scenario",
   "metadata": {
    "kernel": "SoS"
   },
   "outputs": [],
   "source": [
    "!rebuild=y ./dtess --help"
   ]
  },
  {
   "cell_type": "code",
   "execution_count": null,
   "id": "alone-width",
   "metadata": {
    "kernel": "SoS",
    "tags": []
   },
   "outputs": [],
   "source": [
    "[tess]\n",
    "input: 'raw.tar'\n",
    "output: 'tess.tar'\n",
    "sh: expand=True\n",
    "    rebuild=y dtess --help\n",
    "    tarp proc -c $(pwd)/'dtess sample.nrm.jpg sample.tess -l eng hocr; rm -f sample.lines.png sample.pseg.png' {_input} -o {_output}.tar.temp\n",
    "    mv {_output}.tar.temp {_output}"
   ]
  },
  {
   "cell_type": "code",
   "execution_count": null,
   "id": "velvet-customs",
   "metadata": {
    "kernel": "SoS",
    "scrolled": true,
    "tags": []
   },
   "outputs": [],
   "source": [
    "%sosrun tess"
   ]
  },
  {
   "cell_type": "markdown",
   "id": "neural-training",
   "metadata": {
    "kernel": "SoS"
   },
   "source": [
    "# Generating Training Datasets\n",
    "\n",
    "OCRopus 4 training starts with tar files containing pairs of images and corresponding hOCR output. These are used to generate training data for word and line recognition and page segmentation."
   ]
  },
  {
   "cell_type": "code",
   "execution_count": null,
   "id": "headed-concrete",
   "metadata": {
    "kernel": "Python3",
    "scrolled": true
   },
   "outputs": [],
   "source": [
    "%pylab inline"
   ]
  },
  {
   "cell_type": "code",
   "execution_count": null,
   "id": "qualified-arctic",
   "metadata": {
    "kernel": "Python3"
   },
   "outputs": [],
   "source": [
    "figsize(12, 8)\n",
    "import webdataset as wds\n",
    "from itertools import islice"
   ]
  },
  {
   "cell_type": "code",
   "execution_count": null,
   "id": "beginning-diamond",
   "metadata": {
    "kernel": "Python3",
    "scrolled": true
   },
   "outputs": [],
   "source": [
    "ds = wds.WebDataset(\"tess.tar\").decode(\"rgb8\")\n",
    "sample = next(islice(ds, 33, 999))\n",
    "print(sample.keys())\n",
    "print(sample[\"tess.hocr\"].decode(\"utf-8\"))"
   ]
  },
  {
   "cell_type": "code",
   "execution_count": null,
   "id": "modified-strike",
   "metadata": {
    "kernel": "Python3"
   },
   "outputs": [],
   "source": [
    "figsize(15, 10)\n",
    "imshow(sample[\"nrm.jpg\"])"
   ]
  },
  {
   "cell_type": "markdown",
   "id": "robust-african",
   "metadata": {
    "kernel": "Python3"
   },
   "source": [
    "## Segmentation Data\n",
    "\n",
    "Segmentation algorithms are usually trained on four-label segmentation targets consisting of markers, areas, separators, and background. The `extract-seg hocr2seg` subcommand extracts those training images.\n",
    "\n",
    "Ordinarily, we would extract this data from many shards and shuffle it for training, but we're dispensing with that in this simple example.\n"
   ]
  },
  {
   "cell_type": "code",
   "execution_count": null,
   "id": "colonial-archives",
   "metadata": {
    "kernel": "SoS"
   },
   "outputs": [],
   "source": [
    "[seg-data]\n",
    "input: 'tess.tar'\n",
    "output: 'book-seg.tar'\n",
    "sh: expand=True\n",
    "    export MPLBACKEND=TkAgg\n",
    "    vocropus extract-seg hocr2seg {_input} --output {_output}.temp --element ocrx_word --extensions 'nrm.jpg tess.hocr' --invert True \\\n",
    "        --show 100 --labels='1, 2, 3' --check word --maxcount {maxextract}\n",
    "    mv {_output}.temp {_output}\n"
   ]
  },
  {
   "cell_type": "code",
   "execution_count": null,
   "id": "approximate-oregon",
   "metadata": {
    "kernel": "SoS",
    "scrolled": true,
    "tags": []
   },
   "outputs": [],
   "source": [
    "%sosrun seg-data"
   ]
  },
  {
   "cell_type": "code",
   "execution_count": null,
   "id": "needed-hanging",
   "metadata": {
    "kernel": "Python3"
   },
   "outputs": [],
   "source": [
    "ds = wds.WebDataset(\"book-seg.tar\").decode(\"rgb\")\n",
    "sample= next(islice(iter(ds), 5, 999))\n",
    "print(sample.keys())\n",
    "subplot(121); imshow(sample[\"png\"])\n",
    "subplot(122); imshow(sample[\"seg.png\"][...,2])"
   ]
  },
  {
   "cell_type": "markdown",
   "id": "guilty-disposition",
   "metadata": {
    "kernel": "Python3"
   },
   "source": [
    "## Word Training Data\n",
    "\n",
    "As before, we use `extract-rec hocr2rec` to extract word training images."
   ]
  },
  {
   "cell_type": "code",
   "execution_count": null,
   "id": "returning-cable",
   "metadata": {
    "kernel": "SoS",
    "tags": []
   },
   "outputs": [],
   "source": [
    "[word-data]\n",
    "input: 'tess.tar'\n",
    "output: 'book-words.tar'\n",
    "sh: expand=True\n",
    "    vocropus extract-rec hocr2rec {_input} --output {_output}.temp --element ocrx_word --extensions 'nrm.jpg tess.hocr' \\\n",
    "        --bounds 10,10,500,100 --dictionary /usr/share/dict/american-english-huge --maxcount {maxextract} \\\n",
    "        --acceptable-conf 60.0\n",
    "    mv {_output}.temp {_output}"
   ]
  },
  {
   "cell_type": "code",
   "execution_count": null,
   "id": "confirmed-circle",
   "metadata": {
    "kernel": "SoS",
    "scrolled": true,
    "tags": []
   },
   "outputs": [],
   "source": [
    "%sosrun word-data"
   ]
  },
  {
   "cell_type": "code",
   "execution_count": null,
   "id": "necessary-charm",
   "metadata": {
    "kernel": "Python3"
   },
   "outputs": [],
   "source": [
    "figsize(12, 8)\n",
    "import webdataset as wds\n",
    "from itertools import islice\n",
    "ds = wds.WebDataset(\"book-words.tar\").decode(\"rgb\")\n",
    "start = 55\n",
    "for i, sample in enumerate(islice(iter(ds), start, start+250, 10)):\n",
    "    subplot(5, 5, i+1)\n",
    "    imshow(sample[\"png\"])\n",
    "    title(sample[\"txt\"])"
   ]
  },
  {
   "cell_type": "markdown",
   "id": "interpreted-touch",
   "metadata": {
    "kernel": "Python3"
   },
   "source": [
    "## Detecting Character Outliers\n",
    "\n",
    "We need to decide on a character training set. Here is some optional code that goes through all training strings and identifies rare and unusual characters.\n",
    "\n",
    "You can use the output from this optional step either to transform the text strings in the training data, or to add new character set classes to OCRopus 4."
   ]
  },
  {
   "cell_type": "code",
   "execution_count": null,
   "id": "statutory-interim",
   "metadata": {
    "kernel": "SoS"
   },
   "outputs": [],
   "source": [
    "[detect-outliers]\n",
    "input: 'book-words.tar'\n",
    "output: 'bad-chars.txt'\n",
    "\n",
    "python:\n",
    "\n",
    "    ds = wds.WebDataset(\"book-words.tar\").decode(\"rgb\")\n",
    "    alltext = [sample[\"txt\"] for sample in ds]\n",
    "\n",
    "    from collections import Counter\n",
    "    counter = Counter()\n",
    "    for s in alltext: counter.update(s)\n",
    "\n",
    "    for c, n in counter.most_common():\n",
    "        if len(str(c.encode(\"unicode_escape\"))) > 4:\n",
    "            print(f\"\"\"{c} {str(c.encode(\"unicode_escape\")):10s} {n:10d}\"\"\")"
   ]
  },
  {
   "cell_type": "markdown",
   "id": "worthy-lunch",
   "metadata": {
    "kernel": "SoS"
   },
   "source": [
    "# Training a Word Segmenter\n",
    "\n",
    "This is the training script for word segmentation. It's pretty straightforward and just uses the `book-seg.tar` data generated previously.\n",
    "\n",
    "All training jobs log to Sqlite3 databases and also save their models into those databases. You can use the `ocropus4 slog` subcommand to extract the best or the last model and plot training curves."
   ]
  },
  {
   "cell_type": "code",
   "execution_count": null,
   "id": "quarterly-beads",
   "metadata": {
    "kernel": "SoS"
   },
   "outputs": [],
   "source": [
    "[train-segs]\n",
    "input: 'book-seg.tar'\n",
    "output: 'segtrain.pth'\n",
    "sh: expand=True\n",
    "    export MPLBACKEND=TkAgg\n",
    "    vocropus ocroseg train {_input} --log-to segtrain.sqlite3 --ntrain {nsegtrain} --display {display}\n",
    "    vocropus slog getlast segtrain.sqlite3 --output {_output}"
   ]
  },
  {
   "cell_type": "code",
   "execution_count": null,
   "id": "forced-romantic",
   "metadata": {
    "kernel": "SoS",
    "scrolled": true,
    "tags": []
   },
   "outputs": [],
   "source": [
    "%sosrun train-segs"
   ]
  },
  {
   "cell_type": "markdown",
   "id": "purple-clarity",
   "metadata": {
    "kernel": "SoS"
   },
   "source": [
    "# Training a Word Recognizer\n",
    "\n",
    "To train a word recognizer, we use the `ocrorec train` command using the `book-words.tar` dataset."
   ]
  },
  {
   "cell_type": "code",
   "execution_count": null,
   "id": "differential-laptop",
   "metadata": {
    "kernel": "SoS"
   },
   "outputs": [],
   "source": [
    "[train-words]\n",
    "input: 'book-words.tar'\n",
    "output: 'wordtrain.pth'\n",
    "sh: expand=True\n",
    "    export MPLBACKEND=TkAgg\n",
    "    vocropus ocrorec train {_input} --log-to wordtrain.sqlite3 --ntrain {nwordtrain} --display {display}\n",
    "    vocropus slog getlast wordtrain.sqlite3 --output {_output}"
   ]
  },
  {
   "cell_type": "code",
   "execution_count": null,
   "id": "superb-bikini",
   "metadata": {
    "kernel": "SoS",
    "scrolled": true
   },
   "outputs": [],
   "source": [
    "%sosrun train-words"
   ]
  },
  {
   "cell_type": "markdown",
   "id": "mature-negotiation",
   "metadata": {
    "kernel": "SoS"
   },
   "source": [
    "# Line Segmentation\n",
    "\n",
    "The base recognizer recognizes individual words; these need to be grouped into text lines as part of the recognition process. We train a separate text line segmentation model for this. The procedure is the same as for word segmentation: we generate line segmentation images for training and then use the `ocroseg train` command to train a segmenter."
   ]
  },
  {
   "cell_type": "code",
   "execution_count": null,
   "id": "pressed-courage",
   "metadata": {
    "kernel": "SoS",
    "tags": []
   },
   "outputs": [],
   "source": [
    "[line-data]\n",
    "input: 'tess.tar'\n",
    "output: 'book-lines.tar'\n",
    "sh: expand=True\n",
    "    export MPLBACKEND=TkAgg\n",
    "    vocropus extract-seg hocr2seg {_input} --output {_output}.temp --element ocr_line --extensions 'nrm.jpg tess.hocr' --invert True \\\n",
    "        --show 100 --labels='1, 2, 3' --check line --maxcount {maxextract}\n",
    "    mv {_output}.temp {_output}\n"
   ]
  },
  {
   "cell_type": "code",
   "execution_count": null,
   "id": "aggressive-suspect",
   "metadata": {
    "kernel": "SoS",
    "scrolled": true,
    "tags": []
   },
   "outputs": [],
   "source": [
    "%sosrun line-data"
   ]
  },
  {
   "cell_type": "code",
   "execution_count": null,
   "id": "terminal-holder",
   "metadata": {
    "kernel": "Python3",
    "tags": []
   },
   "outputs": [],
   "source": [
    "ds = wds.WebDataset(\"book-lines.tar\").decode(\"rgb\")\n",
    "sample= next(islice(iter(ds), 100, 999))\n",
    "print(sample.keys())\n",
    "subplot(121); imshow(sample[\"png\"])\n",
    "subplot(122); imshow(sample[\"seg.png\"][...,2])"
   ]
  },
  {
   "cell_type": "code",
   "execution_count": null,
   "id": "cardiac-terrace",
   "metadata": {
    "kernel": "SoS"
   },
   "outputs": [],
   "source": [
    "[train-lines]\n",
    "input: 'book-lines.tar'\n",
    "output: 'linetrain.pth'\n",
    "sh: expand=True\n",
    "    export MPLBACKEND=TkAgg\n",
    "    vocropus ocroseg train {_input} --log-to linetrain.sqlite3 --ntrain {nsegtrain} --display {display}\n",
    "    rm -f {_output}\n",
    "    vocropus slog getlast linetrain.sqlite3 --output {_output}"
   ]
  },
  {
   "cell_type": "code",
   "execution_count": null,
   "id": "backed-naples",
   "metadata": {
    "kernel": "SoS",
    "scrolled": true,
    "tags": []
   },
   "outputs": [],
   "source": [
    "%sosrun train-lines"
   ]
  },
  {
   "cell_type": "markdown",
   "id": "discrete-cooper",
   "metadata": {
    "kernel": "SoS"
   },
   "source": [
    "# Running the Page Recognizer\n",
    "\n",
    "The page reocgnizer consists of several steps:\n",
    "\n",
    "- word segmentation: segment the input page into individual words\n",
    "- word recognition: apply the word recognizer to the word segments\n",
    "- line segmentation: apply the line segmenter to obtain text line seeds\n",
    "- grouping: use the line segmentation output to group word boxes into text line\n",
    "- sorting: text lines are finally sorted in a simple way to obtain the final output\n",
    "\n",
    "Output is both in .tar format and as a single .html file in hOCR format (the hOCR is not compliant yet).\n",
    "\n",
    "The final sort currently uses simple heuristics; eventually, there will be a second grouping step based on text block training."
   ]
  },
  {
   "cell_type": "code",
   "execution_count": null,
   "id": "funny-ukraine",
   "metadata": {
    "kernel": "SoS"
   },
   "outputs": [],
   "source": [
    "[page-recognition]\n",
    "input: 'tess.tar'\n",
    "output: 'recognized.tar'\n",
    "sh: expand=True\n",
    "    export MPLBACKEND=TkAgg\n",
    "    vocropus pagerec recognize {_input} --output {_output} --recmodel wordtrain.pth --segmodel segtrain.pth --lgmodel linetrain.pth --full-html recognized.html --extensions nrm.jpg --maxrec 10"
   ]
  },
  {
   "cell_type": "code",
   "execution_count": null,
   "id": "bronze-atlanta",
   "metadata": {
    "kernel": "SoS",
    "scrolled": true,
    "tags": []
   },
   "outputs": [],
   "source": [
    "%sosrun page-recognition"
   ]
  },
  {
   "cell_type": "markdown",
   "id": "mathematical-shoulder",
   "metadata": {
    "kernel": "SoS"
   },
   "source": [
    "Here are some recognition results; these are NOT representative of what is achievable with OCRopus 4, since they are recognition results obtained on a tiny training data set with limited training data. Given this very limited training, recognition performance is actually pretty good."
   ]
  },
  {
   "cell_type": "code",
   "execution_count": null,
   "id": "clinical-berkeley",
   "metadata": {
    "kernel": "SoS"
   },
   "outputs": [],
   "source": [
    "!lynx -dump recognized.html | tail -30"
   ]
  },
  {
   "cell_type": "markdown",
   "id": "valued-anthony",
   "metadata": {
    "kernel": "SoS"
   },
   "source": [
    "# Page Orientation\n",
    "\n",
    "Before any kind of document processing, it is a good idea to ensure that pages are right side up. The `ocrorot` command handles this. We can first train a page orientation model and then apply it to correct the orientation of pages. Training just requires a collection of pages in right-side-up orientation as input."
   ]
  },
  {
   "cell_type": "code",
   "execution_count": null,
   "id": "interstate-toolbox",
   "metadata": {
    "kernel": "SoS"
   },
   "outputs": [],
   "source": [
    "[train-rot]\n",
    "input: 'tess.tar'\n",
    "output: 'rottrain.pth'\n",
    "sh: expand=True\n",
    "    export MPLBACKEND=TkAgg\n",
    "    base=$(basename {_output} .pth)\n",
    "    rm -f $base.sqlite3\n",
    "    vocropus ocrorot train {_input} --display 15 --output $base.sqlite3 --nsamples {nrottrain} --replicate 8 --num-workers 8 --extensions nrm.jpg\n",
    "    vocropus slog getbest $base.sqlite3 --output {_output}"
   ]
  },
  {
   "cell_type": "code",
   "execution_count": null,
   "id": "continent-simon",
   "metadata": {
    "kernel": "SoS",
    "scrolled": true,
    "tags": []
   },
   "outputs": [],
   "source": [
    "%sosrun train-rot"
   ]
  },
  {
   "cell_type": "code",
   "execution_count": null,
   "id": "pregnant-archives",
   "metadata": {
    "kernel": "SoS"
   },
   "outputs": [],
   "source": [
    "[predict-rot]\n",
    "input: 'rottrain.pth'\n",
    "sh: expand=True\n",
    "    vocropus ocrorot correct tess.tar --nsamples 10 --model rottrain.pth"
   ]
  },
  {
   "cell_type": "code",
   "execution_count": null,
   "id": "incredible-rebound",
   "metadata": {
    "kernel": "SoS"
   },
   "outputs": [],
   "source": [
    "%sosrun predict-rot"
   ]
  },
  {
   "cell_type": "markdown",
   "id": "fantastic-employee",
   "metadata": {
    "kernel": "SoS"
   },
   "source": [
    "# Page Skew Correction\n",
    "\n",
    "\"Page skew\" refers to small rotations of scanned pages--small deviations from the vertical. The `ocroskew` command can be used to train page skew models and perform page skew correction. These models are generally trained and applied after page orientation correction. Training just requires a collection of already deskewed images as input."
   ]
  },
  {
   "cell_type": "code",
   "execution_count": null,
   "id": "national-recipient",
   "metadata": {
    "kernel": "SoS"
   },
   "outputs": [],
   "source": [
    "[train-skew]\n",
    "input: 'tess.tar'\n",
    "output: 'skewtrain.pth'\n",
    "sh: expand=True\n",
    "    export MPLBACKEND=TkAgg\n",
    "    base=$(basename {_output} .pth)\n",
    "    rm -f $base.sqlite3\n",
    "    vocropus ocroskew train {_input} --display 15 --output $base.sqlite3 --nsamples {nskewtrain} --replicate 8 --num-workers 8 --extensions 'nrm.jpg'\n",
    "    vocropus slog getbest $base.sqlite3 --output {_output}"
   ]
  },
  {
   "cell_type": "code",
   "execution_count": null,
   "id": "driving-water",
   "metadata": {
    "kernel": "SoS"
   },
   "outputs": [],
   "source": [
    "%sosrun train-skew"
   ]
  },
  {
   "cell_type": "code",
   "execution_count": null,
   "id": "atlantic-baghdad",
   "metadata": {
    "kernel": "SoS"
   },
   "outputs": [],
   "source": [
    "[predict-skew]\n",
    "input: 'skewtrain.pth'\n",
    "sh: expand=True\n",
    "    vocropus ocroskew correct tess.tar --nsamples 10 --model skewtrain.pth"
   ]
  },
  {
   "cell_type": "code",
   "execution_count": null,
   "id": "included-indonesia",
   "metadata": {
    "kernel": "SoS"
   },
   "outputs": [],
   "source": [
    "%sosrun predict-skew"
   ]
  },
  {
   "cell_type": "markdown",
   "id": "ancient-hypothesis",
   "metadata": {
    "kernel": "SoS"
   },
   "source": [
    "# Page Scale Analysis\n",
    "\n",
    "Document layout analysis, and to a lesser degree text recognition, assumes that documents are presented at a fairly consistent image resolution (usually 300 dpi). The `ocroscale` command can be trained on a collection of documents at the desired target resolution (e.g., 300 dpi) and when applied to novel documents, will estimate the document scale relative to the training collection. No other ground truth is necessary.\n",
    "\n",
    "The `ocroscale` command has the option for page-by-page \"scale correction\", though for bulk processing, it is better to estimate the scale factor for a new batch of documents once and then rescale the entire document batch with a consistent scale."
   ]
  },
  {
   "cell_type": "code",
   "execution_count": null,
   "id": "auburn-ending",
   "metadata": {
    "kernel": "SoS"
   },
   "outputs": [],
   "source": [
    "[train-scale]\n",
    "input: 'tess.tar'\n",
    "output: 'scaletrain.pth'\n",
    "sh: expand=True\n",
    "    export MPLBACKEND=TkAgg\n",
    "    base=$(basename {_output} .pth)\n",
    "    rm -f $base.sqlite3\n",
    "    vocropus ocroscale train {_input} --display 15 --output $base.sqlite3 --nsamples {nscaletrain} --replicate 8 --num-workers 8\n",
    "    vocropus slog getbest $base.sqlite3 --output {_output}"
   ]
  },
  {
   "cell_type": "code",
   "execution_count": null,
   "id": "manufactured-frank",
   "metadata": {
    "kernel": "SoS",
    "tags": []
   },
   "outputs": [],
   "source": [
    "%sosrun train-scale"
   ]
  },
  {
   "cell_type": "code",
   "execution_count": null,
   "id": "prescribed-midwest",
   "metadata": {
    "kernel": "SoS"
   },
   "outputs": [],
   "source": [
    "[predict-scale]\n",
    "input: 'scaletrain.pth'\n",
    "sh: expand=True\n",
    "    vocropus ocroscale hist tess.tar --nsamples 10 --model scaletrain.pth"
   ]
  },
  {
   "cell_type": "code",
   "execution_count": null,
   "id": "synthetic-trail",
   "metadata": {
    "kernel": "SoS"
   },
   "outputs": [],
   "source": [
    "%sosrun predict-scale"
   ]
  },
  {
   "cell_type": "markdown",
   "id": "south-queens",
   "metadata": {
    "kernel": "SoS"
   },
   "source": [
    "# Document Binarization Models\n",
    "\n",
    "For most documents, it is best to first convert them to binary format. Binarization models can be trained and applied with the `ocrobin` command.\n",
    "\n",
    "Here, we are training the binarization model on the output of the `nlbin` command. While this may seem redundant, the `ocrobin` output is actually slightly better, and more importantly, the `ocrobin` binarizer runs on the GPU and is faster."
   ]
  },
  {
   "cell_type": "code",
   "execution_count": null,
   "id": "polyphonic-museum",
   "metadata": {
    "kernel": "SoS"
   },
   "outputs": [],
   "source": [
    "[train-bin]\n",
    "input: 'raw.tar'\n",
    "output: 'bintrain.pth'\n",
    "sh: expand=True\n",
    "    export MPLBACKEND=TkAgg\n",
    "    base=$(basename {_output} .pth)\n",
    "    rm -f $base.sqlite3\n",
    "    vocropus ocrobin train {_input} --display 15 --output $base.sqlite3 --nsamples {nbintrain} --extensions 'jpg nrm.jpg' --lr 1e-3 --replicate 8 --num-workers 8\n",
    "    vocropus slog getbest $base.sqlite3 --output {_output}"
   ]
  },
  {
   "cell_type": "code",
   "execution_count": null,
   "id": "sound-appreciation",
   "metadata": {
    "kernel": "SoS"
   },
   "outputs": [],
   "source": [
    "%sosrun train-bin"
   ]
  }
 ],
 "metadata": {
  "kernelspec": {
   "display_name": "SoS",
   "language": "sos",
   "name": "sos"
  },
  "language_info": {
   "codemirror_mode": "sos",
   "file_extension": ".sos",
   "mimetype": "text/x-sos",
   "name": "sos",
   "nbconvert_exporter": "sos_notebook.converter.SoS_Exporter",
   "pygments_lexer": "sos"
  },
  "sos": {
   "kernels": [
    [
     "Bash",
     "bash",
     "bash",
     "",
     "shell"
    ],
    [
     "Python3",
     "python3",
     "Python3",
     "#FFD91A",
     {
      "name": "ipython",
      "version": 3
     }
    ],
    [
     "SoS",
     "sos",
     "",
     "",
     "sos"
    ]
   ],
   "panel": {
    "displayed": true,
    "height": 0
   },
   "version": "0.22.4"
  }
 },
 "nbformat": 4,
 "nbformat_minor": 5
}
