{
 "cells": [
  {
   "cell_type": "markdown",
   "metadata": {},
   "source": [
    "# Extract Raw Lines from UW3 Data\n",
    "\n",
    "This doesn't work well because the \"1ground.txt\" data is somewhat inconsistent. \n",
    "\n",
    "Use the hOCR data instead, which was derived from the DAFS output."
   ]
  },
  {
   "cell_type": "code",
   "execution_count": 1,
   "metadata": {},
   "outputs": [
    {
     "name": "stdout",
     "output_type": "stream",
     "text": [
      "Populating the interactive namespace from numpy and matplotlib\n"
     ]
    }
   ],
   "source": [
    "%pylab inline"
   ]
  },
  {
   "cell_type": "code",
   "execution_count": 2,
   "metadata": {},
   "outputs": [],
   "source": [
    "import glob\n",
    "import PIL\n",
    "import webdataset as wds\n",
    "import os\n",
    "import os.path\n",
    "import io\n",
    "from ocrlib import extract_seg\n",
    "from random import randrange"
   ]
  },
  {
   "cell_type": "code",
   "execution_count": 3,
   "metadata": {},
   "outputs": [
    {
     "data": {
      "text/plain": [
       "dict_keys(['__key__', '1cond.txt', '1ground.txt', '1pageattr.txt', '1pageboxs.txt', '1zoneattr.txt', '1zoneboxs.txt', 'dafs', 'dafs.txt', 'image.tif', 'labzones.txt', 'linebox.txt', 'wordbox.txt', 'zonebox.txt'])"
      ]
     },
     "execution_count": 3,
     "metadata": {},
     "output_type": "execute_result"
    }
   ],
   "source": [
    "for i, sample in enumerate(wds.Dataset(\"uw3/uw3-original.tar\").decode()):\n",
    "    break\n",
    "sample.keys()"
   ]
  },
  {
   "cell_type": "code",
   "execution_count": 47,
   "metadata": {},
   "outputs": [
    {
     "data": {
      "text/plain": [
       "{'lboxes': [(738, 591, 2201, 645),\n",
       "  (738, 639, 2203, 696),\n",
       "  (738, 689, 2204, 742),\n",
       "  (737, 740, 2207, 791),\n",
       "  (737, 789, 2208, 840),\n",
       "  (737, 839, 2206, 891),\n",
       "  (738, 888, 2210, 932),\n",
       "  (738, 937, 2208, 994),\n",
       "  (739, 988, 2207, 1044),\n",
       "  (738, 1037, 2205, 1084),\n",
       "  (738, 1088, 2207, 1132),\n",
       "  (738, 1136, 2209, 1182),\n",
       "  (738, 1186, 2208, 1230),\n",
       "  (738, 1237, 2206, 1280),\n",
       "  (738, 1285, 1092, 1323)],\n",
       " 'DOCUMENT_ID': 'A04P',\n",
       " 'ZONE_ID': '002'}"
      ]
     },
     "execution_count": 47,
     "metadata": {},
     "output_type": "execute_result"
    }
   ],
   "source": [
    "def parse_lboxes(sample):\n",
    "    r = dict(lboxes=[])\n",
    "    result = {}\n",
    "    for l in sample[\"linebox.txt\"].strip().split(\"\\n\")[1:] + [\"LLLLL\"]:\n",
    "        #print(\"#\", l)\n",
    "        if l==\"LLLLL\":\n",
    "            assert r[\"ZONE_ID\"] not in result\n",
    "            result[r[\"ZONE_ID\"]] = r\n",
    "            r = dict(lboxes=[])\n",
    "            continue\n",
    "        k, v = [s.strip() for s in l.split(\"=\", 1)]\n",
    "        if k == \"TEXT_LINE_BOX\":\n",
    "            r[\"lboxes\"].append(tuple(int(x) for x in v.split()))\n",
    "        else:\n",
    "            r[k] = v\n",
    "    return result\n",
    "parse_lboxes(sample)[\"002\"]"
   ]
  },
  {
   "cell_type": "code",
   "execution_count": 21,
   "metadata": {},
   "outputs": [
    {
     "data": {
      "text/plain": [
       "{'DOCUMENT_ID': 'A002',\n",
       " 'ZONE_ID': '002',\n",
       " 'gt': ['Table 1. Description of the basal friction coefficients for 3 model types. For type I models the friction coefficient \\\\mu depends on the spa-',\n",
       "  'tial variable, for type II models \\\\mu is velocity dependent, whereas for type III models the friction coefficient is both, position and velocity',\n",
       "  'dependent']}"
      ]
     },
     "execution_count": 21,
     "metadata": {},
     "output_type": "execute_result"
    }
   ],
   "source": [
    "def parse_gt(sample):\n",
    "    r = {}\n",
    "    result = {}\n",
    "    lines = sample[\"1ground.txt\"].strip().split(\"\\n\") + [\"GGGGG\"]\n",
    "    while len(lines) > 0:\n",
    "        assert lines[0] == \"GGGGG\"\n",
    "        if len(lines) == 1:\n",
    "            break\n",
    "        doc = lines[1]\n",
    "        zone = lines[2]\n",
    "        gt = []\n",
    "        del lines[:3]\n",
    "        while lines[0] != \"GGGGG\":\n",
    "            gt.append(lines[0])\n",
    "            del lines[0]\n",
    "        assert len(gt) > 0\n",
    "        if not gt[0].startswith(\"non-text:\"):\n",
    "            result[zone] = dict(DOCUMENT_ID=doc, ZONE_ID=zone, gt=gt)\n",
    "        doc = None\n",
    "        zone = None\n",
    "        gt = None\n",
    "    return result\n",
    "parse_gt(sample)[\"002\"]"
   ]
  },
  {
   "cell_type": "code",
   "execution_count": 54,
   "metadata": {},
   "outputs": [
    {
     "name": "stdout",
     "output_type": "stream",
     "text": [
      "Continuum Mech. Thermodyn. 1 (1989) 283-303\n",
      "Continuum Mechanics\n",
      "and\n",
      "Thermodynamics\n",
      "\\copyright Springer-Verlag 1989\n",
      "A mathematical model for the hysteresis\n",
      "in shape memory alloys\n",
      "Yongzhong Huo\n",
      "The Preisach Model for ferromagnets is generalized and adapted for the\n",
      "description of the hysteretic behaviour of a polycrystalline specimen of shape-\n",
      "memory alloys. The thermodynamical properties of the individual crystallites\n",
      "are described by the Landau-Devonshire free energy which contains four\n",
      "parameters. The corresponding quadruplets of parameters of a polycrystalline\n",
      "body fill a region in a four-dimensional Preisach space. A thermodynamical\n",
      "loading path will sweep surfaces across this region and change phases in the\n",
      "process. The physical problem of the response of a specimen to applied loads\n",
      "is thus converted into the geometrical problem of counting volumes between\n",
      "moving surfaces. This conversion facilitates the numerical evaluation of the\n",
      "effect of complicated loading paths.\n",
      "Load-deformation curves and deformation-temperature curves are simulat-\n",
      "ed that agree well with observed ones, at least qualitatively. Special attention\n",
      "is given to the interior of the hysteresis loops. It turns out that inside the\n",
      "loops the ``state'' of the body is not fully described by the phase fractions;\n",
      "rather the past history will have a considerable effect.\n",
      "1 Introduction\n",
      "The phase transitions in a single-crystal specimen of shape-memory alloys mani-\n",
      "fest themselves in abrupt changes of deformation during loading or during changes\n",
      "of temperature. The Landau-Devonshire model provides an analytic description\n",
      "of such transitions. It characterizes the material by four parameters.\n",
      "In a polycrystalline specimen the jumps of deformation are smoothed out,\n",
      "because each crystallite responds differently to changes in load and temperature;\n",
      "one may say that each crystallite is characterized by different quadruplets of para-\n",
      "meters. These quadruplets are points in a four-dimensional space, which we call\n",
      "the Preisach space in recognition of a similar construction by Preisach [1] con-\n",
      "cerning ferromagnets. The quadruplets of all crystallites in the specimen fill a\n",
      "\n"
     ]
    }
   ],
   "source": [
    "def page_text(sample):\n",
    "    gt = []\n",
    "    lines = sample[\"1ground.txt\"].strip().split(\"\\n\") + [\"GGGGG\"]\n",
    "    while len(lines) > 0:\n",
    "        assert lines[0] == \"GGGGG\"\n",
    "        if len(lines) == 1:\n",
    "            break\n",
    "        del lines[:3]\n",
    "        while lines[0] != \"GGGGG\":\n",
    "            gt.append(lines[0])\n",
    "            del lines[0]\n",
    "    return \"\\n\".join(gt) + \"\\n\"\n",
    "print(page_text(sample))"
   ]
  },
  {
   "cell_type": "code",
   "execution_count": 63,
   "metadata": {},
   "outputs": [],
   "source": [
    "def lines_and_gt(sample):\n",
    "    gt = parse_gt(sample)\n",
    "    bb = parse_lboxes(sample)\n",
    "    result = []\n",
    "    for zone in gt.keys():\n",
    "        if zone not in bb:\n",
    "            print(f\"{zone} zone mismatch\", file=sys.stderr)\n",
    "            continue\n",
    "        assert zone in bb, (zone, bb.keys())\n",
    "        assert gt[zone][\"DOCUMENT_ID\"] == bb[zone][\"DOCUMENT_ID\"]\n",
    "        assert gt[zone][\"ZONE_ID\"] == bb[zone][\"ZONE_ID\"]\n",
    "        textlines = gt[zone][\"gt\"]\n",
    "        boxes = bb[zone][\"lboxes\"]\n",
    "        if len(textlines) != len(boxes):\n",
    "            print(f\"{zone} gt mismatch {len(textlines)} != {len(boxes)}\", file=sys.stderr)\n",
    "            continue\n",
    "        for txt, bbox in zip(textlines, boxes):\n",
    "            r = dict(\n",
    "                doc=gt[zone][\"DOCUMENT_ID\"],\n",
    "                zone=gt[zone][\"ZONE_ID\"],\n",
    "                bbox=bbox,\n",
    "                txt=txt\n",
    "            )\n",
    "            result.append(r)\n",
    "    return result"
   ]
  },
  {
   "cell_type": "code",
   "execution_count": 64,
   "metadata": {},
   "outputs": [
    {
     "name": "stderr",
     "output_type": "stream",
     "text": [
      "007 gt mismatch 3 != 4\n",
      "008 gt mismatch 2 != 1\n",
      "001 gt mismatch 1 != 0\n",
      "002 gt mismatch 7 != 6\n",
      "00C gt mismatch 5 != 4\n",
      "00L gt mismatch 2 != 1\n",
      "002 gt mismatch 14 != 15\n",
      "00B gt mismatch 2 != 1\n",
      "003 gt mismatch 1 != 0\n",
      "000 gt mismatch 17 != 16\n",
      "004 gt mismatch 21 != 16\n",
      "005 gt mismatch 64 != 50\n",
      "006 gt mismatch 9 != 8\n",
      "000 gt mismatch 21 != 16\n",
      "002 gt mismatch 11 != 8\n",
      "007 gt mismatch 2 != 1\n",
      "003 gt mismatch 18 != 17\n",
      "007 gt mismatch 1 != 0\n",
      "000 gt mismatch 9 != 8\n",
      "009 gt mismatch 1 != 0\n",
      "00A gt mismatch 5 != 4\n",
      "005 gt mismatch 1 != 0\n",
      "00J gt mismatch 4 != 3\n",
      "000 gt mismatch 1 != 0\n",
      "00B zone mismatch\n",
      "007 gt mismatch 6 != 5\n",
      "008 gt mismatch 3 != 6\n",
      "009 gt mismatch 1 != 3\n",
      "00A gt mismatch 3 != 1\n",
      "00B gt mismatch 5 != 3\n",
      "005 gt mismatch 1 != 0\n",
      "007 gt mismatch 3 != 2\n",
      "00G gt mismatch 7 != 8\n",
      "00H gt mismatch 7 != 6\n",
      "00A gt mismatch 17 != 18\n",
      "00K gt mismatch 22 != 24\n",
      "00A gt mismatch 4 != 3\n",
      "00E gt mismatch 2 != 1\n",
      "005 gt mismatch 5 != 6\n",
      "006 gt mismatch 7 != 6\n",
      "00D gt mismatch 1 != 2\n",
      "00E gt mismatch 2 != 1\n",
      "002 gt mismatch 3 != 2\n",
      "00H gt mismatch 1 != 0\n",
      "001 gt mismatch 1 != 2\n",
      "00D gt mismatch 2 != 3\n",
      "00E gt mismatch 4 != 3\n",
      "006 gt mismatch 2 != 1\n",
      "003 gt mismatch 1 != 0\n",
      "00B gt mismatch 7 != 6\n",
      "00C gt mismatch 13 != 14\n",
      "001 gt mismatch 1 != 2\n",
      "002 gt mismatch 1 != 0\n",
      "006 gt mismatch 3 != 2\n",
      "004 gt mismatch 18 != 13\n",
      "002 gt mismatch 3 != 2\n",
      "005 gt mismatch 8 != 7\n",
      "001 gt mismatch 26 != 19\n",
      "009 gt mismatch 3 != 2\n",
      "005 gt mismatch 6 != 5\n",
      "000 gt mismatch 6 != 3\n",
      "001 gt mismatch 6 != 9\n",
      "00A gt mismatch 72 != 58\n",
      "006 gt mismatch 7 != 6\n",
      "000 gt mismatch 46 != 36\n",
      "001 gt mismatch 46 != 37\n",
      "00B gt mismatch 1 != 0\n",
      "00D gt mismatch 1 != 0\n",
      "000 gt mismatch 1 != 0\n",
      "000 gt mismatch 1 != 0\n",
      "00G gt mismatch 2 != 1\n",
      "002 gt mismatch 1 != 0\n",
      "005 gt mismatch 1 != 0\n",
      "003 gt mismatch 1 != 0\n",
      "003 gt mismatch 1 != 0\n",
      "005 gt mismatch 1 != 0\n",
      "000 gt mismatch 1 != 0\n",
      "005 gt mismatch 1 != 0\n",
      "008 gt mismatch 1 != 0\n",
      "004 gt mismatch 1 != 0\n",
      "008 gt mismatch 1 != 0\n",
      "003 gt mismatch 1 != 0\n",
      "004 gt mismatch 1 != 0\n",
      "008 gt mismatch 1 != 0\n",
      "009 gt mismatch 1 != 0\n",
      "00B gt mismatch 1 != 0\n",
      "00C gt mismatch 1 != 0\n",
      "00K gt mismatch 22 != 24\n",
      "00A gt mismatch 2 != 1\n",
      "004 gt mismatch 1 != 0\n",
      "008 gt mismatch 1 != 0\n",
      "009 gt mismatch 1 != 0\n",
      "009 gt mismatch 2 != 1\n",
      "004 gt mismatch 1 != 0\n",
      "005 gt mismatch 1 != 0\n",
      "006 gt mismatch 1 != 0\n",
      "007 gt mismatch 1 != 0\n",
      "007 gt mismatch 22 != 21\n",
      "003 gt mismatch 1 != 0\n"
     ]
    },
    {
     "ename": "KeyError",
     "evalue": "'1ground.txt'",
     "output_type": "error",
     "traceback": [
      "\u001b[0;31m---------------------------------------------------------------------------\u001b[0m",
      "\u001b[0;31mKeyError\u001b[0m                                  Traceback (most recent call last)",
      "\u001b[0;32m<ipython-input-64-968e8200e4b6>\u001b[0m in \u001b[0;36m<module>\u001b[0;34m\u001b[0m\n\u001b[1;32m      1\u001b[0m \u001b[0msink\u001b[0m \u001b[0;34m=\u001b[0m \u001b[0mwds\u001b[0m\u001b[0;34m.\u001b[0m\u001b[0mTarWriter\u001b[0m\u001b[0;34m(\u001b[0m\u001b[0;34m\"uw3/uw3-gtseg.tar\"\u001b[0m\u001b[0;34m)\u001b[0m\u001b[0;34m\u001b[0m\u001b[0;34m\u001b[0m\u001b[0m\n\u001b[1;32m      2\u001b[0m \u001b[0;32mfor\u001b[0m \u001b[0mi\u001b[0m\u001b[0;34m,\u001b[0m \u001b[0msample\u001b[0m \u001b[0;32min\u001b[0m \u001b[0menumerate\u001b[0m\u001b[0;34m(\u001b[0m\u001b[0mwds\u001b[0m\u001b[0;34m.\u001b[0m\u001b[0mDataset\u001b[0m\u001b[0;34m(\u001b[0m\u001b[0;34m\"uw3/uw3-original.tar\"\u001b[0m\u001b[0;34m)\u001b[0m\u001b[0;34m.\u001b[0m\u001b[0mdecode\u001b[0m\u001b[0;34m(\u001b[0m\u001b[0;34m)\u001b[0m\u001b[0;34m)\u001b[0m\u001b[0;34m:\u001b[0m\u001b[0;34m\u001b[0m\u001b[0;34m\u001b[0m\u001b[0m\n\u001b[0;32m----> 3\u001b[0;31m     \u001b[0msegmentation\u001b[0m \u001b[0;34m=\u001b[0m \u001b[0mlines_and_gt\u001b[0m\u001b[0;34m(\u001b[0m\u001b[0msample\u001b[0m\u001b[0;34m)\u001b[0m\u001b[0;34m\u001b[0m\u001b[0;34m\u001b[0m\u001b[0m\n\u001b[0m\u001b[1;32m      4\u001b[0m     \u001b[0mpagetext\u001b[0m \u001b[0;34m=\u001b[0m \u001b[0mpage_text\u001b[0m\u001b[0;34m(\u001b[0m\u001b[0msample\u001b[0m\u001b[0;34m)\u001b[0m\u001b[0;34m\u001b[0m\u001b[0;34m\u001b[0m\u001b[0m\n\u001b[1;32m      5\u001b[0m     \u001b[0mimage\u001b[0m \u001b[0;34m=\u001b[0m \u001b[0mnp\u001b[0m\u001b[0;34m.\u001b[0m\u001b[0marray\u001b[0m\u001b[0;34m(\u001b[0m\u001b[0mPIL\u001b[0m\u001b[0;34m.\u001b[0m\u001b[0mImage\u001b[0m\u001b[0;34m.\u001b[0m\u001b[0mopen\u001b[0m\u001b[0;34m(\u001b[0m\u001b[0mio\u001b[0m\u001b[0;34m.\u001b[0m\u001b[0mBytesIO\u001b[0m\u001b[0;34m(\u001b[0m\u001b[0msample\u001b[0m\u001b[0;34m[\u001b[0m\u001b[0;34m\"image.tif\"\u001b[0m\u001b[0;34m]\u001b[0m\u001b[0;34m)\u001b[0m\u001b[0;34m)\u001b[0m\u001b[0;34m)\u001b[0m\u001b[0;34m\u001b[0m\u001b[0;34m\u001b[0m\u001b[0m\n",
      "\u001b[0;32m<ipython-input-63-538aa467d3de>\u001b[0m in \u001b[0;36mlines_and_gt\u001b[0;34m(sample)\u001b[0m\n\u001b[1;32m      1\u001b[0m \u001b[0;32mdef\u001b[0m \u001b[0mlines_and_gt\u001b[0m\u001b[0;34m(\u001b[0m\u001b[0msample\u001b[0m\u001b[0;34m)\u001b[0m\u001b[0;34m:\u001b[0m\u001b[0;34m\u001b[0m\u001b[0;34m\u001b[0m\u001b[0m\n\u001b[0;32m----> 2\u001b[0;31m     \u001b[0mgt\u001b[0m \u001b[0;34m=\u001b[0m \u001b[0mparse_gt\u001b[0m\u001b[0;34m(\u001b[0m\u001b[0msample\u001b[0m\u001b[0;34m)\u001b[0m\u001b[0;34m\u001b[0m\u001b[0;34m\u001b[0m\u001b[0m\n\u001b[0m\u001b[1;32m      3\u001b[0m     \u001b[0mbb\u001b[0m \u001b[0;34m=\u001b[0m \u001b[0mparse_lboxes\u001b[0m\u001b[0;34m(\u001b[0m\u001b[0msample\u001b[0m\u001b[0;34m)\u001b[0m\u001b[0;34m\u001b[0m\u001b[0;34m\u001b[0m\u001b[0m\n\u001b[1;32m      4\u001b[0m     \u001b[0mresult\u001b[0m \u001b[0;34m=\u001b[0m \u001b[0;34m[\u001b[0m\u001b[0;34m]\u001b[0m\u001b[0;34m\u001b[0m\u001b[0;34m\u001b[0m\u001b[0m\n\u001b[1;32m      5\u001b[0m     \u001b[0;32mfor\u001b[0m \u001b[0mzone\u001b[0m \u001b[0;32min\u001b[0m \u001b[0mgt\u001b[0m\u001b[0;34m.\u001b[0m\u001b[0mkeys\u001b[0m\u001b[0;34m(\u001b[0m\u001b[0;34m)\u001b[0m\u001b[0;34m:\u001b[0m\u001b[0;34m\u001b[0m\u001b[0;34m\u001b[0m\u001b[0m\n",
      "\u001b[0;32m<ipython-input-21-75fd99d6c211>\u001b[0m in \u001b[0;36mparse_gt\u001b[0;34m(sample)\u001b[0m\n\u001b[1;32m      2\u001b[0m     \u001b[0mr\u001b[0m \u001b[0;34m=\u001b[0m \u001b[0;34m{\u001b[0m\u001b[0;34m}\u001b[0m\u001b[0;34m\u001b[0m\u001b[0;34m\u001b[0m\u001b[0m\n\u001b[1;32m      3\u001b[0m     \u001b[0mresult\u001b[0m \u001b[0;34m=\u001b[0m \u001b[0;34m{\u001b[0m\u001b[0;34m}\u001b[0m\u001b[0;34m\u001b[0m\u001b[0;34m\u001b[0m\u001b[0m\n\u001b[0;32m----> 4\u001b[0;31m     \u001b[0mlines\u001b[0m \u001b[0;34m=\u001b[0m \u001b[0msample\u001b[0m\u001b[0;34m[\u001b[0m\u001b[0;34m\"1ground.txt\"\u001b[0m\u001b[0;34m]\u001b[0m\u001b[0;34m.\u001b[0m\u001b[0mstrip\u001b[0m\u001b[0;34m(\u001b[0m\u001b[0;34m)\u001b[0m\u001b[0;34m.\u001b[0m\u001b[0msplit\u001b[0m\u001b[0;34m(\u001b[0m\u001b[0;34m\"\\n\"\u001b[0m\u001b[0;34m)\u001b[0m \u001b[0;34m+\u001b[0m \u001b[0;34m[\u001b[0m\u001b[0;34m\"GGGGG\"\u001b[0m\u001b[0;34m]\u001b[0m\u001b[0;34m\u001b[0m\u001b[0;34m\u001b[0m\u001b[0m\n\u001b[0m\u001b[1;32m      5\u001b[0m     \u001b[0;32mwhile\u001b[0m \u001b[0mlen\u001b[0m\u001b[0;34m(\u001b[0m\u001b[0mlines\u001b[0m\u001b[0;34m)\u001b[0m \u001b[0;34m>\u001b[0m \u001b[0;36m0\u001b[0m\u001b[0;34m:\u001b[0m\u001b[0;34m\u001b[0m\u001b[0;34m\u001b[0m\u001b[0m\n\u001b[1;32m      6\u001b[0m         \u001b[0;32massert\u001b[0m \u001b[0mlines\u001b[0m\u001b[0;34m[\u001b[0m\u001b[0;36m0\u001b[0m\u001b[0;34m]\u001b[0m \u001b[0;34m==\u001b[0m \u001b[0;34m\"GGGGG\"\u001b[0m\u001b[0;34m\u001b[0m\u001b[0;34m\u001b[0m\u001b[0m\n",
      "\u001b[0;31mKeyError\u001b[0m: '1ground.txt'"
     ]
    }
   ],
   "source": [
    "sink = wds.TarWriter(\"uw3/uw3-gtseg.tar\")\n",
    "for i, sample in enumerate(wds.Dataset(\"uw3/uw3-original.tar\").decode()):\n",
    "    segmentation = lines_and_gt(sample)\n",
    "    pagetext = page_text(sample)\n",
    "    image = np.array(PIL.Image.open(io.BytesIO(sample[\"image.tif\"])))\n",
    "    sink.write({\n",
    "        \"__key__\": sample[\"__key__\"],\n",
    "        \"image.png\": image,\n",
    "        \"gtseg.json\": segmentation,\n",
    "        \"page.txt\": pagetext\n",
    "    })\n",
    "sink.close()"
   ]
  },
  {
   "cell_type": "code",
   "execution_count": 61,
   "metadata": {},
   "outputs": [
    {
     "name": "stdout",
     "output_type": "stream",
     "text": [
      "GGGGG\n",
      "D03C\n",
      "000\n",
      "non-text: ruling\n",
      "GGGGG\n",
      "D03C\n",
      "001\n",
      "Towards a Capacity-Design Assessment Procedure for Reinforced Concrete Frames\n",
      "GGGGG\n",
      "D03C\n",
      "002\n",
      "427\n",
      "GGGGG\n",
      "D03C\n",
      "003\n",
      "non-text: ruling\n",
      "GGGGG\n",
      "D03C\n",
      "004\n",
      "Fig. 5, which is similar to an approach suggested for bridge columns by the Applied\n",
      "Technology Council [20] and others [21]. Three situations are identified in Fig. 5. When\n",
      "the shear corresponding to flexural strength V\\_{f1} exceeds V\\_{u} from Eq. (14a), a brittle shear\n",
      "failure is expected. The strength is V\\_{u} , and the ductility is \\mu = 1. When the shear\n",
      "associated with flexural strength is V\\_{ud} \\leq V\\_{f2} \\leq V\\_{u} , then the strength is V\\_{f2} , with ductility\n",
      "given by\n",
      "GGGGG\n",
      "D03C\n",
      "005\n",
      "non-text: math\n",
      "GGGGG\n",
      "D03C\n",
      "006\n",
      "When the shear corresponding to flexural strength is V\\_{f3} \\leq V\\_{ud} , then the strength is V\\_{f3}\n",
      "with full ductility. That is, \\mu = 6 providing \"good\" detailing exists.\n",
      "GGGGG\n",
      "D03C\n",
      "007\n",
      "non-text: drawing\n",
      "GGGGG\n",
      "D03C\n",
      "008\n",
      "Figure 5 Relationship between shear strength and ductility\n",
      "GGGGG\n",
      "D03C\n",
      "009\n",
      "The ductility capacity of a beam sway mechanism should not necessarily be taken as the\n",
      "lowest ductility of any hinge in the mechanism. Further, it is contended that gravity load\n",
      "moments should be ignored in assessing ductility capacity (but not potential hinge location).\n",
      "GGGGG\n",
      "D03C\n",
      "00A\n",
      "On the first count, exceeding the ductility capacity of a single hinge in a beam sway\n",
      "mechanism is unlikely to be critical. Consider the situation in Fig. 6 where flexural hinges\n",
      "with ductility capacity \\mu = 6 form at all except one beam end at a given level (column 3)\n",
      "where a flexure/shear failure is predicted, in accordance with Eq. (15) at \\mu = 3. A\n",
      "conservative approach would limit the ductility of the mechanism to that of its weakest link,\n",
      "i.e., \\mu = 3. Provided it is assessed that the shear strength will not degrade below the gravity\n",
      "load shear force (say V\\_{DL} < V\\_{ud} from Eq.(14b)), the frame may be able to deform to its\n",
      "full ductility, albeit at reduced strength, without collapse. For sake of argument, assume\n",
      "that the flexural strength of each hinge, including hinge 32 (see Fig. (6)) prior to shear\n",
      "failure, is 10 units. Also assume that the natural period T > 1.5 T\\_{a(m)} , so R = \\mu ,\n",
      "the equivalent elastic mechanism strength will be proportional to the product of the ductility\n",
      "by the sum of the flexural strengths, i.e.,\n",
      "GGGGG\n",
      "D03C\n",
      "00B\n",
      "S\\_{a(e)} prop. to 3\\times (6\\times 10) = 180\n",
      "\n"
     ]
    }
   ],
   "source": [
    "print(sample[\"1ground.txt\"])"
   ]
  },
  {
   "cell_type": "code",
   "execution_count": 62,
   "metadata": {},
   "outputs": [
    {
     "name": "stdout",
     "output_type": "stream",
     "text": [
      "LLLLL\n",
      "DOCUMENT_ID   = D03C\n",
      "ZONE_ID       = 001\n",
      "TEXT_LINE_BOX = 447 155 1810 195\n",
      "LLLLL\n",
      "DOCUMENT_ID   = D03C\n",
      "ZONE_ID       = 002\n",
      "TEXT_LINE_BOX = 1965 157 2018 182\n",
      "LLLLL\n",
      "DOCUMENT_ID   = D03C\n",
      "ZONE_ID       = 004\n",
      "TEXT_LINE_BOX = 464 283 2003 329\n",
      "TEXT_LINE_BOX = 464 324 2002 367\n",
      "TEXT_LINE_BOX = 462 367 2004 412\n",
      "TEXT_LINE_BOX = 464 411 2004 452\n",
      "TEXT_LINE_BOX = 466 451 2003 495\n",
      "TEXT_LINE_BOX = 467 498 598 543\n",
      "LLLLL\n",
      "DOCUMENT_ID   = D03C\n",
      "ZONE_ID       = 006\n",
      "TEXT_LINE_BOX = 468 734 2004 777\n",
      "TEXT_LINE_BOX = 469 776 1609 819\n",
      "LLLLL\n",
      "DOCUMENT_ID   = D03C\n",
      "ZONE_ID       = 008\n",
      "TEXT_LINE_BOX = 626 1581 1841 1623\n",
      "LLLLL\n",
      "DOCUMENT_ID   = D03C\n",
      "ZONE_ID       = 009\n",
      "TEXT_LINE_BOX = 542 1665 2007 1709\n",
      "TEXT_LINE_BOX = 477 1705 2008 1751\n",
      "TEXT_LINE_BOX = 477 1751 1996 1794\n",
      "LLLLL\n",
      "DOCUMENT_ID   = D03C\n",
      "ZONE_ID       = 00A\n",
      "TEXT_LINE_BOX = 545 1837 2008 1883\n",
      "TEXT_LINE_BOX = 479 1879 2008 1925\n",
      "TEXT_LINE_BOX = 480 1921 2006 1968\n",
      "TEXT_LINE_BOX = 479 1962 2008 2011\n",
      "TEXT_LINE_BOX = 479 2011 2007 2053\n",
      "TEXT_LINE_BOX = 478 2044 2008 2096\n",
      "TEXT_LINE_BOX = 480 2086 2008 2138\n",
      "TEXT_LINE_BOX = 480 2128 2008 2180\n",
      "TEXT_LINE_BOX = 480 2171 2010 2223\n",
      "TEXT_LINE_BOX = 481 2211 2008 2269\n",
      "TEXT_LINE_BOX = 481 2253 2009 2308\n",
      "TEXT_LINE_BOX = 480 2292 1150 2347\n",
      "\n"
     ]
    }
   ],
   "source": [
    "print(sample[\"linebox.txt\"])"
   ]
  },
  {
   "cell_type": "code",
   "execution_count": null,
   "metadata": {},
   "outputs": [],
   "source": []
  }
 ],
 "metadata": {
  "kernelspec": {
   "display_name": "Python 3",
   "language": "python",
   "name": "python3"
  },
  "language_info": {
   "codemirror_mode": {
    "name": "ipython",
    "version": 3
   },
   "file_extension": ".py",
   "mimetype": "text/x-python",
   "name": "python",
   "nbconvert_exporter": "python",
   "pygments_lexer": "ipython3",
   "version": "3.8.2"
  }
 },
 "nbformat": 4,
 "nbformat_minor": 4
}
