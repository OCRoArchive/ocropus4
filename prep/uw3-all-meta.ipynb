{
 "cells": [
  {
   "cell_type": "code",
   "execution_count": 1,
   "metadata": {},
   "outputs": [
    {
     "name": "stdout",
     "output_type": "stream",
     "text": [
      "Populating the interactive namespace from numpy and matplotlib\n"
     ]
    }
   ],
   "source": [
    "%pylab inline"
   ]
  },
  {
   "cell_type": "code",
   "execution_count": 2,
   "metadata": {},
   "outputs": [],
   "source": [
    "import glob\n",
    "import PIL\n",
    "import webdataset as wds\n",
    "import os\n",
    "import os.path\n",
    "import io\n",
    "from ocrlib import extract_seg\n",
    "from random import randrange"
   ]
  },
  {
   "cell_type": "code",
   "execution_count": 28,
   "metadata": {},
   "outputs": [
    {
     "name": "stdout",
     "output_type": "stream",
     "text": [
      "1600 ['A001', 'A002', 'A003']\n"
     ]
    }
   ],
   "source": [
    "allpages = glob.glob(base+\"ENGLISH/LINEWORD/IMAGEBIN/*.TIF\")\n",
    "allpages = [os.path.basename(x) for x in allpages]\n",
    "allpages = [re.sub(\"BIN.TIF$\", \"\", x) for x in allpages]\n",
    "allpages = sorted(allpages)\n",
    "print(len(allpages), allpages[:3])"
   ]
  },
  {
   "cell_type": "code",
   "execution_count": 46,
   "metadata": {},
   "outputs": [],
   "source": [
    "def readfile(fname, mode=\"\"):\n",
    "    if os.path.exists(fname):\n",
    "        with open(fname, \"r\"+mode) as stream:\n",
    "            return stream.read()\n",
    "    else:\n",
    "        if \"uw1-1\" not in fname:\n",
    "            print(f\"{fname} not found\", file=sys.stderr)\n",
    "        return None\n",
    "def readbin(fname, mode=\"\"):\n",
    "    return readfile(fname, mode=\"b\")"
   ]
  },
  {
   "cell_type": "code",
   "execution_count": 47,
   "metadata": {},
   "outputs": [
    {
     "name": "stdout",
     "output_type": "stream",
     "text": [
      "0 A001\n",
      "100 A063\n",
      "200 D038\n",
      "300 E009\n",
      "400 E048\n",
      "500 H048\n",
      "600 IG0F\n",
      "700 K00F\n",
      "800 N04L\n",
      "900 S02N\n",
      "1000 W020\n",
      "1100 W0C3\n",
      "1200 W0L3\n",
      "1300 W114\n",
      "1400 W1B1\n",
      "1500 W1K2\n"
     ]
    }
   ],
   "source": [
    "output = wds.TarWriter(\"uw3-original.tar\")\n",
    "\n",
    "base = \"/mdata/IUPR/uw3/\"\n",
    "lineword = base+\"ENGLISH/LINEWORD/\"\n",
    "base1 = \"/mdata/IUPR/uw1-1/\"\n",
    "real = base1+\"ENGLISH/JOURNAL/REAL/\"\n",
    "\n",
    "allmeta = []\n",
    "for i, page in enumerate(allpages):\n",
    "    if i%100==0: print(i, page)\n",
    "    p = {}\n",
    "    p[\"__key__\"] = page\n",
    "    # data from UW3\n",
    "    p[\"image.tif\"] = readbin(lineword+\"IMAGEBIN/\"+page+\"BIN.TIF\")\n",
    "    p[\"linebox.txt\"] = readfile(lineword+\"LINEBOXS/\"+page+\"LINE.BOX\")\n",
    "    p[\"wordbox.txt\"] = readfile(lineword+\"WORDBOXS/\"+page+\"WORD.BOX\")\n",
    "    p[\"zonebox.txt\"] = readfile(lineword+\"ZONEBOXS/\"+page+\"ZONE.BOX\")\n",
    "    p[\"dafs\"] = readbin(lineword+\"DAFS/\"+page+\".DAF\")\n",
    "    p[\"dafs.txt\"] = readfile(lineword+\"DAFS/\"+page+\".TXT\")\n",
    "    p[\"labzones.txt\"] = readfile(lineword+\"LABZONES/\"+page+\"LABZONES.txt\")\n",
    "    # data from UW1-1\n",
    "    p[\"1pageattr.txt\"] = readfile(real+\"PAGEATTR/\"+page+\"PAGE.ATT\")\n",
    "    p[\"1pageboxs.txt\"] = readfile(real+\"PAGEBOXS/\"+page+\"PAGE.BOX\")\n",
    "    p[\"1zoneattr.txt\"] = readfile(real+\"ZONEATTR/\"+page+\"ZONE.ATT\")\n",
    "    p[\"1zoneboxs.txt\"] = readfile(real+\"ZONEBOXS/\"+page+\"ZONE.BOX\")\n",
    "    p[\"1pageattr.txt\"] = readfile(real+\"PAGEATTR/\"+page+\"PAGE.ATT\")\n",
    "    p[\"1pageboxs.txt\"] = readfile(real+\"PAGEBOXS/\"+page+\"PAGE.BOX\")\n",
    "    p[\"1ground.txt\"] = readfile(real+\"GROUND/\"+page+\"GRND.TRU\")\n",
    "    p[\"1cond.txt\"] = readfile(real+\"PAGECOND/\"+page+\"PAGE.CON\")\n",
    "    missing = [k for k, v in p.items() if v is None]\n",
    "    for k in missing: del p[k]\n",
    "    output.write(p)\n",
    "    \n",
    "output.close()"
   ]
  },
  {
   "cell_type": "code",
   "execution_count": 83,
   "metadata": {},
   "outputs": [
    {
     "name": "stdout",
     "output_type": "stream",
     "text": [
      "0 A001\n",
      "100 A063\n",
      "200 D038\n",
      "300 E009\n",
      "400 E048\n",
      "500 H048\n",
      "600 IG0F\n",
      "700 K00F\n",
      "800 N04L\n",
      "900 S02N\n",
      "1000 W020\n",
      "1100 W0C3\n",
      "1200 W0L3\n",
      "1300 W114\n",
      "1400 W1B1\n",
      "1500 W1K2\n"
     ]
    }
   ],
   "source": [
    "output = wds.TarWriter(\"uw3-hocr.tar\")\n",
    "\n",
    "base = \"/mdata/IUPR/uw3/\"\n",
    "lineword = base+\"ENGLISH/LINEWORD/\"\n",
    "base1 = \"/mdata/IUPR/uw1-1/\"\n",
    "real = base1+\"ENGLISH/JOURNAL/REAL/\"\n",
    "\n",
    "allmeta = []\n",
    "for i, page in enumerate(allpages):\n",
    "    if i%100==0: print(i, page)\n",
    "    p = {}\n",
    "    p[\"__key__\"] = page\n",
    "    # data from UW3\n",
    "    image = PIL.Image.open(lineword+\"IMAGEBIN/\"+page+\"BIN.TIF\")\n",
    "    jpg = io.BytesIO()\n",
    "    image.save(jpg, format=\"JPEG\", quality=100)\n",
    "    p[\"page.jpg\"] = jpg.getvalue()\n",
    "    p[\"hocr.html\"] = readfile(base+\"hocr/uw3/gt-uw3/\"+page+\".html\")\n",
    "    output.write(p)\n",
    "    \n",
    "output.close()"
   ]
  },
  {
   "cell_type": "code",
   "execution_count": null,
   "metadata": {},
   "outputs": [],
   "source": []
  }
 ],
 "metadata": {
  "kernelspec": {
   "display_name": "Python 3",
   "language": "python",
   "name": "python3"
  },
  "language_info": {
   "codemirror_mode": {
    "name": "ipython",
    "version": 3
   },
   "file_extension": ".py",
   "mimetype": "text/x-python",
   "name": "python",
   "nbconvert_exporter": "python",
   "pygments_lexer": "ipython3",
   "version": "3.8.2"
  }
 },
 "nbformat": 4,
 "nbformat_minor": 4
}
