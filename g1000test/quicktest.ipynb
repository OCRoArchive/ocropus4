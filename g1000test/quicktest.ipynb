{
 "cells": [
  {
   "cell_type": "code",
   "execution_count": 1,
   "id": "chubby-slovakia",
   "metadata": {
    "kernel": "Python3",
    "tags": []
   },
   "outputs": [],
   "source": [
    "import matplotlib.pyplot as plt"
   ]
  },
  {
   "cell_type": "markdown",
   "id": "extra-mediterranean",
   "metadata": {
    "kernel": "SoS"
   },
   "source": [
    "# Full OCRopus 4 Training and Running\n",
    "\n",
    "This worksheet demonstrates OCRopus 4 training from start to finish, including bootstrapping using another OCR system.\n",
    "\n"
   ]
  },
  {
   "cell_type": "markdown",
   "id": "found-glucose",
   "metadata": {
    "kernel": "SoS"
   },
   "source": [
    "Important Notes:\n",
    "\n",
    "- this does NOT yield usable models since the training data set used in this worksheet is so small and limited\n",
    "- this implements the main components of an OCR system and is suitable for text indexing and other applications, but full page recognition requires some additional components"
   ]
  },
  {
   "cell_type": "code",
   "execution_count": 2,
   "id": "intelligent-denver",
   "metadata": {
    "kernel": "SoS"
   },
   "outputs": [
    {
     "data": {
      "text/plain": [
       "'/home/tmb/proj/ocropus4/g1000test'"
      ]
     },
     "execution_count": 2,
     "metadata": {},
     "output_type": "execute_result"
    }
   ],
   "source": [
    "import os\n",
    "os.getcwd()\n",
    "# os.system(\"sos convert full.ipynb full.sos\")"
   ]
  },
  {
   "cell_type": "code",
   "execution_count": 3,
   "id": "spoken-property",
   "metadata": {
    "kernel": "Bash",
    "tags": []
   },
   "outputs": [],
   "source": [
    "#rm -f *.sqlite3 *.pth\n",
    "#rm -f book-seg.tar book-words.tar book-lines.tar"
   ]
  },
  {
   "cell_type": "code",
   "execution_count": 4,
   "id": "insured-torture",
   "metadata": {
    "kernel": "SoS"
   },
   "outputs": [],
   "source": [
    "[global]\n",
    "multiplier = 1\n",
    "display = 10\n",
    "maxpages = 50 * multiplier\n",
    "maxextract = 1000 * multiplier\n",
    "nwordtrain = 200 * multiplier\n",
    "nsegtrain = 200 * multiplier\n",
    "nrottrain = 200 * multiplier\n",
    "nskewtrain = 200 * multiplier\n",
    "nscaletrain = 200 * multiplier\n",
    "nbintrain = 10 * multiplier\n",
    "dataurl = 'http://storage.googleapis.com/ocropus4/Volume_0000.tar'"
   ]
  },
  {
   "cell_type": "markdown",
   "id": "square-going",
   "metadata": {
    "kernel": "SoS"
   },
   "source": [
    "# Download Dataset and Run Tesseract\n",
    "\n",
    "The dataset is Volume 0 from Google's 1000 Book dataset. These images are camera scanned, modest resolution, modest quality images. This volume contains a mix of English and Gaelic.\n",
    "\n",
    "_This dataset is used here for demonstration purposes only. It is not large or diverse enough to train a practical recognizer. You can obtain a usable recognizer by training on the UW3 dataset, but unfortunately that's not redistributable. We are currently putting together a larger, representative training set._\n",
    "\n",
    "We use Tesseract as our bootstrap OCR system."
   ]
  },
  {
   "cell_type": "code",
   "execution_count": 5,
   "id": "nearby-wedding",
   "metadata": {
    "kernel": "SoS"
   },
   "outputs": [],
   "source": [
    "[download]\n",
    "input: []\n",
    "output: 'Volume_0000.tar'\n",
    "sh: expand=True\n",
    "    curl {dataurl} > Volume_0000.tar"
   ]
  },
  {
   "cell_type": "code",
   "execution_count": 6,
   "id": "chubby-player",
   "metadata": {
    "kernel": "SoS"
   },
   "outputs": [
    {
     "data": {
      "text/html": [
       "<div class=\"sos_logging sos_info\">INFO: Running <span class=\"sos_highlight\">download</span>: \n",
       "</div>"
      ]
     },
     "metadata": {},
     "output_type": "display_data"
    },
    {
     "data": {
      "text/html": [
       "<div class=\"sos_logging sos_info\">INFO: <span class=\"sos_highlight\">download</span> (index=0) is <span class=\"sos_highlight\">ignored</span> due to saved signature\n",
       "</div>"
      ]
     },
     "metadata": {},
     "output_type": "display_data"
    },
    {
     "data": {
      "text/html": [
       "<div class=\"sos_logging sos_info\">INFO: <span class=\"sos_highlight\">download</span> output:   <span class=\"sos_highlight\">Volume_0000.tar</span>\n",
       "</div>"
      ]
     },
     "metadata": {},
     "output_type": "display_data"
    },
    {
     "data": {
      "text/html": [
       "<div class=\"sos_logging sos_info\">INFO: Workflow download (ID=w7ea7cd24b3622f7d) is ignored with 1 ignored step.\n",
       "</div>"
      ]
     },
     "metadata": {},
     "output_type": "display_data"
    }
   ],
   "source": [
    "%sosrun download"
   ]
  },
  {
   "cell_type": "markdown",
   "id": "unlikely-plastic",
   "metadata": {
    "kernel": "SoS"
   },
   "source": [
    "## Binarization\n",
    "\n",
    "By default, we binarize with a hardcoded binarizer based on grayscale morphology. This binarizer is purely CPU based (we may eventually port it to the GPU). It has worked very well in many different settings. "
   ]
  },
  {
   "cell_type": "code",
   "execution_count": 7,
   "id": "sustained-overview",
   "metadata": {
    "kernel": "SoS"
   },
   "outputs": [],
   "source": [
    "[binarize]\n",
    "input: 'Volume_0000.tar'\n",
    "output: 'raw.tar'\n",
    "sh: expand=True\n",
    "    vocropus nlbin binarize {_input} --gray --output raw.tar --maxrec {maxpages}"
   ]
  },
  {
   "cell_type": "code",
   "execution_count": 8,
   "id": "prompt-training",
   "metadata": {
    "kernel": "SoS",
    "scrolled": true
   },
   "outputs": [
    {
     "data": {
      "text/html": [
       "<div class=\"sos_logging sos_info\">INFO: Running <span class=\"sos_highlight\">binarize</span>: \n",
       "</div>"
      ]
     },
     "metadata": {},
     "output_type": "display_data"
    },
    {
     "data": {
      "text/html": [
       "<div class=\"sos_logging sos_info\">INFO: <span class=\"sos_highlight\">binarize</span> (index=0) is <span class=\"sos_highlight\">ignored</span> due to saved signature\n",
       "</div>"
      ]
     },
     "metadata": {},
     "output_type": "display_data"
    },
    {
     "data": {
      "text/html": [
       "<div class=\"sos_logging sos_info\">INFO: <span class=\"sos_highlight\">binarize</span> output:   <span class=\"sos_highlight\">raw.tar</span>\n",
       "</div>"
      ]
     },
     "metadata": {},
     "output_type": "display_data"
    },
    {
     "data": {
      "text/html": [
       "<div class=\"sos_logging sos_info\">INFO: Workflow binarize (ID=w0d894c5479ef03b2) is ignored with 1 ignored step.\n",
       "</div>"
      ]
     },
     "metadata": {},
     "output_type": "display_data"
    }
   ],
   "source": [
    "%sosrun binarize"
   ]
  },
  {
   "cell_type": "markdown",
   "id": "simple-farmer",
   "metadata": {
    "kernel": "SoS"
   },
   "source": [
    "## Bootstrap OCR Recognizer\n",
    "\n",
    "We're using Tesseract as the bootstrap OCR engine. Tesseract runs on the normalized images returned in the previous step. The bootstrap OCR recognizer can have a moderately high error rate and OCRopus 4 can still be trained on it successfully. In fact, once you have trained an initial OCRopus 4 recognizer, you can use it as the bootstrap recognizer for additional source materials. OCRopus 4 is, in effect, self-training and self-improving."
   ]
  },
  {
   "cell_type": "code",
   "execution_count": 9,
   "id": "figured-equation",
   "metadata": {
    "kernel": "SoS"
   },
   "outputs": [
    {
     "name": "stdout",
     "output_type": "stream",
     "text": [
      "Sending build context to Docker daemon  2.048kB\n",
      "Step 1/5 : FROM ubuntu:20.04\n",
      " ---> f643c72bc252\n",
      "Step 2/5 : RUN date\n",
      " ---> Using cache\n",
      " ---> 5331dfc33a69\n",
      "Step 3/5 : RUN apt-get update && apt-get install -y tesseract-ocr-all\n",
      " ---> Using cache\n",
      " ---> 3c9154853045\n",
      "Step 4/5 : RUN mkdir /work\n",
      " ---> Using cache\n",
      " ---> d848a1aab5f4\n",
      "Step 5/5 : WORKDIR /work\n",
      " ---> Using cache\n",
      " ---> e2f85069c280\n",
      "Successfully built e2f85069c280\n",
      "Successfully tagged tess:latest\n",
      "Usage:\n",
      "  tesseract --help | --help-extra | --version\n",
      "  tesseract --list-langs\n",
      "  tesseract imagename outputbase [options...] [configfile...]\n",
      "\n",
      "OCR options:\n",
      "  -l LANG[+LANG]        Specify language(s) used for OCR.\n",
      "NOTE: These options must occur before any configfile.\n",
      "\n",
      "Single options:\n",
      "  --help                Show this help message.\n",
      "  --help-extra          Show extra help for advanced users.\n",
      "  --version             Show version information.\n",
      "  --list-langs          List available languages for tesseract engine.\n"
     ]
    }
   ],
   "source": [
    "!rebuild=y ./dtess --help"
   ]
  },
  {
   "cell_type": "code",
   "execution_count": 10,
   "id": "thorough-grounds",
   "metadata": {
    "kernel": "SoS",
    "tags": []
   },
   "outputs": [],
   "source": [
    "[tess]\n",
    "input: 'raw.tar'\n",
    "output: 'tess.tar'\n",
    "sh: expand=True\n",
    "    rebuild=y dtess --help\n",
    "    tarp proc -c $(pwd)/'dtess sample.nrm.jpg sample.tess -l eng hocr; rm -f sample.lines.png sample.pseg.png' {_input} -o {_output}.tar.temp\n",
    "    mv {_output}.tar.temp {_output}"
   ]
  },
  {
   "cell_type": "code",
   "execution_count": 11,
   "id": "advisory-rocket",
   "metadata": {
    "kernel": "SoS",
    "scrolled": true,
    "tags": []
   },
   "outputs": [
    {
     "data": {
      "text/html": [
       "<div class=\"sos_logging sos_info\">INFO: Running <span class=\"sos_highlight\">tess</span>: \n",
       "</div>"
      ]
     },
     "metadata": {},
     "output_type": "display_data"
    },
    {
     "data": {
      "text/html": [
       "<div class=\"sos_logging sos_info\">INFO: <span class=\"sos_highlight\">tess</span> (index=0) is <span class=\"sos_highlight\">ignored</span> due to saved signature\n",
       "</div>"
      ]
     },
     "metadata": {},
     "output_type": "display_data"
    },
    {
     "data": {
      "text/html": [
       "<div class=\"sos_logging sos_info\">INFO: <span class=\"sos_highlight\">tess</span> output:   <span class=\"sos_highlight\">tess.tar</span>\n",
       "</div>"
      ]
     },
     "metadata": {},
     "output_type": "display_data"
    },
    {
     "data": {
      "text/html": [
       "<div class=\"sos_logging sos_info\">INFO: Workflow tess (ID=wb048cdb2f1711e24) is ignored with 1 ignored step.\n",
       "</div>"
      ]
     },
     "metadata": {},
     "output_type": "display_data"
    }
   ],
   "source": [
    "%sosrun tess"
   ]
  },
  {
   "cell_type": "markdown",
   "id": "vocational-punishment",
   "metadata": {
    "kernel": "SoS"
   },
   "source": [
    "# Generating Training Datasets\n",
    "\n",
    "OCRopus 4 training starts with tar files containing pairs of images and corresponding hOCR output. These are used to generate training data for word and line recognition and page segmentation."
   ]
  },
  {
   "cell_type": "code",
   "execution_count": 12,
   "id": "numeric-framing",
   "metadata": {
    "kernel": "Python3"
   },
   "outputs": [],
   "source": [
    "import webdataset as wds\n",
    "from itertools import islice"
   ]
  },
  {
   "cell_type": "code",
   "execution_count": 13,
   "id": "enhanced-closing",
   "metadata": {
    "kernel": "Python3",
    "scrolled": true
   },
   "outputs": [
    {
     "name": "stdout",
     "output_type": "stream",
     "text": [
      "dict_keys(['__key__', 'jpg', 'nrm.jpg', 'tess.hocr'])\n",
      "<?xml version=\"1.0\" encoding=\"UTF-8\"?>\n",
      "<!DOCTYPE html PUBLIC \"-//W3C//DTD XHTML 1.0 Transitional//EN\"\n",
      "    \"http://www.w3.org/TR/xhtml1/DTD/xhtml1-transitional.dtd\">\n",
      "<html xmlns=\"http://www.w3.org/1999/xhtml\" xml:lang=\"en\" lang=\"en\">\n",
      " <head>\n",
      "  <title></title>\n",
      "  <meta http-equiv=\"Content-Type\" content=\"text/html;charset=utf-8\"/>\n",
      "  <meta name='ocr-system' content='tesseract 4.1.1' />\n",
      "  <meta name='ocr-capabilities' content='ocr_page ocr_carea ocr_par ocr_line ocrx_word ocrp_wconf'/>\n",
      " </head>\n",
      " <body>\n",
      "  <div class='ocr_page' id='page_1' title='image \"sample.nrm.jpg\"; bbox 0 0 1507 2131; ppageno 0'>\n",
      "   <div class='ocr_carea' id='block_1_1' title=\"bbox 8 284 22 743\">\n",
      "    <p class='ocr_par' id='par_1_1' lang='eng' title=\"bbox 8 284 22 743\">\n",
      "     <span class='ocr_line' id='line_1_1' title=\"bbox 8 284 22 743; textangle 90; x_size 22.75; x_descenders 5.5; x_ascenders 5.75\">\n",
      "      <span class='ocrx_word' id='word_1_1' title='bbox 8 284 22 700; x_wconf 45'>an</span>\n",
      "      <span class='ocrx_word' id='word_1_2' title='bbox 0 428 26 505; x_wconf 10'>ek</span>\n",
      "      <span class='ocrx_word' id='word_1_3' title='bbox 0 393 26 429; x_wconf 13'>a</span>\n",
      "      <span class='ocrx_word' id='word_1_4' title='bbox 0 294 26 386; x_wconf 21'>ee</span>\n",
      "      <span class='ocrx_word' id='word_1_5' title='bbox 0 281 26 295; x_wconf 54'>|</span>\n",
      "     </span>\n",
      "    </p>\n",
      "   </div>\n",
      "   <div class='ocr_carea' id='block_1_2' title=\"bbox 552 201 1168 229\">\n",
      "    <p class='ocr_par' id='par_1_2' lang='eng' title=\"bbox 552 201 1168 229\">\n",
      "     <span class='ocr_line' id='line_1_2' title=\"bbox 552 201 1168 229; baseline 0 -7; x_size 27.533333; x_descenders 6.8833332; x_ascenders 6.8833332\">\n",
      "      <span class='ocrx_word' id='word_1_6' title='bbox 552 202 611 223; x_wconf 96'>THE</span>\n",
      "      <span class='ocrx_word' id='word_1_7' title='bbox 624 201 698 222; x_wconf 96'>TALE</span>\n",
      "      <span class='ocrx_word' id='word_1_8' title='bbox 712 201 750 223; x_wconf 93'>OF</span>\n",
      "      <span class='ocrx_word' id='word_1_9' title='bbox 763 201 889 223; x_wconf 87'>CONNAL.</span>\n",
      "      <span class='ocrx_word' id='word_1_10' title='bbox 1112 201 1168 229; x_wconf 94'>147</span>\n",
      "     </span>\n",
      "    </p>\n",
      "   </div>\n",
      "   <div class='ocr_carea' id='block_1_3' title=\"bbox 276 276 1172 1383\">\n",
      "    <p class='ocr_par' id='par_1_3' lang='eng' title=\"bbox 438 276 904 310\">\n",
      "     <span class='ocr_line' id='line_1_3' title=\"bbox 438 276 904 310; baseline -0.002 -8; x_size 34; x_descenders 8; x_ascenders 9\">\n",
      "      <span class='ocrx_word' id='word_1_11' title='bbox 438 276 508 309; x_wconf 96'>They</span>\n",
      "      <span class='ocrx_word' id='word_1_12' title='bbox 520 276 626 310; x_wconf 96'>thought</span>\n",
      "      <span class='ocrx_word' id='word_1_13' title='bbox 636 276 651 302; x_wconf 96'>I</span>\n",
      "      <span class='ocrx_word' id='word_1_14' title='bbox 662 285 714 302; x_wconf 96'>was</span>\n",
      "      <span class='ocrx_word' id='word_1_15' title='bbox 725 285 741 302; x_wconf 96'>a</span>\n",
      "      <span class='ocrx_word' id='word_1_16' title='bbox 750 276 813 302; x_wconf 96'>dead</span>\n",
      "      <span class='ocrx_word' id='word_1_17' title='bbox 824 284 890 306; x_wconf 93'>man,</span>\n",
      "      <span class='ocrx_word' id='word_1_18' title='bbox 901 285 904 287; x_wconf 51'>°</span>\n",
      "     </span>\n",
      "    </p>\n",
      "\n",
      "    <p class='ocr_par' id='par_1_4' lang='eng' title=\"bbox 438 314 918 346\">\n",
      "     <span class='ocr_line' id='line_1_4' title=\"bbox 438 314 918 346; baseline 0 -6; x_size 32; x_descenders 6; x_ascenders 9\">\n",
      "      <span class='ocrx_word' id='word_1_19' title='bbox 438 316 476 340; x_wconf 96'>As</span>\n",
      "      <span class='ocrx_word' id='word_1_20' title='bbox 488 315 502 340; x_wconf 96'>I</span>\n",
      "      <span class='ocrx_word' id='word_1_21' title='bbox 513 324 566 340; x_wconf 96'>rose</span>\n",
      "      <span class='ocrx_word' id='word_1_22' title='bbox 577 316 637 341; x_wconf 96'>from</span>\n",
      "      <span class='ocrx_word' id='word_1_23' title='bbox 650 315 693 340; x_wconf 96'>the</span>\n",
      "      <span class='ocrx_word' id='word_1_24' title='bbox 704 315 788 341; x_wconf 96'>mould</span>\n",
      "      <span class='ocrx_word' id='word_1_25' title='bbox 798 315 826 340; x_wconf 96'>of</span>\n",
      "      <span class='ocrx_word' id='word_1_26' title='bbox 833 314 918 346; x_wconf 96'>earth;</span>\n",
      "     </span>\n",
      "    </p>\n",
      "\n",
      "    <p class='ocr_par' id='par_1_5' lang='eng' title=\"bbox 438 352 968 465\">\n",
      "     <span class='ocr_line' id='line_1_5' title=\"bbox 438 352 897 386; baseline 0.002 -8; x_size 33; x_descenders 7; x_ascenders 9\">\n",
      "      <span class='ocrx_word' id='word_1_27' title='bbox 438 356 475 379; x_wconf 96'>At</span>\n",
      "      <span class='ocrx_word' id='word_1_28' title='bbox 487 353 529 379; x_wconf 96'>the</span>\n",
      "      <span class='ocrx_word' id='word_1_29' title='bbox 540 353 594 378; x_wconf 96'>first</span>\n",
      "      <span class='ocrx_word' id='word_1_30' title='bbox 605 352 637 379; x_wconf 96'>of</span>\n",
      "      <span class='ocrx_word' id='word_1_31' title='bbox 640 353 683 379; x_wconf 96'>the</span>\n",
      "      <span class='ocrx_word' id='word_1_32' title='bbox 694 353 770 379; x_wconf 97'>harsh</span>\n",
      "      <span class='ocrx_word' id='word_1_33' title='bbox 781 353 897 386; x_wconf 96'>bursting</span>\n",
      "     </span>\n",
      "     <span class='ocr_line' id='line_1_6' title=\"bbox 438 391 968 425; baseline -0.002 -7; x_size 33; x_descenders 7; x_ascenders 9\">\n",
      "      <span class='ocrx_word' id='word_1_34' title='bbox 438 392 509 425; x_wconf 96'>They</span>\n",
      "      <span class='ocrx_word' id='word_1_35' title='bbox 520 392 564 417; x_wconf 96'>left</span>\n",
      "      <span class='ocrx_word' id='word_1_36' title='bbox 574 391 639 418; x_wconf 96'>their</span>\n",
      "      <span class='ocrx_word' id='word_1_37' title='bbox 649 400 716 418; x_wconf 96'>arms</span>\n",
      "      <span class='ocrx_word' id='word_1_38' title='bbox 727 392 777 418; x_wconf 96'>and</span>\n",
      "      <span class='ocrx_word' id='word_1_39' title='bbox 788 392 853 418; x_wconf 96'>their</span>\n",
      "      <span class='ocrx_word' id='word_1_40' title='bbox 862 391 968 417; x_wconf 96'>dresses.</span>\n",
      "     </span>\n",
      "     <span class='ocr_line' id='line_1_7' title=\"bbox 441 430 906 465; baseline 0 -9; x_size 35; x_descenders 9; x_ascenders 9\">\n",
      "      <span class='ocrx_word' id='word_1_41' title='bbox 441 431 453 457; x_wconf 96'>I</span>\n",
      "      <span class='ocrx_word' id='word_1_42' title='bbox 463 440 527 465; x_wconf 96'>gave</span>\n",
      "      <span class='ocrx_word' id='word_1_43' title='bbox 538 431 581 457; x_wconf 96'>the</span>\n",
      "      <span class='ocrx_word' id='word_1_44' title='bbox 593 431 649 465; x_wconf 96'>leap</span>\n",
      "      <span class='ocrx_word' id='word_1_45' title='bbox 659 431 688 456; x_wconf 96'>of</span>\n",
      "      <span class='ocrx_word' id='word_1_46' title='bbox 695 430 738 456; x_wconf 96'>the</span>\n",
      "      <span class='ocrx_word' id='word_1_47' title='bbox 749 430 842 457; x_wconf 96'>nimble</span>\n",
      "      <span class='ocrx_word' id='word_1_48' title='bbox 852 439 906 462; x_wconf 96'>one,</span>\n",
      "     </span>\n",
      "    </p>\n",
      "\n",
      "    <p class='ocr_par' id='par_1_6' lang='eng' title=\"bbox 439 470 792 496\">\n",
      "     <span class='ocr_line' id='line_1_8' title=\"bbox 439 470 792 496; baseline -0.003 0; x_size 33.074532; x_descenders 8.0745335; x_ascenders 8\">\n",
      "      <span class='ocrx_word' id='word_1_49' title='bbox 439 471 476 496; x_wconf 96'>As</span>\n",
      "      <span class='ocrx_word' id='word_1_50' title='bbox 487 471 500 496; x_wconf 96'>I</span>\n",
      "      <span class='ocrx_word' id='word_1_51' title='bbox 512 479 563 496; x_wconf 96'>was</span>\n",
      "      <span class='ocrx_word' id='word_1_52' title='bbox 574 470 654 496; x_wconf 96'>naked</span>\n",
      "      <span class='ocrx_word' id='word_1_53' title='bbox 665 470 713 495; x_wconf 96'>and</span>\n",
      "      <span class='ocrx_word' id='word_1_54' title='bbox 726 470 792 496; x_wconf 96'>bare.</span>\n",
      "     </span>\n",
      "    </p>\n",
      "\n",
      "    <p class='ocr_par' id='par_1_7' lang='eng' title=\"bbox 439 509 866 543\">\n",
      "     <span class='ocr_line' id='line_1_9' title=\"bbox 439 509 866 543; baseline -0.002 -8; x_size 31; x_descenders 5; x_ascenders 9\">\n",
      "      <span class='ocrx_word' id='word_1_55' title='bbox 439 510 469 535; x_wconf 6'>&quot;T</span>\n",
      "      <span class='ocrx_word' id='word_1_56' title='bbox 476 517 527 535; x_wconf 96'>was</span>\n",
      "      <span class='ocrx_word' id='word_1_57' title='bbox 538 509 584 536; x_wconf 58'>sud</span>\n",
      "      <span class='ocrx_word' id='word_1_58' title='bbox 595 509 632 535; x_wconf 96'>for</span>\n",
      "      <span class='ocrx_word' id='word_1_59' title='bbox 642 517 689 540; x_wconf 96'>me,</span>\n",
      "      <span class='ocrx_word' id='word_1_60' title='bbox 701 517 717 534; x_wconf 96'>a</span>\n",
      "      <span class='ocrx_word' id='word_1_61' title='bbox 727 509 866 543; x_wconf 96'>vagabond,</span>\n",
      "     </span>\n",
      "    </p>\n",
      "\n",
      "    <p class='ocr_par' id='par_1_8' lang='eng' title=\"bbox 437 547 827 581\">\n",
      "     <span class='ocr_line' id='line_1_10' title=\"bbox 437 547 827 581; baseline 0 -8; x_size 34.074532; x_descenders 8.0745335; x_ascenders 9\">\n",
      "      <span class='ocrx_word' id='word_1_62' title='bbox 437 548 474 574; x_wconf 96'>To</span>\n",
      "      <span class='ocrx_word' id='word_1_63' title='bbox 485 548 557 581; x_wconf 96'>enjoy</span>\n",
      "      <span class='ocrx_word' id='word_1_64' title='bbox 567 547 610 574; x_wconf 93'>the</span>\n",
      "      <span class='ocrx_word' id='word_1_65' title='bbox 622 547 732 581; x_wconf 91'>bishop’s</span>\n",
      "      <span class='ocrx_word' id='word_1_66' title='bbox 742 547 827 581; x_wconf 95'>gold.”</span>\n",
      "     </span>\n",
      "    </p>\n",
      "\n",
      "    <p class='ocr_par' id='par_1_9' lang='eng' title=\"bbox 276 603 1172 934\">\n",
      "     <span class='ocr_line' id='line_1_11' title=\"bbox 344 603 1171 642; baseline -0.001 -9; x_size 36.215019; x_descenders 8.4558821; x_ascenders 9.9562502\">\n",
      "      <span class='ocrx_word' id='word_1_67' title='bbox 344 604 496 642; x_wconf 80'>“Tighten</span>\n",
      "      <span class='ocrx_word' id='word_1_68' title='bbox 517 604 591 641; x_wconf 96'>well,</span>\n",
      "      <span class='ocrx_word' id='word_1_69' title='bbox 619 604 677 633; x_wconf 96'>and</span>\n",
      "      <span class='ocrx_word' id='word_1_70' title='bbox 703 604 783 642; x_wconf 96'>right</span>\n",
      "      <span class='ocrx_word' id='word_1_71' title='bbox 807 604 900 639; x_wconf 96'>well,”</span>\n",
      "      <span class='ocrx_word' id='word_1_72' title='bbox 923 604 985 633; x_wconf 96'>said</span>\n",
      "      <span class='ocrx_word' id='word_1_73' title='bbox 1005 603 1056 633; x_wconf 96'>the</span>\n",
      "      <span class='ocrx_word' id='word_1_74' title='bbox 1077 603 1149 641; x_wconf 93'>king</span>\n",
      "      <span class='ocrx_word' id='word_1_75' title='bbox 1162 613 1171 639; x_wconf 93'>;</span>\n",
      "     </span>\n",
      "     <span class='ocr_line' id='line_1_12' title=\"bbox 279 646 1172 686; baseline -0.002 -10; x_size 40; x_descenders 10; x_ascenders 10\">\n",
      "      <span class='ocrx_word' id='word_1_76' title='bbox 279 647 333 676; x_wconf 84'>“it</span>\n",
      "      <span class='ocrx_word' id='word_1_77' title='bbox 345 656 404 676; x_wconf 96'>was</span>\n",
      "      <span class='ocrx_word' id='word_1_78' title='bbox 418 650 471 676; x_wconf 96'>not</span>\n",
      "      <span class='ocrx_word' id='word_1_79' title='bbox 484 648 516 676; x_wconf 96'>in</span>\n",
      "      <span class='ocrx_word' id='word_1_80' title='bbox 530 656 585 677; x_wconf 96'>one</span>\n",
      "      <span class='ocrx_word' id='word_1_81' title='bbox 599 647 673 686; x_wconf 96'>good</span>\n",
      "      <span class='ocrx_word' id='word_1_82' title='bbox 687 647 770 685; x_wconf 96'>place</span>\n",
      "      <span class='ocrx_word' id='word_1_83' title='bbox 783 646 849 676; x_wconf 96'>that</span>\n",
      "      <span class='ocrx_word' id='word_1_84' title='bbox 862 646 901 676; x_wconf 96'>he</span>\n",
      "      <span class='ocrx_word' id='word_1_85' title='bbox 914 656 983 676; x_wconf 96'>ever</span>\n",
      "      <span class='ocrx_word' id='word_1_86' title='bbox 993 656 1071 682; x_wconf 92'>was</span>\n",
      "      <span class='ocrx_word' id='word_1_87' title='bbox 1050 642 1076 691; x_wconf 91'>;</span>\n",
      "      <span class='ocrx_word' id='word_1_88' title='bbox 1092 648 1172 683; x_wconf 96'>great</span>\n",
      "     </span>\n",
      "     <span class='ocr_line' id='line_1_13' title=\"bbox 277 688 1171 728; baseline -0.002 -9; x_size 41; x_descenders 10; x_ascenders 11\">\n",
      "      <span class='ocrx_word' id='word_1_89' title='bbox 277 689 303 719; x_wconf 96'>is</span>\n",
      "      <span class='ocrx_word' id='word_1_90' title='bbox 317 689 368 719; x_wconf 96'>the</span>\n",
      "      <span class='ocrx_word' id='word_1_91' title='bbox 382 689 416 719; x_wconf 95'>ill</span>\n",
      "      <span class='ocrx_word' id='word_1_92' title='bbox 430 690 467 719; x_wconf 96'>he</span>\n",
      "      <span class='ocrx_word' id='word_1_93' title='bbox 481 690 534 720; x_wconf 96'>has</span>\n",
      "      <span class='ocrx_word' id='word_1_94' title='bbox 548 688 652 720; x_wconf 92'>done.”</span>\n",
      "      <span class='ocrx_word' id='word_1_95' title='bbox 695 689 779 719; x_wconf 92'>Then</span>\n",
      "      <span class='ocrx_word' id='word_1_96' title='bbox 793 689 831 719; x_wconf 96'>he</span>\n",
      "      <span class='ocrx_word' id='word_1_97' title='bbox 844 699 904 719; x_wconf 96'>was</span>\n",
      "      <span class='ocrx_word' id='word_1_98' title='bbox 917 689 1068 728; x_wconf 93'>tightened</span>\n",
      "      <span class='ocrx_word' id='word_1_99' title='bbox 1081 697 1171 718; x_wconf 92'>some-</span>\n",
      "     </span>\n",
      "     <span class='ocr_line' id='line_1_14' title=\"bbox 278 731 1172 772; baseline -0.002 -10; x_size 40; x_descenders 9; x_ascenders 11\">\n",
      "      <span class='ocrx_word' id='word_1_100' title='bbox 278 732 356 763; x_wconf 96'>what</span>\n",
      "      <span class='ocrx_word' id='word_1_101' title='bbox 379 732 494 771; x_wconf 96'>tighter,</span>\n",
      "      <span class='ocrx_word' id='word_1_102' title='bbox 519 733 578 763; x_wconf 95'>and</span>\n",
      "      <span class='ocrx_word' id='word_1_103' title='bbox 600 732 758 763; x_wconf 96'>somewhat</span>\n",
      "      <span class='ocrx_word' id='word_1_104' title='bbox 780 732 912 772; x_wconf 90'>tighter;</span>\n",
      "      <span class='ocrx_word' id='word_1_105' title='bbox 944 732 1003 762; x_wconf 96'>and</span>\n",
      "      <span class='ocrx_word' id='word_1_106' title='bbox 1026 731 1077 761; x_wconf 96'>the</span>\n",
      "      <span class='ocrx_word' id='word_1_107' title='bbox 1099 731 1172 769; x_wconf 96'>king</span>\n",
      "     </span>\n",
      "     <span class='ocr_line' id='line_1_15' title=\"bbox 276 774 1172 816; baseline -0.002 -10; x_size 36; x_descenders 6; x_ascenders 10\">\n",
      "      <span class='ocrx_word' id='word_1_108' title='bbox 276 776 347 812; x_wconf 96'>said,</span>\n",
      "      <span class='ocrx_word' id='word_1_109' title='bbox 364 776 477 806; x_wconf 34'>“Thou</span>\n",
      "      <span class='ocrx_word' id='word_1_110' title='bbox 490 780 569 816; x_wconf 96'>great</span>\n",
      "      <span class='ocrx_word' id='word_1_111' title='bbox 583 777 635 806; x_wconf 96'>red</span>\n",
      "      <span class='ocrx_word' id='word_1_112' title='bbox 649 785 724 812; x_wconf 96'>man,</span>\n",
      "      <span class='ocrx_word' id='word_1_113' title='bbox 736 778 809 806; x_wconf 96'>wert</span>\n",
      "      <span class='ocrx_word' id='word_1_114' title='bbox 822 776 895 806; x_wconf 96'>thou</span>\n",
      "      <span class='ocrx_word' id='word_1_115' title='bbox 909 785 977 805; x_wconf 96'>ever</span>\n",
      "      <span class='ocrx_word' id='word_1_116' title='bbox 990 776 1023 805; x_wconf 96'>in</span>\n",
      "      <span class='ocrx_word' id='word_1_117' title='bbox 1036 785 1053 804; x_wconf 96'>a</span>\n",
      "      <span class='ocrx_word' id='word_1_118' title='bbox 1067 774 1172 804; x_wconf 96'>harder</span>\n",
      "     </span>\n",
      "     <span class='ocr_line' id='line_1_16' title=\"bbox 278 818 1171 858; baseline -0.003 -9; x_size 40; x_descenders 10; x_ascenders 10\">\n",
      "      <span class='ocrx_word' id='word_1_119' title='bbox 278 828 341 848; x_wconf 94'>case</span>\n",
      "      <span class='ocrx_word' id='word_1_120' title='bbox 355 819 428 849; x_wconf 96'>than</span>\n",
      "      <span class='ocrx_word' id='word_1_121' title='bbox 444 820 553 849; x_wconf 96'>that?”</span>\n",
      "      <span class='ocrx_word' id='word_1_122' title='bbox 599 819 756 858; x_wconf 74'>“Tighten</span>\n",
      "      <span class='ocrx_word' id='word_1_123' title='bbox 777 819 890 858; x_wconf 96'>myself,</span>\n",
      "      <span class='ocrx_word' id='word_1_124' title='bbox 913 819 973 849; x_wconf 96'>and</span>\n",
      "      <span class='ocrx_word' id='word_1_125' title='bbox 994 819 1035 848; x_wconf 96'>let</span>\n",
      "      <span class='ocrx_word' id='word_1_126' title='bbox 1055 828 1073 847; x_wconf 96'>a</span>\n",
      "      <span class='ocrx_word' id='word_1_127' title='bbox 1094 818 1171 847; x_wconf 95'>little</span>\n",
      "     </span>\n",
      "     <span class='ocr_line' id='line_1_17' title=\"bbox 277 860 1171 898; baseline -0.003 -6; x_size 38; x_descenders 7; x_ascenders 12\">\n",
      "      <span class='ocrx_word' id='word_1_128' title='bbox 277 861 358 891; x_wconf 96'>slack</span>\n",
      "      <span class='ocrx_word' id='word_1_129' title='bbox 373 862 446 892; x_wconf 96'>with</span>\n",
      "      <span class='ocrx_word' id='word_1_130' title='bbox 470 862 530 892; x_wconf 96'>this</span>\n",
      "      <span class='ocrx_word' id='word_1_131' title='bbox 552 872 607 892; x_wconf 96'>one</span>\n",
      "      <span class='ocrx_word' id='word_1_132' title='bbox 629 862 729 891; x_wconf 96'>beside</span>\n",
      "      <span class='ocrx_word' id='word_1_133' title='bbox 754 872 809 898; x_wconf 96'>me,</span>\n",
      "      <span class='ocrx_word' id='word_1_134' title='bbox 832 862 891 891; x_wconf 96'>and</span>\n",
      "      <span class='ocrx_word' id='word_1_135' title='bbox 913 861 930 891; x_wconf 96'>I</span>\n",
      "      <span class='ocrx_word' id='word_1_136' title='bbox 947 861 1009 891; x_wconf 96'>will</span>\n",
      "      <span class='ocrx_word' id='word_1_137' title='bbox 1030 860 1082 890; x_wconf 96'>tell</span>\n",
      "      <span class='ocrx_word' id='word_1_138' title='bbox 1104 861 1171 890; x_wconf 96'>thee</span>\n",
      "     </span>\n",
      "     <span class='ocr_line' id='line_1_18' title=\"bbox 279 904 371 934; baseline 0 0; x_size 36.215019; x_descenders 8.4558821; x_ascenders 9.9562502\">\n",
      "      <span class='ocrx_word' id='word_1_139' title='bbox 279 904 371 934; x_wconf 92'>that.”</span>\n",
      "     </span>\n",
      "    </p>\n",
      "\n",
      "    <p class='ocr_par' id='par_1_10' lang='eng' title=\"bbox 342 946 911 986\">\n",
      "     <span class='ocr_line' id='line_1_19' title=\"bbox 342 946 911 986; baseline 0 -10; x_size 35; x_descenders 5; x_ascenders 11\">\n",
      "      <span class='ocrx_word' id='word_1_140' title='bbox 342 946 426 986; x_wconf 96'>They</span>\n",
      "      <span class='ocrx_word' id='word_1_141' title='bbox 440 947 493 976; x_wconf 96'>did</span>\n",
      "      <span class='ocrx_word' id='word_1_142' title='bbox 506 947 577 977; x_wconf 96'>that.</span>\n",
      "      <span class='ocrx_word' id='word_1_143' title='bbox 625 947 673 976; x_wconf 45'>“I</span>\n",
      "      <span class='ocrx_word' id='word_1_144' title='bbox 688 947 772 984; x_wconf 96'>was,”</span>\n",
      "      <span class='ocrx_word' id='word_1_145' title='bbox 788 947 851 977; x_wconf 96'>said</span>\n",
      "      <span class='ocrx_word' id='word_1_146' title='bbox 866 947 911 983; x_wconf 96'>he,</span>\n",
      "     </span>\n",
      "    </p>\n",
      "\n",
      "    <p class='ocr_par' id='par_1_11' lang='eng' title=\"bbox 407 1005 881 1109\">\n",
      "     <span class='ocr_line' id='line_1_20' title=\"bbox 407 1005 874 1039; baseline 0 -8; x_size 34; x_descenders 8; x_ascenders 9\">\n",
      "      <span class='ocrx_word' id='word_1_147' title='bbox 407 1009 422 1019; x_wconf 88'>“</span>\n",
      "      <span class='ocrx_word' id='word_1_148' title='bbox 433 1006 498 1032; x_wconf 93'>Nine</span>\n",
      "      <span class='ocrx_word' id='word_1_149' title='bbox 508 1014 590 1031; x_wconf 92'>morns</span>\n",
      "      <span class='ocrx_word' id='word_1_150' title='bbox 601 1005 627 1031; x_wconf 95'>in</span>\n",
      "      <span class='ocrx_word' id='word_1_151' title='bbox 639 1005 683 1031; x_wconf 96'>the</span>\n",
      "      <span class='ocrx_word' id='word_1_152' title='bbox 693 1014 754 1031; x_wconf 96'>cave</span>\n",
      "      <span class='ocrx_word' id='word_1_153' title='bbox 765 1005 794 1031; x_wconf 96'>of</span>\n",
      "      <span class='ocrx_word' id='word_1_154' title='bbox 800 1006 858 1039; x_wconf 93'>gold</span>\n",
      "      <span class='ocrx_word' id='word_1_155' title='bbox 868 1015 874 1036; x_wconf 93'>;</span>\n",
      "     </span>\n",
      "     <span class='ocr_line' id='line_1_21' title=\"bbox 438 1043 881 1077; baseline 0 -7; x_size 33; x_descenders 7; x_ascenders 8\">\n",
      "      <span class='ocrx_word' id='word_1_156' title='bbox 438 1044 481 1077; x_wconf 96'>My</span>\n",
      "      <span class='ocrx_word' id='word_1_157' title='bbox 493 1048 560 1070; x_wconf 96'>meat</span>\n",
      "      <span class='ocrx_word' id='word_1_158' title='bbox 572 1052 622 1069; x_wconf 95'>was</span>\n",
      "      <span class='ocrx_word' id='word_1_159' title='bbox 634 1043 676 1070; x_wconf 95'>the</span>\n",
      "      <span class='ocrx_word' id='word_1_160' title='bbox 688 1044 751 1077; x_wconf 96'>body</span>\n",
      "      <span class='ocrx_word' id='word_1_161' title='bbox 745 1039 788 1081; x_wconf 96'>of</span>\n",
      "      <span class='ocrx_word' id='word_1_162' title='bbox 787 1044 881 1076; x_wconf 96'>bones,</span>\n",
      "     </span>\n",
      "     <span class='ocr_line' id='line_1_22' title=\"bbox 437 1082 785 1109; baseline 0 0; x_size 35.074532; x_descenders 8.0745335; x_ascenders 10\">\n",
      "      <span class='ocrx_word' id='word_1_163' title='bbox 437 1083 533 1109; x_wconf 90'>Sinews</span>\n",
      "      <span class='ocrx_word' id='word_1_164' title='bbox 543 1083 571 1109; x_wconf 96'>of</span>\n",
      "      <span class='ocrx_word' id='word_1_165' title='bbox 578 1083 628 1109; x_wconf 96'>feet</span>\n",
      "      <span class='ocrx_word' id='word_1_166' title='bbox 639 1083 687 1109; x_wconf 96'>and</span>\n",
      "      <span class='ocrx_word' id='word_1_167' title='bbox 698 1082 785 1109; x_wconf 94'>bands.</span>\n",
      "     </span>\n",
      "    </p>\n",
      "\n",
      "    <p class='ocr_par' id='par_1_12' lang='eng' title=\"bbox 437 1121 837 1148\">\n",
      "     <span class='ocr_line' id='line_1_23' title=\"bbox 437 1121 837 1148; baseline -0.003 0; x_size 34.074532; x_descenders 8.0745335; x_ascenders 9\">\n",
      "      <span class='ocrx_word' id='word_1_168' title='bbox 437 1123 473 1148; x_wconf 96'>At</span>\n",
      "      <span class='ocrx_word' id='word_1_169' title='bbox 484 1122 525 1148; x_wconf 96'>the</span>\n",
      "      <span class='ocrx_word' id='word_1_170' title='bbox 536 1122 585 1148; x_wconf 97'>end</span>\n",
      "      <span class='ocrx_word' id='word_1_171' title='bbox 596 1122 624 1148; x_wconf 96'>of</span>\n",
      "      <span class='ocrx_word' id='word_1_172' title='bbox 631 1121 673 1148; x_wconf 96'>the</span>\n",
      "      <span class='ocrx_word' id='word_1_173' title='bbox 685 1121 757 1147; x_wconf 96'>ninth</span>\n",
      "      <span class='ocrx_word' id='word_1_174' title='bbox 767 1130 837 1148; x_wconf 96'>morn</span>\n",
      "     </span>\n",
      "    </p>\n",
      "\n",
      "    <p class='ocr_par' id='par_1_13' lang='eng' title=\"bbox 436 1161 885 1274\">\n",
      "     <span class='ocr_line' id='line_1_24' title=\"bbox 437 1161 847 1195; baseline 0 -8; x_size 34; x_descenders 8; x_ascenders 9\">\n",
      "      <span class='ocrx_word' id='word_1_175' title='bbox 437 1163 462 1187; x_wconf 96'>A</span>\n",
      "      <span class='ocrx_word' id='word_1_176' title='bbox 473 1161 624 1195; x_wconf 96'>descending</span>\n",
      "      <span class='ocrx_word' id='word_1_177' title='bbox 634 1161 699 1187; x_wconf 96'>creel</span>\n",
      "      <span class='ocrx_word' id='word_1_178' title='bbox 711 1169 762 1187; x_wconf 95'>was</span>\n",
      "      <span class='ocrx_word' id='word_1_179' title='bbox 773 1170 830 1187; x_wconf 93'>seen</span>\n",
      "      <span class='ocrx_word' id='word_1_180' title='bbox 840 1170 847 1192; x_wconf 93'>;</span>\n",
      "     </span>\n",
      "     <span class='ocr_line' id='line_1_25' title=\"bbox 436 1200 885 1235; baseline 0.002 -9; x_size 36; x_descenders 9; x_ascenders 10\">\n",
      "      <span class='ocrx_word' id='word_1_181' title='bbox 436 1200 506 1226; x_wconf 96'>Then</span>\n",
      "      <span class='ocrx_word' id='word_1_182' title='bbox 519 1201 532 1227; x_wconf 96'>I</span>\n",
      "      <span class='ocrx_word' id='word_1_183' title='bbox 543 1201 638 1235; x_wconf 96'>caught</span>\n",
      "      <span class='ocrx_word' id='word_1_184' title='bbox 649 1200 707 1226; x_wconf 96'>hold</span>\n",
      "      <span class='ocrx_word' id='word_1_185' title='bbox 717 1209 749 1226; x_wconf 96'>on</span>\n",
      "      <span class='ocrx_word' id='word_1_186' title='bbox 761 1200 804 1227; x_wconf 90'>the</span>\n",
      "      <span class='ocrx_word' id='word_1_187' title='bbox 813 1200 885 1233; x_wconf 95'>creel,</span>\n",
      "     </span>\n",
      "     <span class='ocr_line' id='line_1_26' title=\"bbox 436 1239 879 1274; baseline 0.002 -9; x_size 35; x_descenders 9; x_ascenders 9\">\n",
      "      <span class='ocrx_word' id='word_1_188' title='bbox 436 1239 494 1265; x_wconf 96'>And</span>\n",
      "      <span class='ocrx_word' id='word_1_189' title='bbox 505 1239 554 1265; x_wconf 96'>laid</span>\n",
      "      <span class='ocrx_word' id='word_1_190' title='bbox 567 1240 625 1274; x_wconf 96'>gold</span>\n",
      "      <span class='ocrx_word' id='word_1_191' title='bbox 637 1240 713 1266; x_wconf 96'>above</span>\n",
      "      <span class='ocrx_word' id='word_1_192' title='bbox 725 1240 774 1266; x_wconf 97'>and</span>\n",
      "      <span class='ocrx_word' id='word_1_193' title='bbox 785 1240 879 1272; x_wconf 93'>below</span>\n",
      "      <span class='ocrx_word' id='word_1_194' title='bbox 853 1235 883 1279; x_wconf 93'>;</span>\n",
      "     </span>\n",
      "    </p>\n",
      "\n",
      "    <p class='ocr_par' id='par_1_14' lang='eng' title=\"bbox 435 1278 927 1383\">\n",
      "     <span class='ocr_line' id='line_1_27' title=\"bbox 437 1278 927 1313; baseline 0 -9; x_size 35; x_descenders 8; x_ascenders 10\">\n",
      "      <span class='ocrx_word' id='word_1_195' title='bbox 437 1278 450 1304; x_wconf 96'>I</span>\n",
      "      <span class='ocrx_word' id='word_1_196' title='bbox 461 1279 532 1305; x_wconf 96'>made</span>\n",
      "      <span class='ocrx_word' id='word_1_197' title='bbox 543 1287 586 1312; x_wconf 93'>my</span>\n",
      "      <span class='ocrx_word' id='word_1_198' title='bbox 597 1278 685 1313; x_wconf 91'>biding</span>\n",
      "      <span class='ocrx_word' id='word_1_199' title='bbox 697 1278 783 1305; x_wconf 96'>within</span>\n",
      "      <span class='ocrx_word' id='word_1_200' title='bbox 794 1279 837 1306; x_wconf 96'>the</span>\n",
      "      <span class='ocrx_word' id='word_1_201' title='bbox 848 1279 927 1310; x_wconf 84'>creel</span>\n",
      "      <span class='ocrx_word' id='word_1_202' title='bbox 909 1274 932 1317; x_wconf 84'>;</span>\n",
      "     </span>\n",
      "     <span class='ocr_line' id='line_1_28' title=\"bbox 437 1317 910 1353; baseline 0.002 -10; x_size 35; x_descenders 9; x_ascenders 9\">\n",
      "      <span class='ocrx_word' id='word_1_203' title='bbox 437 1318 450 1343; x_wconf 69'>I</span>\n",
      "      <span class='ocrx_word' id='word_1_204' title='bbox 462 1317 519 1343; x_wconf 96'>took</span>\n",
      "      <span class='ocrx_word' id='word_1_205' title='bbox 530 1317 592 1344; x_wconf 97'>with</span>\n",
      "      <span class='ocrx_word' id='word_1_206' title='bbox 603 1326 642 1343; x_wconf 95'>me</span>\n",
      "      <span class='ocrx_word' id='word_1_207' title='bbox 654 1319 698 1344; x_wconf 93'>the</span>\n",
      "      <span class='ocrx_word' id='word_1_208' title='bbox 709 1318 791 1352; x_wconf 92'>glaive</span>\n",
      "      <span class='ocrx_word' id='word_1_209' title='bbox 803 1318 831 1344; x_wconf 96'>of</span>\n",
      "      <span class='ocrx_word' id='word_1_210' title='bbox 838 1318 910 1353; x_wconf 96'>light,</span>\n",
      "     </span>\n",
      "     <span class='ocr_line' id='line_1_29' title=\"bbox 435 1356 846 1383; baseline 0 -1; x_size 36.215019; x_descenders 8.4558821; x_ascenders 9.9562502\">\n",
      "      <span class='ocrx_word' id='word_1_211' title='bbox 435 1356 490 1382; x_wconf 96'>The</span>\n",
      "      <span class='ocrx_word' id='word_1_212' title='bbox 501 1356 606 1383; x_wconf 96'>luckiest</span>\n",
      "      <span class='ocrx_word' id='word_1_213' title='bbox 617 1360 674 1382; x_wconf 96'>turn</span>\n",
      "      <span class='ocrx_word' id='word_1_214' title='bbox 687 1357 742 1382; x_wconf 96'>that</span>\n",
      "      <span class='ocrx_word' id='word_1_215' title='bbox 754 1357 767 1382; x_wconf 96'>I</span>\n",
      "      <span class='ocrx_word' id='word_1_216' title='bbox 778 1357 846 1383; x_wconf 96'>did.”</span>\n",
      "     </span>\n",
      "    </p>\n",
      "   </div>\n",
      "   <div class='ocr_carea' id='block_1_4' title=\"bbox 275 1410 1170 1791\">\n",
      "    <p class='ocr_par' id='par_1_15' lang='eng' title=\"bbox 275 1410 1170 1578\">\n",
      "     <span class='ocr_line' id='line_1_30' title=\"bbox 339 1410 1170 1450; baseline -0.001 -10; x_size 39; x_descenders 9; x_ascenders 10\">\n",
      "      <span class='ocrx_word' id='word_1_217' title='bbox 339 1411 419 1450; x_wconf 96'>They</span>\n",
      "      <span class='ocrx_word' id='word_1_218' title='bbox 433 1421 505 1450; x_wconf 96'>gave</span>\n",
      "      <span class='ocrx_word' id='word_1_219' title='bbox 519 1411 580 1441; x_wconf 96'>him</span>\n",
      "      <span class='ocrx_word' id='word_1_220' title='bbox 602 1411 653 1441; x_wconf 96'>the</span>\n",
      "      <span class='ocrx_word' id='word_1_221' title='bbox 674 1414 747 1441; x_wconf 96'>next</span>\n",
      "      <span class='ocrx_word' id='word_1_222' title='bbox 759 1412 932 1450; x_wconf 96'>tightening,</span>\n",
      "      <span class='ocrx_word' id='word_1_223' title='bbox 952 1411 1010 1440; x_wconf 96'>and</span>\n",
      "      <span class='ocrx_word' id='word_1_224' title='bbox 1024 1410 1075 1440; x_wconf 96'>the</span>\n",
      "      <span class='ocrx_word' id='word_1_225' title='bbox 1097 1410 1170 1448; x_wconf 96'>king</span>\n",
      "     </span>\n",
      "     <span class='ocr_line' id='line_1_31' title=\"bbox 275 1453 1167 1491; baseline -0.001 -8; x_size 38; x_descenders 8; x_ascenders 10\">\n",
      "      <span class='ocrx_word' id='word_1_226' title='bbox 275 1453 365 1484; x_wconf 96'>asked</span>\n",
      "      <span class='ocrx_word' id='word_1_227' title='bbox 386 1454 455 1490; x_wconf 93'>him,</span>\n",
      "      <span class='ocrx_word' id='word_1_228' title='bbox 481 1455 499 1470; x_wconf 73'>“</span>\n",
      "      <span class='ocrx_word' id='word_1_229' title='bbox 509 1454 595 1484; x_wconf 96'>Wert</span>\n",
      "      <span class='ocrx_word' id='word_1_230' title='bbox 615 1455 687 1484; x_wconf 96'>thou</span>\n",
      "      <span class='ocrx_word' id='word_1_231' title='bbox 709 1464 777 1484; x_wconf 96'>ever</span>\n",
      "      <span class='ocrx_word' id='word_1_232' title='bbox 799 1455 831 1484; x_wconf 96'>in</span>\n",
      "      <span class='ocrx_word' id='word_1_233' title='bbox 852 1464 923 1491; x_wconf 96'>case,</span>\n",
      "      <span class='ocrx_word' id='word_1_234' title='bbox 945 1464 979 1484; x_wconf 95'>or</span>\n",
      "      <span class='ocrx_word' id='word_1_235' title='bbox 1003 1453 1167 1491; x_wconf 96'>extremity,</span>\n",
      "     </span>\n",
      "     <span class='ocr_line' id='line_1_32' title=\"bbox 275 1496 1166 1537; baseline -0.002 -10; x_size 36; x_descenders 5; x_ascenders 11\">\n",
      "      <span class='ocrx_word' id='word_1_236' title='bbox 275 1506 307 1526; x_wconf 96'>as</span>\n",
      "      <span class='ocrx_word' id='word_1_237' title='bbox 320 1497 393 1527; x_wconf 96'>hard</span>\n",
      "      <span class='ocrx_word' id='word_1_238' title='bbox 407 1507 439 1527; x_wconf 96'>as</span>\n",
      "      <span class='ocrx_word' id='word_1_239' title='bbox 460 1496 578 1527; x_wconf 74'>that?”</span>\n",
      "      <span class='ocrx_word' id='word_1_240' title='bbox 625 1498 681 1527; x_wconf 83'>“A</span>\n",
      "      <span class='ocrx_word' id='word_1_241' title='bbox 703 1498 779 1528; x_wconf 95'>little</span>\n",
      "      <span class='ocrx_word' id='word_1_242' title='bbox 801 1498 967 1537; x_wconf 96'>tightening</span>\n",
      "      <span class='ocrx_word' id='word_1_243' title='bbox 987 1497 1033 1526; x_wconf 96'>for</span>\n",
      "      <span class='ocrx_word' id='word_1_244' title='bbox 1053 1496 1166 1534; x_wconf 95'>myself,</span>\n",
      "     </span>\n",
      "     <span class='ocr_line' id='line_1_33' title=\"bbox 275 1537 1167 1578; baseline -0.001 -9; x_size 39; x_descenders 8; x_ascenders 11\">\n",
      "      <span class='ocrx_word' id='word_1_245' title='bbox 275 1540 333 1569; x_wconf 96'>and</span>\n",
      "      <span class='ocrx_word' id='word_1_246' title='bbox 347 1550 359 1569; x_wconf 92'>a</span>\n",
      "      <span class='ocrx_word' id='word_1_247' title='bbox 358 1540 458 1570; x_wconf 92'>slack</span>\n",
      "      <span class='ocrx_word' id='word_1_248' title='bbox 472 1541 517 1570; x_wconf 95'>for</span>\n",
      "      <span class='ocrx_word' id='word_1_249' title='bbox 531 1549 581 1578; x_wconf 96'>my</span>\n",
      "      <span class='ocrx_word' id='word_1_250' title='bbox 595 1540 734 1577; x_wconf 96'>comrade,</span>\n",
      "      <span class='ocrx_word' id='word_1_251' title='bbox 750 1541 911 1571; x_wconf 96'>and</span>\n",
      "      <span class='ocrx_word' id='word_1_252' title='bbox 800 1533 834 1583; x_wconf 96'>I</span>\n",
      "      <span class='ocrx_word' id='word_1_253' title='bbox 837 1541 909 1571; x_wconf 96'>will</span>\n",
      "      <span class='ocrx_word' id='word_1_254' title='bbox 925 1540 978 1570; x_wconf 96'>tell</span>\n",
      "      <span class='ocrx_word' id='word_1_255' title='bbox 993 1540 1059 1570; x_wconf 93'>thee</span>\n",
      "      <span class='ocrx_word' id='word_1_256' title='bbox 1074 1537 1167 1568; x_wconf 42'>that.”’</span>\n",
      "     </span>\n",
      "    </p>\n",
      "\n",
      "    <p class='ocr_par' id='par_1_16' lang='eng' title=\"bbox 339 1582 569 1621\">\n",
      "     <span class='ocr_line' id='line_1_34' title=\"bbox 339 1582 569 1621; baseline 0 -9; x_size 38.709824; x_descenders 8.125; x_ascenders 10.428572\">\n",
      "      <span class='ocrx_word' id='word_1_257' title='bbox 339 1582 421 1621; x_wconf 96'>They</span>\n",
      "      <span class='ocrx_word' id='word_1_258' title='bbox 434 1583 486 1612; x_wconf 96'>did</span>\n",
      "      <span class='ocrx_word' id='word_1_259' title='bbox 500 1583 569 1612; x_wconf 96'>this.</span>\n",
      "     </span>\n",
      "    </p>\n",
      "\n",
      "    <p class='ocr_par' id='par_1_17' lang='eng' title=\"bbox 412 1640 971 1791\">\n",
      "     <span class='ocr_line' id='line_1_35' title=\"bbox 412 1640 845 1676; baseline 0.002 -9; x_size 34.255814; x_descenders 7.2558141; x_ascenders 9\">\n",
      "      <span class='ocrx_word' id='word_1_260' title='bbox 412 1640 603 1674; x_wconf 68'>“On</span>\n",
      "      <span class='ocrx_word' id='word_1_261' title='bbox 477 1636 500 1680; x_wconf 95'>a</span>\n",
      "      <span class='ocrx_word' id='word_1_262' title='bbox 499 1640 559 1674; x_wconf 95'>day</span>\n",
      "      <span class='ocrx_word' id='word_1_263' title='bbox 562 1636 595 1680; x_wconf 93'>on</span>\n",
      "      <span class='ocrx_word' id='word_1_264' title='bbox 617 1641 703 1667; x_wconf 87'>Sliabb</span>\n",
      "      <span class='ocrx_word' id='word_1_265' title='bbox 697 1636 742 1680; x_wconf 93'>na</span>\n",
      "      <span class='ocrx_word' id='word_1_266' title='bbox 741 1641 845 1676; x_wconf 92'>leirge,</span>\n",
      "     </span>\n",
      "     <span class='ocr_line' id='line_1_36' title=\"bbox 436 1679 748 1711; baseline 0.003 -6; x_size 32; x_descenders 6; x_ascenders 9\">\n",
      "      <span class='ocrx_word' id='word_1_267' title='bbox 436 1680 474 1706; x_wconf 85'>As</span>\n",
      "      <span class='ocrx_word' id='word_1_268' title='bbox 486 1679 500 1705; x_wconf 85'>I</span>\n",
      "      <span class='ocrx_word' id='word_1_269' title='bbox 513 1683 578 1705; x_wconf 96'>went</span>\n",
      "      <span class='ocrx_word' id='word_1_270' title='bbox 589 1679 643 1705; x_wconf 96'>into</span>\n",
      "      <span class='ocrx_word' id='word_1_271' title='bbox 653 1688 669 1705; x_wconf 96'>a</span>\n",
      "      <span class='ocrx_word' id='word_1_272' title='bbox 680 1688 748 1711; x_wconf 95'>cave,</span>\n",
      "     </span>\n",
      "     <span class='ocr_line' id='line_1_37' title=\"bbox 436 1717 971 1752; baseline 0.002 -8; x_size 34; x_descenders 7; x_ascenders 9\">\n",
      "      <span class='ocrx_word' id='word_1_273' title='bbox 436 1718 449 1744; x_wconf 96'>I</span>\n",
      "      <span class='ocrx_word' id='word_1_274' title='bbox 460 1726 512 1743; x_wconf 96'>saw</span>\n",
      "      <span class='ocrx_word' id='word_1_275' title='bbox 523 1726 539 1744; x_wconf 94'>a</span>\n",
      "      <span class='ocrx_word' id='word_1_276' title='bbox 549 1717 653 1748; x_wconf 95'>smooth,</span>\n",
      "      <span class='ocrx_word' id='word_1_277' title='bbox 665 1717 719 1748; x_wconf 93'>fair,</span>\n",
      "      <span class='ocrx_word' id='word_1_278' title='bbox 730 1718 896 1752; x_wconf 91'>mother-eyed</span>\n",
      "      <span class='ocrx_word' id='word_1_279' title='bbox 908 1719 971 1749; x_wconf 94'>wife,</span>\n",
      "     </span>\n",
      "     <span class='ocr_line' id='line_1_38' title=\"bbox 435 1756 882 1791; baseline 0.002 -8; x_size 36; x_descenders 8; x_ascenders 10\">\n",
      "      <span class='ocrx_word' id='word_1_280' title='bbox 435 1756 575 1791; x_wconf 91'>Thrusting</span>\n",
      "      <span class='ocrx_word' id='word_1_281' title='bbox 585 1756 628 1783; x_wconf 96'>tho</span>\n",
      "      <span class='ocrx_word' id='word_1_282' title='bbox 640 1756 710 1783; x_wconf 96'>stake</span>\n",
      "      <span class='ocrx_word' id='word_1_283' title='bbox 723 1757 759 1783; x_wconf 96'>for</span>\n",
      "      <span class='ocrx_word' id='word_1_284' title='bbox 769 1756 810 1784; x_wconf 96'>the</span>\n",
      "      <span class='ocrx_word' id='word_1_285' title='bbox 822 1757 882 1784; x_wconf 96'>flesh</span>\n",
      "     </span>\n",
      "    </p>\n",
      "   </div>\n",
      "  </div>\n",
      " </body>\n",
      "</html>\n",
      "\n"
     ]
    }
   ],
   "source": [
    "ds = wds.WebDataset(\"tess.tar\").decode(\"rgb8\")\n",
    "sample = next(islice(ds, 33, 999))\n",
    "print(sample.keys())\n",
    "print(sample[\"tess.hocr\"].decode(\"utf-8\"))"
   ]
  },
  {
   "cell_type": "code",
   "execution_count": 14,
   "id": "minute-given",
   "metadata": {
    "kernel": "Python3"
   },
   "outputs": [
    {
     "data": {
      "text/plain": [
       "<matplotlib.image.AxesImage at 0x7f68d5d70a60>"
      ]
     },
     "execution_count": 14,
     "metadata": {},
     "output_type": "execute_result"
    },
    {
     "data": {
      "image/png": "[encoded data removed]",
      "text/plain": [
       "<Figure size 432x288 with 1 Axes>"
      ]
     },
     "metadata": {
      "needs_background": "light"
     },
     "output_type": "display_data"
    }
   ],
   "source": [
    "plt.imshow(sample[\"nrm.jpg\"])"
   ]
  },
  {
   "cell_type": "markdown",
   "id": "comic-academy",
   "metadata": {
    "kernel": "Python3"
   },
   "source": [
    "## Segmentation Data\n",
    "\n",
    "Segmentation algorithms are usually trained on four-label segmentation targets consisting of markers, areas, separators, and background. The `extract-seg hocr2seg` subcommand extracts those training images.\n",
    "\n",
    "Ordinarily, we would extract this data from many shards and shuffle it for training, but we're dispensing with that in this simple example.\n"
   ]
  },
  {
   "cell_type": "code",
   "execution_count": 15,
   "id": "packed-guidance",
   "metadata": {
    "kernel": "SoS"
   },
   "outputs": [],
   "source": [
    "[seg-data]\n",
    "input: 'tess.tar'\n",
    "output: 'book-seg.tar'\n",
    "sh: expand=True\n",
    "    export MPLBACKEND=TkAgg\n",
    "    vocropus extract-seg hocr2seg {_input} --output {_output}.temp --element ocrx_word --extensions 'nrm.jpg tess.hocr' --invert True \\\n",
    "        --show 100 --labels='1, 2, 3' --check word --maxcount {maxextract}\n",
    "    mv {_output}.temp {_output}\n"
   ]
  },
  {
   "cell_type": "code",
   "execution_count": 16,
   "id": "cooperative-withdrawal",
   "metadata": {
    "kernel": "SoS",
    "scrolled": true,
    "tags": []
   },
   "outputs": [
    {
     "data": {
      "text/html": [
       "<div class=\"sos_logging sos_info\">INFO: Running <span class=\"sos_highlight\">seg-data</span>: \n",
       "</div>"
      ]
     },
     "metadata": {},
     "output_type": "display_data"
    },
    {
     "data": {
      "text/html": [
       "<div class=\"sos_logging sos_info\">INFO: <span class=\"sos_highlight\">seg-data</span> (index=0) is <span class=\"sos_highlight\">ignored</span> due to saved signature\n",
       "</div>"
      ]
     },
     "metadata": {},
     "output_type": "display_data"
    },
    {
     "data": {
      "text/html": [
       "<div class=\"sos_logging sos_info\">INFO: <span class=\"sos_highlight\">seg-data</span> output:   <span class=\"sos_highlight\">book-seg.tar</span>\n",
       "</div>"
      ]
     },
     "metadata": {},
     "output_type": "display_data"
    },
    {
     "data": {
      "text/html": [
       "<div class=\"sos_logging sos_info\">INFO: Workflow seg-data (ID=w359f8a17bb12b8f1) is ignored with 1 ignored step.\n",
       "</div>"
      ]
     },
     "metadata": {},
     "output_type": "display_data"
    }
   ],
   "source": [
    "%sosrun seg-data"
   ]
  },
  {
   "cell_type": "code",
   "execution_count": 17,
   "id": "conceptual-queensland",
   "metadata": {
    "kernel": "Python3"
   },
   "outputs": [
    {
     "name": "stdout",
     "output_type": "stream",
     "text": [
      "dict_keys(['__key__', 'png', 'seg.png'])\n"
     ]
    },
    {
     "data": {
      "text/plain": [
       "<matplotlib.image.AxesImage at 0x7f68d3c91c10>"
      ]
     },
     "execution_count": 17,
     "metadata": {},
     "output_type": "execute_result"
    },
    {
     "data": {
      "image/png": "[encoded data removed]",
      "text/plain": [
       "<Figure size 432x288 with 2 Axes>"
      ]
     },
     "metadata": {
      "needs_background": "light"
     },
     "output_type": "display_data"
    }
   ],
   "source": [
    "ds = wds.WebDataset(\"book-seg.tar\").decode(\"rgb\")\n",
    "sample= next(islice(iter(ds), 5, 999))\n",
    "print(sample.keys())\n",
    "plt.subplot(121); plt.imshow(sample[\"png\"])\n",
    "plt.subplot(122); plt.imshow(sample[\"seg.png\"][...,2])"
   ]
  },
  {
   "cell_type": "markdown",
   "id": "compressed-cartoon",
   "metadata": {
    "kernel": "Python3"
   },
   "source": [
    "## Word Training Data\n",
    "\n",
    "As before, we use `extract-rec hocr2rec` to extract word training images."
   ]
  },
  {
   "cell_type": "code",
   "execution_count": 18,
   "id": "related-terrorist",
   "metadata": {
    "kernel": "SoS",
    "tags": []
   },
   "outputs": [],
   "source": [
    "[word-data]\n",
    "input: 'tess.tar'\n",
    "output: 'book-words.tar'\n",
    "sh: expand=True\n",
    "    vocropus extract-rec hocr2rec {_input} --output {_output}.temp --element ocrx_word --extensions 'nrm.jpg tess.hocr' \\\n",
    "        --bounds 10,10,500,100 --dictionary /usr/share/dict/american-english-huge --maxcount {maxextract} \\\n",
    "        --acceptable-conf 60.0\n",
    "    mv {_output}.temp {_output}"
   ]
  },
  {
   "cell_type": "code",
   "execution_count": 19,
   "id": "respiratory-sapphire",
   "metadata": {
    "kernel": "SoS",
    "scrolled": true,
    "tags": []
   },
   "outputs": [
    {
     "data": {
      "text/html": [
       "<div class=\"sos_logging sos_info\">INFO: Running <span class=\"sos_highlight\">word-data</span>: \n",
       "</div>"
      ]
     },
     "metadata": {},
     "output_type": "display_data"
    },
    {
     "data": {
      "text/html": [
       "<div class=\"sos_logging sos_info\">INFO: <span class=\"sos_highlight\">word-data</span> (index=0) is <span class=\"sos_highlight\">ignored</span> due to saved signature\n",
       "</div>"
      ]
     },
     "metadata": {},
     "output_type": "display_data"
    },
    {
     "data": {
      "text/html": [
       "<div class=\"sos_logging sos_info\">INFO: <span class=\"sos_highlight\">word-data</span> output:   <span class=\"sos_highlight\">book-words.tar</span>\n",
       "</div>"
      ]
     },
     "metadata": {},
     "output_type": "display_data"
    },
    {
     "data": {
      "text/html": [
       "<div class=\"sos_logging sos_info\">INFO: Workflow word-data (ID=w31ffbe5a889fac72) is ignored with 1 ignored step.\n",
       "</div>"
      ]
     },
     "metadata": {},
     "output_type": "display_data"
    }
   ],
   "source": [
    "%sosrun word-data"
   ]
  },
  {
   "cell_type": "code",
   "execution_count": 20,
   "id": "announced-fiction",
   "metadata": {
    "kernel": "Python3"
   },
   "outputs": [
    {
     "data": {
      "image/png": "[encoded data removed]",
      "text/plain": [
       "<Figure size 432x288 with 25 Axes>"
      ]
     },
     "metadata": {
      "needs_background": "light"
     },
     "output_type": "display_data"
    }
   ],
   "source": [
    "import webdataset as wds\n",
    "from itertools import islice\n",
    "ds = wds.WebDataset(\"book-words.tar\").decode(\"rgb\")\n",
    "start = 55\n",
    "for i, sample in enumerate(islice(iter(ds), start, start+250, 10)):\n",
    "    plt.subplot(5, 5, i+1)\n",
    "    plt.imshow(sample[\"png\"])\n",
    "    plt.title(sample[\"txt\"])"
   ]
  },
  {
   "cell_type": "markdown",
   "id": "generic-mention",
   "metadata": {
    "kernel": "Python3"
   },
   "source": [
    "## Detecting Character Outliers\n",
    "\n",
    "We need to decide on a character training set. Here is some optional code that goes through all training strings and identifies rare and unusual characters.\n",
    "\n",
    "You can use the output from this optional step either to transform the text strings in the training data, or to add new character set classes to OCRopus 4."
   ]
  },
  {
   "cell_type": "code",
   "execution_count": 21,
   "id": "chronic-ghost",
   "metadata": {
    "kernel": "SoS"
   },
   "outputs": [],
   "source": [
    "[detect-outliers]\n",
    "input: 'book-words.tar'\n",
    "output: 'bad-chars.txt'\n",
    "\n",
    "python:\n",
    "\n",
    "    ds = wds.WebDataset(\"book-words.tar\").decode(\"rgb\")\n",
    "    alltext = [sample[\"txt\"] for sample in ds]\n",
    "\n",
    "    from collections import Counter\n",
    "    counter = Counter()\n",
    "    for s in alltext: counter.update(s)\n",
    "\n",
    "    for c, n in counter.most_common():\n",
    "        if len(str(c.encode(\"unicode_escape\"))) > 4:\n",
    "            print(f\"\"\"{c} {str(c.encode(\"unicode_escape\")):10s} {n:10d}\"\"\")"
   ]
  },
  {
   "cell_type": "markdown",
   "id": "annual-pontiac",
   "metadata": {
    "kernel": "SoS"
   },
   "source": [
    "# Training a Word Segmenter\n",
    "\n",
    "This is the training script for word segmentation. It's pretty straightforward and just uses the `book-seg.tar` data generated previously.\n",
    "\n",
    "All training jobs log to Sqlite3 databases and also save their models into those databases. You can use the `ocropus4 slog` subcommand to extract the best or the last model and plot training curves."
   ]
  },
  {
   "cell_type": "code",
   "execution_count": 22,
   "id": "progressive-deficit",
   "metadata": {
    "kernel": "SoS"
   },
   "outputs": [],
   "source": [
    "[train-segs]\n",
    "input: 'book-seg.tar'\n",
    "output: 'segtrain.pth'\n",
    "sh: expand=True\n",
    "    export MPLBACKEND=TkAgg\n",
    "    vocropus ocroseg train {_input} --log-to segtrain.sqlite3 --ntrain {nsegtrain} --display {display}\n",
    "    vocropus slog getlast segtrain.sqlite3 --output {_output}"
   ]
  },
  {
   "cell_type": "code",
   "execution_count": 23,
   "id": "brave-oakland",
   "metadata": {
    "kernel": "SoS",
    "scrolled": true,
    "tags": []
   },
   "outputs": [
    {
     "data": {
      "text/html": [
       "<div class=\"sos_logging sos_info\">INFO: Running <span class=\"sos_highlight\">train-segs</span>: \n",
       "</div>"
      ]
     },
     "metadata": {},
     "output_type": "display_data"
    },
    {
     "data": {
      "text/html": [
       "<div class=\"sos_logging sos_info\">INFO: <span class=\"sos_highlight\">train-segs</span> (index=0) is <span class=\"sos_highlight\">ignored</span> due to saved signature\n",
       "</div>"
      ]
     },
     "metadata": {},
     "output_type": "display_data"
    },
    {
     "data": {
      "text/html": [
       "<div class=\"sos_logging sos_info\">INFO: <span class=\"sos_highlight\">train-segs</span> output:   <span class=\"sos_highlight\">segtrain.pth</span>\n",
       "</div>"
      ]
     },
     "metadata": {},
     "output_type": "display_data"
    },
    {
     "data": {
      "text/html": [
       "<div class=\"sos_logging sos_info\">INFO: Workflow train-segs (ID=wd23f2140b8c1ea88) is ignored with 1 ignored step.\n",
       "</div>"
      ]
     },
     "metadata": {},
     "output_type": "display_data"
    }
   ],
   "source": [
    "%sosrun train-segs"
   ]
  },
  {
   "cell_type": "markdown",
   "id": "raising-mailing",
   "metadata": {
    "kernel": "SoS"
   },
   "source": [
    "# Training a Word Recognizer\n",
    "\n",
    "To train a word recognizer, we use the `ocrorec train` command using the `book-words.tar` dataset."
   ]
  },
  {
   "cell_type": "code",
   "execution_count": 24,
   "id": "disciplinary-holocaust",
   "metadata": {
    "kernel": "SoS"
   },
   "outputs": [],
   "source": [
    "[train-words]\n",
    "input: 'book-words.tar'\n",
    "output: 'wordtrain.pth'\n",
    "sh: expand=True\n",
    "    export MPLBACKEND=TkAgg\n",
    "    vocropus ocrorec train {_input} --log-to wordtrain.sqlite3 --ntrain {nwordtrain} --display {display}\n",
    "    vocropus slog getlast wordtrain.sqlite3 --output {_output}"
   ]
  },
  {
   "cell_type": "code",
   "execution_count": 25,
   "id": "compound-rachel",
   "metadata": {
    "kernel": "SoS",
    "scrolled": true
   },
   "outputs": [
    {
     "data": {
      "text/html": [
       "<div class=\"sos_logging sos_info\">INFO: Running <span class=\"sos_highlight\">train-words</span>: \n",
       "</div>"
      ]
     },
     "metadata": {},
     "output_type": "display_data"
    },
    {
     "data": {
      "text/html": [
       "<div class=\"sos_logging sos_info\">INFO: <span class=\"sos_highlight\">train-words</span> (index=0) is <span class=\"sos_highlight\">ignored</span> due to saved signature\n",
       "</div>"
      ]
     },
     "metadata": {},
     "output_type": "display_data"
    },
    {
     "data": {
      "text/html": [
       "<div class=\"sos_logging sos_info\">INFO: <span class=\"sos_highlight\">train-words</span> output:   <span class=\"sos_highlight\">wordtrain.pth</span>\n",
       "</div>"
      ]
     },
     "metadata": {},
     "output_type": "display_data"
    },
    {
     "data": {
      "text/html": [
       "<div class=\"sos_logging sos_info\">INFO: Workflow train-words (ID=w0ec70ebde84e35a8) is ignored with 1 ignored step.\n",
       "</div>"
      ]
     },
     "metadata": {},
     "output_type": "display_data"
    }
   ],
   "source": [
    "%sosrun train-words"
   ]
  },
  {
   "cell_type": "markdown",
   "id": "better-length",
   "metadata": {
    "kernel": "SoS"
   },
   "source": [
    "# Line Segmentation\n",
    "\n",
    "The base recognizer recognizes individual words; these need to be grouped into text lines as part of the recognition process. We train a separate text line segmentation model for this. The procedure is the same as for word segmentation: we generate line segmentation images for training and then use the `ocroseg train` command to train a segmenter."
   ]
  },
  {
   "cell_type": "code",
   "execution_count": 26,
   "id": "suspected-polish",
   "metadata": {
    "kernel": "SoS",
    "tags": []
   },
   "outputs": [],
   "source": [
    "[line-data]\n",
    "input: 'tess.tar'\n",
    "output: 'book-lines.tar'\n",
    "sh: expand=True\n",
    "    export MPLBACKEND=TkAgg\n",
    "    vocropus extract-seg hocr2seg {_input} --output {_output}.temp --element ocr_line --extensions 'nrm.jpg tess.hocr' --invert True \\\n",
    "        --show 100 --labels='1, 2, 3' --check line --maxcount {maxextract}\n",
    "    mv {_output}.temp {_output}\n"
   ]
  },
  {
   "cell_type": "code",
   "execution_count": 27,
   "id": "brief-pulse",
   "metadata": {
    "kernel": "SoS",
    "scrolled": true,
    "tags": []
   },
   "outputs": [
    {
     "data": {
      "text/html": [
       "<div class=\"sos_logging sos_info\">INFO: Running <span class=\"sos_highlight\">line-data</span>: \n",
       "</div>"
      ]
     },
     "metadata": {},
     "output_type": "display_data"
    },
    {
     "data": {
      "text/html": [
       "<div class=\"sos_logging sos_info\">INFO: <span class=\"sos_highlight\">line-data</span> (index=0) is <span class=\"sos_highlight\">ignored</span> due to saved signature\n",
       "</div>"
      ]
     },
     "metadata": {},
     "output_type": "display_data"
    },
    {
     "data": {
      "text/html": [
       "<div class=\"sos_logging sos_info\">INFO: <span class=\"sos_highlight\">line-data</span> output:   <span class=\"sos_highlight\">book-lines.tar</span>\n",
       "</div>"
      ]
     },
     "metadata": {},
     "output_type": "display_data"
    },
    {
     "data": {
      "text/html": [
       "<div class=\"sos_logging sos_info\">INFO: Workflow line-data (ID=wd490dec2aefdafc9) is ignored with 1 ignored step.\n",
       "</div>"
      ]
     },
     "metadata": {},
     "output_type": "display_data"
    }
   ],
   "source": [
    "%sosrun line-data"
   ]
  },
  {
   "cell_type": "code",
   "execution_count": 28,
   "id": "sonic-coordinator",
   "metadata": {
    "kernel": "Python3",
    "tags": []
   },
   "outputs": [
    {
     "name": "stdout",
     "output_type": "stream",
     "text": [
      "dict_keys(['__key__', 'png', 'seg.png'])\n"
     ]
    },
    {
     "data": {
      "text/plain": [
       "<matplotlib.image.AxesImage at 0x7f68d1da6340>"
      ]
     },
     "execution_count": 28,
     "metadata": {},
     "output_type": "execute_result"
    },
    {
     "data": {
      "image/png": "[encoded data removed]",
      "text/plain": [
       "<Figure size 432x288 with 2 Axes>"
      ]
     },
     "metadata": {
      "needs_background": "light"
     },
     "output_type": "display_data"
    }
   ],
   "source": [
    "ds = wds.WebDataset(\"book-lines.tar\").decode(\"rgb\")\n",
    "sample= next(islice(iter(ds), 100, 999))\n",
    "print(sample.keys())\n",
    "plt.subplot(121); plt.imshow(sample[\"png\"])\n",
    "plt.subplot(122); plt.imshow(sample[\"seg.png\"][...,2])"
   ]
  },
  {
   "cell_type": "code",
   "execution_count": 29,
   "id": "helpful-monkey",
   "metadata": {
    "kernel": "SoS"
   },
   "outputs": [],
   "source": [
    "[train-lines]\n",
    "input: 'book-lines.tar'\n",
    "output: 'linetrain.pth'\n",
    "sh: expand=True\n",
    "    export MPLBACKEND=TkAgg\n",
    "    vocropus ocroseg train {_input} --log-to linetrain.sqlite3 --ntrain {nsegtrain} --display {display}\n",
    "    rm -f {_output}\n",
    "    vocropus slog getlast linetrain.sqlite3 --output {_output}"
   ]
  },
  {
   "cell_type": "code",
   "execution_count": 30,
   "id": "proper-intranet",
   "metadata": {
    "kernel": "SoS",
    "scrolled": true,
    "tags": []
   },
   "outputs": [
    {
     "data": {
      "text/html": [
       "<div class=\"sos_logging sos_info\">INFO: Running <span class=\"sos_highlight\">train-lines</span>: \n",
       "</div>"
      ]
     },
     "metadata": {},
     "output_type": "display_data"
    },
    {
     "data": {
      "text/html": [
       "<div class=\"sos_logging sos_info\">INFO: <span class=\"sos_highlight\">train-lines</span> (index=0) is <span class=\"sos_highlight\">ignored</span> due to saved signature\n",
       "</div>"
      ]
     },
     "metadata": {},
     "output_type": "display_data"
    },
    {
     "data": {
      "text/html": [
       "<div class=\"sos_logging sos_info\">INFO: <span class=\"sos_highlight\">train-lines</span> output:   <span class=\"sos_highlight\">linetrain.pth</span>\n",
       "</div>"
      ]
     },
     "metadata": {},
     "output_type": "display_data"
    },
    {
     "data": {
      "text/html": [
       "<div class=\"sos_logging sos_info\">INFO: Workflow train-lines (ID=w953bac738ad8d9d5) is ignored with 1 ignored step.\n",
       "</div>"
      ]
     },
     "metadata": {},
     "output_type": "display_data"
    }
   ],
   "source": [
    "%sosrun train-lines"
   ]
  },
  {
   "cell_type": "markdown",
   "id": "generic-trail",
   "metadata": {
    "kernel": "SoS"
   },
   "source": [
    "# Running the Page Recognizer\n",
    "\n",
    "The page reocgnizer consists of several steps:\n",
    "\n",
    "- word segmentation: segment the input page into individual words\n",
    "- word recognition: apply the word recognizer to the word segments\n",
    "- line segmentation: apply the line segmenter to obtain text line seeds\n",
    "- grouping: use the line segmentation output to group word boxes into text line\n",
    "- sorting: text lines are finally sorted in a simple way to obtain the final output\n",
    "\n",
    "Output is both in .tar format and as a single .html file in hOCR format (the hOCR is not compliant yet).\n",
    "\n",
    "The final sort currently uses simple heuristics; eventually, there will be a second grouping step based on text block training."
   ]
  },
  {
   "cell_type": "code",
   "execution_count": 31,
   "id": "measured-wiring",
   "metadata": {
    "kernel": "SoS"
   },
   "outputs": [],
   "source": [
    "[page-recognition]\n",
    "input: 'tess.tar'\n",
    "output: 'recognized.tar'\n",
    "sh: expand=True\n",
    "    export MPLBACKEND=TkAgg\n",
    "    vocropus pagerec recognize {_input} --output {_output} --recmodel wordtrain.pth --segmodel segtrain.pth --lgmodel linetrain.pth --full-html recognized.html --extensions nrm.jpg --maxrec 10"
   ]
  },
  {
   "cell_type": "code",
   "execution_count": 32,
   "id": "composite-pickup",
   "metadata": {
    "kernel": "SoS",
    "scrolled": true,
    "tags": []
   },
   "outputs": [
    {
     "data": {
      "text/html": [
       "<div class=\"sos_logging sos_info\">INFO: Running <span class=\"sos_highlight\">page-recognition</span>: \n",
       "</div>"
      ]
     },
     "metadata": {},
     "output_type": "display_data"
    },
    {
     "data": {
      "text/html": [
       "<div class=\"sos_logging sos_info\">INFO: <span class=\"sos_highlight\">page-recognition</span> (index=0) is <span class=\"sos_highlight\">ignored</span> due to saved signature\n",
       "</div>"
      ]
     },
     "metadata": {},
     "output_type": "display_data"
    },
    {
     "data": {
      "text/html": [
       "<div class=\"sos_logging sos_info\">INFO: <span class=\"sos_highlight\">page-recognition</span> output:   <span class=\"sos_highlight\">recognized.tar</span>\n",
       "</div>"
      ]
     },
     "metadata": {},
     "output_type": "display_data"
    },
    {
     "data": {
      "text/html": [
       "<div class=\"sos_logging sos_info\">INFO: Workflow page-recognition (ID=wc440f69b72d91dff) is ignored with 1 ignored step.\n",
       "</div>"
      ]
     },
     "metadata": {},
     "output_type": "display_data"
    }
   ],
   "source": [
    "%sosrun page-recognition"
   ]
  },
  {
   "cell_type": "markdown",
   "id": "demanding-remains",
   "metadata": {
    "kernel": "SoS"
   },
   "source": [
    "Here are some recognition results; these are NOT representative of what is achievable with OCRopus 4, since they are recognition results obtained on a tiny training data set with limited training data. Given this very limited training, recognition performance is actually pretty good."
   ]
  },
  {
   "cell_type": "code",
   "execution_count": 33,
   "id": "juvenile-statistics",
   "metadata": {
    "kernel": "SoS"
   },
   "outputs": [
    {
     "name": "stdout",
     "output_type": "stream",
     "text": [
      "Volume_0000/pg0194\n",
      "\n",
      "Volume_0000/pg0439\n",
      "\n",
      "Volume_0000/pg0011\n",
      "\n",
      "Volume_0000/pg0205\n",
      "\n",
      "Volume_0000/pg0113\n",
      "\n",
      "Volume_0000/pg0018\n",
      "\n",
      "Volume_0000/pg0351\n",
      "\n",
      "Volume_0000/pg0021\n",
      "\n",
      "Volume_0000/pg0410\n",
      "\n",
      "Volume_0000/pg0079\n"
     ]
    }
   ],
   "source": [
    "!lynx -dump recognized.html | tail -30"
   ]
  },
  {
   "cell_type": "markdown",
   "id": "surface-great",
   "metadata": {
    "kernel": "SoS"
   },
   "source": [
    "# Page Orientation\n",
    "\n",
    "Before any kind of document processing, it is a good idea to ensure that pages are right side up. The `ocrorot` command handles this. We can first train a page orientation model and then apply it to correct the orientation of pages. Training just requires a collection of pages in right-side-up orientation as input."
   ]
  },
  {
   "cell_type": "code",
   "execution_count": 34,
   "id": "centered-situation",
   "metadata": {
    "kernel": "SoS"
   },
   "outputs": [],
   "source": [
    "[train-rot]\n",
    "input: 'tess.tar'\n",
    "output: 'rottrain.pth'\n",
    "sh: expand=True\n",
    "    export MPLBACKEND=TkAgg\n",
    "    base=$(basename {_output} .pth)\n",
    "    rm -f $base.sqlite3\n",
    "    vocropus ocrorot train {_input} --display 15 --output $base.sqlite3 --nsamples {nrottrain} --replicate 8 --num-workers 8 --extensions nrm.jpg\n",
    "    vocropus slog getbest $base.sqlite3 --output {_output}"
   ]
  },
  {
   "cell_type": "code",
   "execution_count": 35,
   "id": "compound-democracy",
   "metadata": {
    "kernel": "SoS",
    "scrolled": true,
    "tags": []
   },
   "outputs": [
    {
     "data": {
      "text/html": [
       "<div class=\"sos_logging sos_info\">INFO: Running <span class=\"sos_highlight\">train-rot</span>: \n",
       "</div>"
      ]
     },
     "metadata": {},
     "output_type": "display_data"
    },
    {
     "data": {
      "text/html": [
       "<div class=\"sos_logging sos_info\">INFO: <span class=\"sos_highlight\">train-rot</span> (index=0) is <span class=\"sos_highlight\">ignored</span> due to saved signature\n",
       "</div>"
      ]
     },
     "metadata": {},
     "output_type": "display_data"
    },
    {
     "data": {
      "text/html": [
       "<div class=\"sos_logging sos_info\">INFO: <span class=\"sos_highlight\">train-rot</span> output:   <span class=\"sos_highlight\">rottrain.pth</span>\n",
       "</div>"
      ]
     },
     "metadata": {},
     "output_type": "display_data"
    },
    {
     "data": {
      "text/html": [
       "<div class=\"sos_logging sos_info\">INFO: Workflow train-rot (ID=w2366b8da658a9b3b) is ignored with 1 ignored step.\n",
       "</div>"
      ]
     },
     "metadata": {},
     "output_type": "display_data"
    }
   ],
   "source": [
    "%sosrun train-rot"
   ]
  },
  {
   "cell_type": "code",
   "execution_count": 36,
   "id": "minimal-density",
   "metadata": {
    "kernel": "SoS"
   },
   "outputs": [],
   "source": [
    "[predict-rot]\n",
    "input: 'rottrain.pth'\n",
    "sh: expand=True\n",
    "    vocropus ocrorot correct tess.tar --nsamples 10 --model rottrain.pth"
   ]
  },
  {
   "cell_type": "code",
   "execution_count": 37,
   "id": "moved-couple",
   "metadata": {
    "kernel": "SoS"
   },
   "outputs": [
    {
     "data": {
      "text/html": [
       "<div class=\"sos_logging sos_info\">INFO: Running <span class=\"sos_highlight\">predict-rot</span>: \n",
       "</div>"
      ]
     },
     "metadata": {},
     "output_type": "display_data"
    },
    {
     "name": "stdout",
     "output_type": "stream",
     "text": [
      "Volume_0000/pg0194 (2115, 1522) 270\n",
      "Volume_0000/pg0439 (2108, 1572) 270\n",
      "Volume_0000/pg0011 (2108, 1518) 270\n",
      "Volume_0000/pg0205 (2115, 1522) 270\n",
      "Volume_0000/pg0113 (2118, 1504) 270\n",
      "Volume_0000/pg0018 (2108, 1518) 270\n",
      "Volume_0000/pg0351 (2132, 1519) 270\n",
      "Volume_0000/pg0021 (2108, 1518) 270\n",
      "Volume_0000/pg0410 (2132, 1519) 270\n",
      "Volume_0000/pg0079 (2118, 1504) 270\n"
     ]
    },
    {
     "data": {
      "text/html": [
       "<div class=\"sos_logging sos_info\">INFO: Workflow predict-rot (ID=w294989719c37cbe8) is executed successfully with 1 completed step.\n",
       "</div>"
      ]
     },
     "metadata": {},
     "output_type": "display_data"
    }
   ],
   "source": [
    "%sosrun predict-rot"
   ]
  },
  {
   "cell_type": "markdown",
   "id": "tutorial-force",
   "metadata": {
    "kernel": "SoS"
   },
   "source": [
    "# Page Skew Correction\n",
    "\n",
    "\"Page skew\" refers to small rotations of scanned pages--small deviations from the vertical. The `ocroskew` command can be used to train page skew models and perform page skew correction. These models are generally trained and applied after page orientation correction. Training just requires a collection of already deskewed images as input."
   ]
  },
  {
   "cell_type": "code",
   "execution_count": 38,
   "id": "czech-spiritual",
   "metadata": {
    "kernel": "SoS"
   },
   "outputs": [],
   "source": [
    "[train-skew]\n",
    "input: 'tess.tar'\n",
    "output: 'skewtrain.pth'\n",
    "sh: expand=True\n",
    "    export MPLBACKEND=TkAgg\n",
    "    base=$(basename {_output} .pth)\n",
    "    rm -f $base.sqlite3\n",
    "    vocropus ocroskew train {_input} --display 15 --output $base.sqlite3 --nsamples {nskewtrain} --replicate 8 --num-workers 8 --extensions 'nrm.jpg'\n",
    "    vocropus slog getbest $base.sqlite3 --output {_output}"
   ]
  },
  {
   "cell_type": "code",
   "execution_count": 39,
   "id": "compact-mexico",
   "metadata": {
    "kernel": "SoS"
   },
   "outputs": [
    {
     "data": {
      "text/html": [
       "<div class=\"sos_logging sos_info\">INFO: Running <span class=\"sos_highlight\">train-skew</span>: \n",
       "</div>"
      ]
     },
     "metadata": {},
     "output_type": "display_data"
    },
    {
     "data": {
      "text/html": [
       "<div class=\"sos_logging sos_info\">INFO: <span class=\"sos_highlight\">train-skew</span> (index=0) is <span class=\"sos_highlight\">ignored</span> due to saved signature\n",
       "</div>"
      ]
     },
     "metadata": {},
     "output_type": "display_data"
    },
    {
     "data": {
      "text/html": [
       "<div class=\"sos_logging sos_info\">INFO: <span class=\"sos_highlight\">train-skew</span> output:   <span class=\"sos_highlight\">skewtrain.pth</span>\n",
       "</div>"
      ]
     },
     "metadata": {},
     "output_type": "display_data"
    },
    {
     "data": {
      "text/html": [
       "<div class=\"sos_logging sos_info\">INFO: Workflow train-skew (ID=w654195ad78f32e25) is ignored with 1 ignored step.\n",
       "</div>"
      ]
     },
     "metadata": {},
     "output_type": "display_data"
    }
   ],
   "source": [
    "%sosrun train-skew"
   ]
  },
  {
   "cell_type": "code",
   "execution_count": 40,
   "id": "fossil-bookmark",
   "metadata": {
    "kernel": "SoS"
   },
   "outputs": [],
   "source": [
    "[predict-skew]\n",
    "input: 'skewtrain.pth'\n",
    "sh: expand=True\n",
    "    vocropus ocroskew correct tess.tar --nsamples 10 --model skewtrain.pth"
   ]
  },
  {
   "cell_type": "code",
   "execution_count": 41,
   "id": "suspended-municipality",
   "metadata": {
    "kernel": "SoS"
   },
   "outputs": [
    {
     "data": {
      "text/html": [
       "<div class=\"sos_logging sos_info\">INFO: Running <span class=\"sos_highlight\">predict-skew</span>: \n",
       "</div>"
      ]
     },
     "metadata": {},
     "output_type": "display_data"
    },
    {
     "name": "stdout",
     "output_type": "stream",
     "text": [
      "Volume_0000/pg0194 (2115, 1522) -0.020000000000000004\n",
      "Volume_0000/pg0439 (2108, 1572) -0.020000000000000004\n",
      "Volume_0000/pg0011 (2108, 1518) -0.020000000000000004\n",
      "Volume_0000/pg0205 (2115, 1522) -0.020000000000000004\n",
      "Volume_0000/pg0113 (2118, 1504) -0.020000000000000004\n",
      "Volume_0000/pg0018 (2108, 1518) -0.020000000000000004\n",
      "Volume_0000/pg0351 (2132, 1519) -0.020000000000000004\n",
      "Volume_0000/pg0021 (2108, 1518) -0.020000000000000004\n",
      "Volume_0000/pg0410 (2132, 1519) -0.020000000000000004\n",
      "Volume_0000/pg0079 (2118, 1504) -0.020000000000000004\n"
     ]
    },
    {
     "data": {
      "text/html": [
       "<div class=\"sos_logging sos_info\">INFO: Workflow predict-skew (ID=w9ec4016d5cc1fec2) is executed successfully with 1 completed step.\n",
       "</div>"
      ]
     },
     "metadata": {},
     "output_type": "display_data"
    }
   ],
   "source": [
    "%sosrun predict-skew"
   ]
  },
  {
   "cell_type": "markdown",
   "id": "developing-bracelet",
   "metadata": {
    "kernel": "SoS"
   },
   "source": [
    "# Page Scale Analysis\n",
    "\n",
    "Document layout analysis, and to a lesser degree text recognition, assumes that documents are presented at a fairly consistent image resolution (usually 300 dpi). The `ocroscale` command can be trained on a collection of documents at the desired target resolution (e.g., 300 dpi) and when applied to novel documents, will estimate the document scale relative to the training collection. No other ground truth is necessary.\n",
    "\n",
    "The `ocroscale` command has the option for page-by-page \"scale correction\", though for bulk processing, it is better to estimate the scale factor for a new batch of documents once and then rescale the entire document batch with a consistent scale."
   ]
  },
  {
   "cell_type": "code",
   "execution_count": 42,
   "id": "referenced-porter",
   "metadata": {
    "kernel": "SoS"
   },
   "outputs": [],
   "source": [
    "[train-scale]\n",
    "input: 'tess.tar'\n",
    "output: 'scaletrain.pth'\n",
    "sh: expand=True\n",
    "    export MPLBACKEND=TkAgg\n",
    "    base=$(basename {_output} .pth)\n",
    "    rm -f $base.sqlite3\n",
    "    vocropus ocroscale train {_input} --display 15 --output $base.sqlite3 --nsamples {nscaletrain} --replicate 8 --num-workers 8\n",
    "    vocropus slog getbest $base.sqlite3 --output {_output}"
   ]
  },
  {
   "cell_type": "code",
   "execution_count": 43,
   "id": "specialized-attribute",
   "metadata": {
    "kernel": "SoS",
    "tags": []
   },
   "outputs": [
    {
     "data": {
      "text/html": [
       "<div class=\"sos_logging sos_info\">INFO: Running <span class=\"sos_highlight\">train-scale</span>: \n",
       "</div>"
      ]
     },
     "metadata": {},
     "output_type": "display_data"
    },
    {
     "data": {
      "text/html": [
       "<div class=\"sos_logging sos_info\">INFO: <span class=\"sos_highlight\">train-scale</span> (index=0) is <span class=\"sos_highlight\">ignored</span> due to saved signature\n",
       "</div>"
      ]
     },
     "metadata": {},
     "output_type": "display_data"
    },
    {
     "data": {
      "text/html": [
       "<div class=\"sos_logging sos_info\">INFO: <span class=\"sos_highlight\">train-scale</span> output:   <span class=\"sos_highlight\">scaletrain.pth</span>\n",
       "</div>"
      ]
     },
     "metadata": {},
     "output_type": "display_data"
    },
    {
     "data": {
      "text/html": [
       "<div class=\"sos_logging sos_info\">INFO: Workflow train-scale (ID=we84988c3be8fbc1d) is ignored with 1 ignored step.\n",
       "</div>"
      ]
     },
     "metadata": {},
     "output_type": "display_data"
    }
   ],
   "source": [
    "%sosrun train-scale"
   ]
  },
  {
   "cell_type": "code",
   "execution_count": 44,
   "id": "prime-bolivia",
   "metadata": {
    "kernel": "SoS"
   },
   "outputs": [],
   "source": [
    "[predict-scale]\n",
    "input: 'scaletrain.pth'\n",
    "sh: expand=True\n",
    "    vocropus ocroscale hist tess.tar --nsamples 10 --model scaletrain.pth"
   ]
  },
  {
   "cell_type": "code",
   "execution_count": 45,
   "id": "printable-majority",
   "metadata": {
    "kernel": "SoS"
   },
   "outputs": [
    {
     "data": {
      "text/html": [
       "<div class=\"sos_logging sos_info\">INFO: Running <span class=\"sos_highlight\">predict-scale</span>: \n",
       "</div>"
      ]
     },
     "metadata": {},
     "output_type": "display_data"
    },
    {
     "name": "stdout",
     "output_type": "stream",
     "text": [
      "Volume_0000/pg0194 (2115, 1522) 1.19\n",
      "Volume_0000/pg0439 (2108, 1572) 1.19\n",
      "Volume_0000/pg0011 (2108, 1518) 2.38\n",
      "Volume_0000/pg0205 (2115, 1522) 1.19\n",
      "Volume_0000/pg0113 (2118, 1504) 0.95\n",
      "Volume_0000/pg0018 (2108, 1518) 2.38\n",
      "Volume_0000/pg0351 (2132, 1519) 0.95\n",
      "Volume_0000/pg0021 (2108, 1518) 2.38\n",
      "Volume_0000/pg0410 (2132, 1519) 2.38\n",
      "Volume_0000/pg0079 (2118, 1504) 0.95\n",
      "2.382984704172845\n"
     ]
    },
    {
     "data": {
      "text/html": [
       "<div class=\"sos_logging sos_info\">INFO: Workflow predict-scale (ID=wfef4ae324c3f1274) is executed successfully with 1 completed step.\n",
       "</div>"
      ]
     },
     "metadata": {},
     "output_type": "display_data"
    }
   ],
   "source": [
    "%sosrun predict-scale"
   ]
  },
  {
   "cell_type": "markdown",
   "id": "integrated-craps",
   "metadata": {
    "kernel": "SoS"
   },
   "source": [
    "# Document Binarization Models\n",
    "\n",
    "For most documents, it is best to first convert them to binary format. Binarization models can be trained and applied with the `ocrobin` command.\n",
    "\n",
    "Here, we are training the binarization model on the output of the `nlbin` command. While this may seem redundant, the `ocrobin` output is actually slightly better, and more importantly, the `ocrobin` binarizer runs on the GPU and is faster."
   ]
  },
  {
   "cell_type": "code",
   "execution_count": 46,
   "id": "proper-peninsula",
   "metadata": {
    "kernel": "SoS"
   },
   "outputs": [],
   "source": [
    "[train-bin]\n",
    "input: 'raw.tar'\n",
    "output: 'bintrain.pth'\n",
    "sh: expand=True\n",
    "    export MPLBACKEND=TkAgg\n",
    "    base=$(basename {_output} .pth)\n",
    "    rm -f $base.sqlite3\n",
    "    vocropus ocrobin train {_input} --display 15 --output $base.sqlite3 --nsamples {nbintrain} --extensions 'jpg nrm.jpg' --lr 1e-3 --replicate 8 --num-workers 8\n",
    "    vocropus slog getbest $base.sqlite3 --output {_output}"
   ]
  },
  {
   "cell_type": "code",
   "execution_count": 47,
   "id": "hearing-faith",
   "metadata": {
    "kernel": "SoS"
   },
   "outputs": [
    {
     "data": {
      "text/html": [
       "<div class=\"sos_logging sos_info\">INFO: Running <span class=\"sos_highlight\">train-bin</span>: \n",
       "</div>"
      ]
     },
     "metadata": {},
     "output_type": "display_data"
    },
    {
     "data": {
      "text/html": [
       "<div class=\"sos_logging sos_info\">INFO: <span class=\"sos_highlight\">train-bin</span> (index=0) is <span class=\"sos_highlight\">ignored</span> due to saved signature\n",
       "</div>"
      ]
     },
     "metadata": {},
     "output_type": "display_data"
    },
    {
     "data": {
      "text/html": [
       "<div class=\"sos_logging sos_info\">INFO: <span class=\"sos_highlight\">train-bin</span> output:   <span class=\"sos_highlight\">bintrain.pth</span>\n",
       "</div>"
      ]
     },
     "metadata": {},
     "output_type": "display_data"
    },
    {
     "data": {
      "text/html": [
       "<div class=\"sos_logging sos_info\">INFO: Workflow train-bin (ID=w449a2dea23a50e97) is ignored with 1 ignored step.\n",
       "</div>"
      ]
     },
     "metadata": {},
     "output_type": "display_data"
    }
   ],
   "source": [
    "%sosrun train-bin"
   ]
  },
  {
   "cell_type": "code",
   "execution_count": null,
   "id": "damaged-relaxation",
   "metadata": {
    "kernel": "SoS"
   },
   "outputs": [],
   "source": []
  }
 ],
 "metadata": {
  "kernelspec": {
   "display_name": "SoS",
   "language": "sos",
   "name": "sos"
  },
  "language_info": {
   "codemirror_mode": "sos",
   "file_extension": ".sos",
   "mimetype": "text/x-sos",
   "name": "sos",
   "nbconvert_exporter": "sos_notebook.converter.SoS_Exporter",
   "pygments_lexer": "sos"
  },
  "sos": {
   "kernels": [
    [
     "Bash",
     "bash",
     "bash",
     "",
     "shell"
    ],
    [
     "Python3",
     "python3",
     "Python3",
     "#FFD91A",
     {
      "name": "ipython",
      "version": 3
     }
    ],
    [
     "SoS",
     "sos",
     "",
     "",
     "sos"
    ]
   ],
   "panel": {
    "displayed": true,
    "height": 0
   },
   "version": "0.22.4"
  }
 },
 "nbformat": 4,
 "nbformat_minor": 5
}
