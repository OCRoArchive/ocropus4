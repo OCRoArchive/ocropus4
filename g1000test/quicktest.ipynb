{
 "cells": [
  {
   "cell_type": "code",
   "execution_count": 1,
   "id": "moral-logic",
   "metadata": {
    "kernel": "Python3",
    "tags": []
   },
   "outputs": [],
   "source": [
    "import matplotlib.pyplot as plt"
   ]
  },
  {
   "cell_type": "markdown",
   "id": "human-tiffany",
   "metadata": {
    "kernel": "SoS"
   },
   "source": [
    "# Full OCRopus 4 Training and Running\n",
    "\n",
    "This worksheet demonstrates OCRopus 4 training from start to finish, including bootstrapping using another OCR system.\n",
    "\n"
   ]
  },
  {
   "cell_type": "markdown",
   "id": "conscious-milan",
   "metadata": {
    "kernel": "SoS"
   },
   "source": [
    "Important Notes:\n",
    "\n",
    "- this does NOT yield usable models since the training data set used in this worksheet is so small and limited\n",
    "- this implements the main components of an OCR system and is suitable for text indexing and other applications, but full page recognition requires some additional components"
   ]
  },
  {
   "cell_type": "code",
   "execution_count": 2,
   "id": "administrative-mobility",
   "metadata": {
    "kernel": "SoS"
   },
   "outputs": [
    {
     "data": {
      "text/plain": [
       "'/home/tmb/proj/ocropus4/g1000test'"
      ]
     },
     "execution_count": 2,
     "metadata": {},
     "output_type": "execute_result"
    }
   ],
   "source": [
    "import os\n",
    "os.getcwd()\n",
    "# os.system(\"sos convert full.ipynb full.sos\")"
   ]
  },
  {
   "cell_type": "code",
   "execution_count": 3,
   "id": "posted-spoke",
   "metadata": {
    "kernel": "Bash",
    "tags": []
   },
   "outputs": [],
   "source": [
    "#rm -f *.sqlite3 *.pth\n",
    "#rm -f book-seg.tar book-words.tar book-lines.tar"
   ]
  },
  {
   "cell_type": "code",
   "execution_count": 58,
   "id": "artistic-thirty",
   "metadata": {
    "kernel": "SoS"
   },
   "outputs": [],
   "source": [
    "[global]\n",
    "multiplier = 1000\n",
    "display = 10\n",
    "maxpages = 50 * multiplier\n",
    "maxextract = 1000 * multiplier\n",
    "nwordtrain = 200 * multiplier\n",
    "nsegtrain = 200 * multiplier\n",
    "nrottrain = 200 * multiplier\n",
    "nskewtrain = 200 * multiplier\n",
    "nscaletrain = 200 * multiplier\n",
    "nbintrain = 10 * multiplier\n",
    "dataurl = 'http://storage.googleapis.com/ocropus4/Volume_0000.tar'"
   ]
  },
  {
   "cell_type": "markdown",
   "id": "willing-celebrity",
   "metadata": {
    "kernel": "SoS"
   },
   "source": [
    "# Download Dataset and Run Tesseract\n",
    "\n",
    "The dataset is Volume 0 from Google's 1000 Book dataset. These images are camera scanned, modest resolution, modest quality images. This volume contains a mix of English and Gaelic.\n",
    "\n",
    "_This dataset is used here for demonstration purposes only. It is not large or diverse enough to train a practical recognizer. You can obtain a usable recognizer by training on the UW3 dataset, but unfortunately that's not redistributable. We are currently putting together a larger, representative training set._\n",
    "\n",
    "We use Tesseract as our bootstrap OCR system."
   ]
  },
  {
   "cell_type": "code",
   "execution_count": 5,
   "id": "environmental-burlington",
   "metadata": {
    "kernel": "SoS"
   },
   "outputs": [],
   "source": [
    "[download]\n",
    "input: []\n",
    "output: 'Volume_0000.tar'\n",
    "sh: expand=True\n",
    "    curl {dataurl} > Volume_0000.tar"
   ]
  },
  {
   "cell_type": "code",
   "execution_count": 6,
   "id": "adaptive-settle",
   "metadata": {
    "kernel": "SoS"
   },
   "outputs": [
    {
     "data": {
      "text/html": [
       "<div class=\"sos_logging sos_info\">INFO: Running <span class=\"sos_highlight\">download</span>: \n",
       "</div>"
      ]
     },
     "metadata": {},
     "output_type": "display_data"
    },
    {
     "data": {
      "text/html": [
       "<div class=\"sos_logging sos_info\">INFO: <span class=\"sos_highlight\">download</span> (index=0) is <span class=\"sos_highlight\">ignored</span> due to saved signature\n",
       "</div>"
      ]
     },
     "metadata": {},
     "output_type": "display_data"
    },
    {
     "data": {
      "text/html": [
       "<div class=\"sos_logging sos_info\">INFO: <span class=\"sos_highlight\">download</span> output:   <span class=\"sos_highlight\">Volume_0000.tar</span>\n",
       "</div>"
      ]
     },
     "metadata": {},
     "output_type": "display_data"
    },
    {
     "data": {
      "text/html": [
       "<div class=\"sos_logging sos_info\">INFO: Workflow download (ID=w7ea7cd24b3622f7d) is ignored with 1 ignored step.\n",
       "</div>"
      ]
     },
     "metadata": {},
     "output_type": "display_data"
    }
   ],
   "source": [
    "%sosrun download"
   ]
  },
  {
   "cell_type": "markdown",
   "id": "prescription-document",
   "metadata": {
    "kernel": "SoS"
   },
   "source": [
    "## Binarization\n",
    "\n",
    "By default, we binarize with a hardcoded binarizer based on grayscale morphology. This binarizer is purely CPU based (we may eventually port it to the GPU). It has worked very well in many different settings. "
   ]
  },
  {
   "cell_type": "code",
   "execution_count": 7,
   "id": "married-remedy",
   "metadata": {
    "kernel": "SoS"
   },
   "outputs": [],
   "source": [
    "[binarize]\n",
    "input: 'Volume_0000.tar'\n",
    "output: 'raw.tar'\n",
    "sh: expand=True\n",
    "    vocropus nlbin binarize {_input} --gray --output raw.tar --maxrec {maxpages}"
   ]
  },
  {
   "cell_type": "code",
   "execution_count": 8,
   "id": "premier-lender",
   "metadata": {
    "kernel": "SoS",
    "scrolled": true
   },
   "outputs": [
    {
     "data": {
      "text/html": [
       "<div class=\"sos_logging sos_info\">INFO: Running <span class=\"sos_highlight\">binarize</span>: \n",
       "</div>"
      ]
     },
     "metadata": {},
     "output_type": "display_data"
    },
    {
     "data": {
      "text/html": [
       "<div class=\"sos_logging sos_info\">INFO: <span class=\"sos_highlight\">binarize</span> (index=0) is <span class=\"sos_highlight\">ignored</span> due to saved signature\n",
       "</div>"
      ]
     },
     "metadata": {},
     "output_type": "display_data"
    },
    {
     "data": {
      "text/html": [
       "<div class=\"sos_logging sos_info\">INFO: <span class=\"sos_highlight\">binarize</span> output:   <span class=\"sos_highlight\">raw.tar</span>\n",
       "</div>"
      ]
     },
     "metadata": {},
     "output_type": "display_data"
    },
    {
     "data": {
      "text/html": [
       "<div class=\"sos_logging sos_info\">INFO: Workflow binarize (ID=w0d894c5479ef03b2) is ignored with 1 ignored step.\n",
       "</div>"
      ]
     },
     "metadata": {},
     "output_type": "display_data"
    }
   ],
   "source": [
    "%sosrun binarize"
   ]
  },
  {
   "cell_type": "markdown",
   "id": "offensive-florida",
   "metadata": {
    "kernel": "SoS"
   },
   "source": [
    "## Bootstrap OCR Recognizer\n",
    "\n",
    "We're using Tesseract as the bootstrap OCR engine. Tesseract runs on the normalized images returned in the previous step. The bootstrap OCR recognizer can have a moderately high error rate and OCRopus 4 can still be trained on it successfully. In fact, once you have trained an initial OCRopus 4 recognizer, you can use it as the bootstrap recognizer for additional source materials. OCRopus 4 is, in effect, self-training and self-improving."
   ]
  },
  {
   "cell_type": "code",
   "execution_count": 9,
   "id": "boxed-incidence",
   "metadata": {
    "kernel": "SoS"
   },
   "outputs": [
    {
     "name": "stdout",
     "output_type": "stream",
     "text": [
      "Sending build context to Docker daemon  2.048kB\n",
      "Step 1/5 : FROM ubuntu:20.04\n",
      " ---> f643c72bc252\n",
      "Step 2/5 : RUN date\n",
      " ---> Using cache\n",
      " ---> 5331dfc33a69\n",
      "Step 3/5 : RUN apt-get update && apt-get install -y tesseract-ocr-all\n",
      " ---> Using cache\n",
      " ---> 3c9154853045\n",
      "Step 4/5 : RUN mkdir /work\n",
      " ---> Using cache\n",
      " ---> d848a1aab5f4\n",
      "Step 5/5 : WORKDIR /work\n",
      " ---> Using cache\n",
      " ---> e2f85069c280\n",
      "Successfully built e2f85069c280\n",
      "Successfully tagged tess:latest\n",
      "Usage:\n",
      "  tesseract --help | --help-extra | --version\n",
      "  tesseract --list-langs\n",
      "  tesseract imagename outputbase [options...] [configfile...]\n",
      "\n",
      "OCR options:\n",
      "  -l LANG[+LANG]        Specify language(s) used for OCR.\n",
      "NOTE: These options must occur before any configfile.\n",
      "\n",
      "Single options:\n",
      "  --help                Show this help message.\n",
      "  --help-extra          Show extra help for advanced users.\n",
      "  --version             Show version information.\n",
      "  --list-langs          List available languages for tesseract engine.\n"
     ]
    }
   ],
   "source": [
    "!rebuild=y ./dtess --help"
   ]
  },
  {
   "cell_type": "code",
   "execution_count": 10,
   "id": "geological-biography",
   "metadata": {
    "kernel": "SoS",
    "tags": []
   },
   "outputs": [],
   "source": [
    "[tess]\n",
    "input: 'raw.tar'\n",
    "output: 'tess.tar'\n",
    "sh: expand=True\n",
    "    rebuild=y dtess --help\n",
    "    tarp proc -c $(pwd)/'dtess sample.nrm.jpg sample.tess -l eng hocr; rm -f sample.lines.png sample.pseg.png' {_input} -o {_output}.tar.temp\n",
    "    mv {_output}.tar.temp {_output}"
   ]
  },
  {
   "cell_type": "code",
   "execution_count": 11,
   "id": "governmental-consortium",
   "metadata": {
    "kernel": "SoS",
    "scrolled": true,
    "tags": []
   },
   "outputs": [
    {
     "data": {
      "text/html": [
       "<div class=\"sos_logging sos_info\">INFO: Running <span class=\"sos_highlight\">tess</span>: \n",
       "</div>"
      ]
     },
     "metadata": {},
     "output_type": "display_data"
    },
    {
     "data": {
      "text/html": [
       "<div class=\"sos_logging sos_info\">INFO: <span class=\"sos_highlight\">tess</span> (index=0) is <span class=\"sos_highlight\">ignored</span> due to saved signature\n",
       "</div>"
      ]
     },
     "metadata": {},
     "output_type": "display_data"
    },
    {
     "data": {
      "text/html": [
       "<div class=\"sos_logging sos_info\">INFO: <span class=\"sos_highlight\">tess</span> output:   <span class=\"sos_highlight\">tess.tar</span>\n",
       "</div>"
      ]
     },
     "metadata": {},
     "output_type": "display_data"
    },
    {
     "data": {
      "text/html": [
       "<div class=\"sos_logging sos_info\">INFO: Workflow tess (ID=wb048cdb2f1711e24) is ignored with 1 ignored step.\n",
       "</div>"
      ]
     },
     "metadata": {},
     "output_type": "display_data"
    }
   ],
   "source": [
    "%sosrun tess"
   ]
  },
  {
   "cell_type": "markdown",
   "id": "painful-september",
   "metadata": {
    "kernel": "SoS"
   },
   "source": [
    "# Generating Training Datasets\n",
    "\n",
    "OCRopus 4 training starts with tar files containing pairs of images and corresponding hOCR output. These are used to generate training data for word and line recognition and page segmentation."
   ]
  },
  {
   "cell_type": "code",
   "execution_count": 12,
   "id": "duplicate-coalition",
   "metadata": {
    "kernel": "Python3"
   },
   "outputs": [],
   "source": [
    "import webdataset as wds\n",
    "from itertools import islice"
   ]
  },
  {
   "cell_type": "code",
   "execution_count": 13,
   "id": "heated-convergence",
   "metadata": {
    "kernel": "Python3",
    "scrolled": true
   },
   "outputs": [
    {
     "name": "stdout",
     "output_type": "stream",
     "text": [
      "dict_keys(['__key__', 'jpg', 'nrm.jpg', 'tess.hocr'])\n",
      "<?xml version=\"1.0\" encoding=\"UTF-8\"?>\n",
      "<!DOCTYPE html PUBLIC \"-//W3C//DTD XHTML 1.0 Transitional//EN\"\n",
      "    \"http://www.w3.org/TR/xhtml1/DTD/xhtml1-transitional.dtd\">\n",
      "<html xmlns=\"http://www.w3.org/1999/xhtml\" xml:lang=\"en\" lang=\"en\">\n",
      " <head>\n",
      "  <title></title>\n",
      "  <meta http-equiv=\"Content-Type\" content=\"text/html;charset=utf-8\"/>\n",
      "  <meta name='ocr-system' content='tesseract 4.1.1' />\n",
      "  <meta name='ocr-capabilities' content='ocr_page ocr_carea ocr_par ocr_line ocrx_word ocrp_wconf'/>\n",
      " </head>\n",
      " <body>\n",
      "  <div class='ocr_page' id='page_1' title='image \"sample.nrm.jpg\"; bbox 0 0 1507 2131; ppageno 0'>\n",
      "   <div class='ocr_carea' id='block_1_1' title=\"bbox 8 284 22 743\">\n",
      "    <p class='ocr_par' id='par_1_1' lang='eng' title=\"bbox 8 284 22 743\">\n",
      "     <span class='ocr_line' id='line_1_1' title=\"bbox 8 284 22 743; textangle 90; x_size 22.75; x_descenders 5.5; x_ascenders 5.75\">\n",
      "      <span class='ocrx_word' id='word_1_1' title='bbox 8 284 22 700; x_wconf 45'>an</span>\n",
      "      <span class='ocrx_word' id\n"
     ]
    }
   ],
   "source": [
    "ds = wds.WebDataset(\"tess.tar\").decode(\"rgb8\")\n",
    "sample = next(islice(ds, 33, 999))\n",
    "print(sample.keys())\n",
    "print(sample[\"tess.hocr\"].decode(\"utf-8\")[:1000])"
   ]
  },
  {
   "cell_type": "code",
   "execution_count": 14,
   "id": "computational-pontiac",
   "metadata": {
    "kernel": "Python3"
   },
   "outputs": [
    {
     "data": {
      "text/plain": [
       "<matplotlib.image.AxesImage at 0x7fcb725b9c10>"
      ]
     },
     "execution_count": 14,
     "metadata": {},
     "output_type": "execute_result"
    },
    {
     "data": {
      "image/png": "[encoded data removed]",
      "text/plain": [
       "<Figure size 432x288 with 1 Axes>"
      ]
     },
     "metadata": {
      "needs_background": "light"
     },
     "output_type": "display_data"
    }
   ],
   "source": [
    "plt.imshow(sample[\"nrm.jpg\"])"
   ]
  },
  {
   "cell_type": "markdown",
   "id": "discrete-birth",
   "metadata": {
    "kernel": "Python3"
   },
   "source": [
    "## Segmentation Data\n",
    "\n",
    "Segmentation algorithms are usually trained on four-label segmentation targets consisting of markers, areas, separators, and background. The `extract-seg hocr2seg` subcommand extracts those training images.\n",
    "\n",
    "Ordinarily, we would extract this data from many shards and shuffle it for training, but we're dispensing with that in this simple example.\n"
   ]
  },
  {
   "cell_type": "code",
   "execution_count": 15,
   "id": "generic-motorcycle",
   "metadata": {
    "kernel": "SoS"
   },
   "outputs": [],
   "source": [
    "[seg-data]\n",
    "input: 'tess.tar'\n",
    "output: 'book-seg.tar'\n",
    "sh: expand=True\n",
    "    export MPLBACKEND=TkAgg\n",
    "    vocropus extract-seg hocr2seg {_input} --output {_output}.temp --element ocrx_word --extensions 'nrm.jpg tess.hocr' --invert True \\\n",
    "        --show 100 --labels='1, 2, 3' --check word --maxcount {maxextract}\n",
    "    mv {_output}.temp {_output}\n"
   ]
  },
  {
   "cell_type": "code",
   "execution_count": 16,
   "id": "consolidated-rhythm",
   "metadata": {
    "kernel": "SoS",
    "scrolled": true,
    "tags": []
   },
   "outputs": [
    {
     "data": {
      "text/html": [
       "<div class=\"sos_logging sos_info\">INFO: Running <span class=\"sos_highlight\">seg-data</span>: \n",
       "</div>"
      ]
     },
     "metadata": {},
     "output_type": "display_data"
    },
    {
     "name": "stdout",
     "output_type": "stream",
     "text": [
      "# Volume_0000/pg0194 count 0 maxcount 1000\n",
      "# 39 low conf, 0 no conf, 475 good, 0 bad text, 517 total\n",
      "# interesting patches 50\n",
      "0\n",
      "# 39 low conf, 0 no conf, 475 good, 0 bad text, 517 total\n",
      "# interesting patches 50\n",
      "# 39 low conf, 0 no conf, 475 good, 0 bad text, 517 total\n",
      "# interesting patches 50\n",
      "# Volume_0000/pg0439 count 150 maxcount 1000\n",
      "# 2 low conf, 0 no conf, 382 good, 0 bad text, 387 total\n",
      "# interesting patches 50\n",
      "# 2 low conf, 0 no conf, 382 good, 0 bad text, 387 total\n",
      "# interesting patches 50\n",
      "# 2 low conf, 0 no conf, 382 good, 0 bad text, 387 total\n",
      "# interesting patches 50\n",
      "# Volume_0000/pg0011 count 300 maxcount 1000\n",
      "# too many bad bounding boxes on this page\n",
      "didn't get any ocrx_word\n",
      "# too many bad bounding boxes on this page\n",
      "didn't get any ocrx_word\n",
      "# too many bad bounding boxes on this page\n",
      "didn't get any ocrx_word\n",
      "# Volume_0000/pg0205 count 300 maxcount 1000\n",
      "# 6 low conf, 0 no conf, 476 good, 0 bad text, 484 total\n",
      "# interesting patches 50\n",
      "# 6 low conf, 0 no conf, 476 good, 0 bad text, 484 total\n",
      "# interesting patches 50\n",
      "# 6 low conf, 0 no conf, 476 good, 0 bad text, 484 total\n",
      "# interesting patches 50\n",
      "# Volume_0000/pg0113 count 450 maxcount 1000\n",
      "# 1 low conf, 0 no conf, 310 good, 0 bad text, 312 total\n",
      "# interesting patches 50\n",
      "# 1 low conf, 0 no conf, 310 good, 0 bad text, 312 total\n",
      "# interesting patches 50\n",
      "# 1 low conf, 0 no conf, 310 good, 0 bad text, 312 total\n",
      "# interesting patches 50\n",
      "# Volume_0000/pg0018 count 600 maxcount 1000\n",
      "# 15 low conf, 0 no conf, 32 good, 0 bad text, 54 total\n",
      "# interesting patches 50\n",
      "# 15 low conf, 0 no conf, 32 good, 0 bad text, 54 total\n",
      "# interesting patches 50\n",
      "# 15 low conf, 0 no conf, 32 good, 0 bad text, 54 total\n",
      "# interesting patches 50\n",
      "# Volume_0000/pg0351 count 750 maxcount 1000\n",
      "# 4 low conf, 0 no conf, 480 good, 0 bad text, 485 total\n",
      "# interesting patches 50\n",
      "# 4 low conf, 0 no conf, 480 good, 0 bad text, 485 total\n",
      "# interesting patches 50\n",
      "# 4 low conf, 0 no conf, 480 good, 0 bad text, 485 total\n",
      "# interesting patches 50\n",
      "# Volume_0000/pg0021 count 900 maxcount 1000\n",
      "# too many bad bounding boxes on this page\n",
      "didn't get any ocrx_word\n",
      "# too many bad bounding boxes on this page\n",
      "didn't get any ocrx_word\n",
      "# too many bad bounding boxes on this page\n",
      "didn't get any ocrx_word\n",
      "# Volume_0000/pg0410 count 900 maxcount 1000\n",
      "# 30 low conf, 0 no conf, 460 good, 1 bad text, 496 total\n",
      "# interesting patches 50\n",
      "# 30 low conf, 0 no conf, 460 good, 1 bad text, 496 total\n",
      "# interesting patches 50\n",
      "# Volume_0000/pg0079 count 1000 maxcount 1000\n",
      "MAXCOUNT REACHED\n",
      "# wrote 1000 records to book-seg.tar.temp\n"
     ]
    },
    {
     "data": {
      "text/html": [
       "<div class=\"sos_logging sos_info\">INFO: <span class=\"sos_highlight\">seg-data</span> output:   <span class=\"sos_highlight\">book-seg.tar</span>\n",
       "</div>"
      ]
     },
     "metadata": {},
     "output_type": "display_data"
    },
    {
     "data": {
      "text/html": [
       "<div class=\"sos_logging sos_info\">INFO: Workflow seg-data (ID=w359f8a17bb12b8f1) is executed successfully with 1 completed step.\n",
       "</div>"
      ]
     },
     "metadata": {},
     "output_type": "display_data"
    }
   ],
   "source": [
    "%sosrun seg-data"
   ]
  },
  {
   "cell_type": "code",
   "execution_count": 17,
   "id": "reliable-photography",
   "metadata": {
    "kernel": "Python3"
   },
   "outputs": [
    {
     "name": "stdout",
     "output_type": "stream",
     "text": [
      "dict_keys(['__key__', 'png', 'seg.png'])\n"
     ]
    },
    {
     "data": {
      "text/plain": [
       "<matplotlib.image.AxesImage at 0x7fcb704dcbb0>"
      ]
     },
     "execution_count": 17,
     "metadata": {},
     "output_type": "execute_result"
    },
    {
     "data": {
      "image/png": "[encoded data removed]",
      "text/plain": [
       "<Figure size 432x288 with 2 Axes>"
      ]
     },
     "metadata": {
      "needs_background": "light"
     },
     "output_type": "display_data"
    }
   ],
   "source": [
    "ds = wds.WebDataset(\"book-seg.tar\").decode(\"rgb\")\n",
    "sample= next(islice(iter(ds), 5, 999))\n",
    "print(sample.keys())\n",
    "plt.subplot(121); plt.imshow(sample[\"png\"])\n",
    "plt.subplot(122); plt.imshow(sample[\"seg.png\"][...,2])"
   ]
  },
  {
   "cell_type": "markdown",
   "id": "partial-picture",
   "metadata": {
    "kernel": "Python3"
   },
   "source": [
    "## Word Training Data\n",
    "\n",
    "As before, we use `extract-rec hocr2rec` to extract word training images."
   ]
  },
  {
   "cell_type": "code",
   "execution_count": 18,
   "id": "separate-elizabeth",
   "metadata": {
    "kernel": "SoS",
    "tags": []
   },
   "outputs": [],
   "source": [
    "[word-data]\n",
    "input: 'tess.tar'\n",
    "output: 'book-words.tar'\n",
    "sh: expand=True\n",
    "    vocropus extract-rec hocr2rec {_input} --output {_output}.temp --element ocrx_word --extensions 'nrm.jpg tess.hocr' \\\n",
    "        --bounds 10,10,500,100 --dictionary /usr/share/dict/american-english-huge --maxcount {maxextract} \\\n",
    "        --acceptable-conf 60.0\n",
    "    mv {_output}.temp {_output}"
   ]
  },
  {
   "cell_type": "code",
   "execution_count": 19,
   "id": "gorgeous-doubt",
   "metadata": {
    "kernel": "SoS",
    "scrolled": true,
    "tags": []
   },
   "outputs": [
    {
     "data": {
      "text/html": [
       "<div class=\"sos_logging sos_info\">INFO: Running <span class=\"sos_highlight\">word-data</span>: \n",
       "</div>"
      ]
     },
     "metadata": {},
     "output_type": "display_data"
    },
    {
     "name": "stdout",
     "output_type": "stream",
     "text": [
      "reading /usr/share/dict/american-english-huge\n",
      "# got 517 elements of class ocrx_word\n",
      "0\n",
      "# bad text 'EUN.'\n",
      "# bad text 'thdisich'\n",
      "# bad text 'damhsa,'\n",
      "# bad size 34 x 29\n",
      "# confidence 46.0 < acceptable confidence 60.0\n",
      "# bad text 'Bha'\n",
      "# bad text 'tigh'\n",
      "# bad text 'fhamhair'\n",
      "# bad text 'chrith'\n",
      "# bad text 'bho'\n",
      "# bad text '’mhullach'\n",
      "# confidence 37.0 < acceptable confidence 60.0\n",
      "# confidence 18.0 < acceptable confidence 60.0\n",
      "# bad text 'Ach'\n",
      "# confidence 2.0 < acceptable confidence 60.0\n",
      "# bad text 'dol'\n",
      "# bad size 27 x 24\n",
      "# bad text 'luidhe,'\n",
      "# bad size 33 x 30\n",
      "# bad text 'thubhairt'\n",
      "# bad text 'famhair,'\n",
      "# bad text '“Tha'\n",
      "# bad size 34 x 32\n",
      "# bad text 't-am'\n",
      "# confidence 58.0 < acceptable confidence 60.0\n",
      "# bad text 'dol'\n",
      "# bad size 27 x 26\n",
      "# bad text 'luidhe,'\n",
      "# bad size 27 x 26\n",
      "# bad text 'mhic'\n",
      "# bad text 'ngh'\n",
      "# bad text 'cathair'\n",
      "# confidence 31.0 < acceptable confidence 60.0\n",
      "# bad text 'thoir'\n",
      "# confidence 37.0 < acceptable confidence 60.0\n",
      "# bad text 'bhean'\n",
      "# bad text 'meadhon'\n",
      "# bad text 'Chuir'\n",
      "# bad text 'ise'\n",
      "# bad size 27 x 25\n",
      "# bad text 'lhimh'\n",
      "# bad text 'dheth'\n",
      "# bad size 33 x 33\n",
      "# bad text 'robh'\n",
      "# bad text 'lidag'\n",
      "# bad text 'agus'\n",
      "# bad size 52 x 32\n",
      "# bad text 'oirre'\n",
      "# confidence 19.0 < acceptable confidence 60.0\n",
      "# bad text '“'\n",
      "# bad text 'Dh’'\n",
      "# bad text 'amais'\n",
      "# bad text 'thu'\n",
      "# bad text 'gu'\n",
      "# bad text 'maith'\n",
      "# bad text 'cuideachd,'\n",
      "# bad text 'ach'\n",
      "# confidence 36.0 < acceptable confidence 60.0\n",
      "# bad text 'fios'\n",
      "# bad text 'coinnich'\n",
      "# bad text 'sinn'\n",
      "# bad text 'thu'\n",
      "# bad text 'ddigh'\n",
      "# bad text 'cile,”'\n",
      "# bad text 'thubhairt'\n",
      "# bad text 'famhair,'\n",
      "# bad text 'Ach'\n",
      "# bad size 27 x 25\n",
      "# bad text 'luidhe'\n",
      "# bad text 'chaidh'\n",
      "# bad text 'iad.'\n",
      "# bad text '“'\n",
      "# bad text 'thuirt'\n",
      "# bad text 'ise;'\n",
      "# bad text '“cadal'\n",
      "# bad text 'déan'\n",
      "# bad text 'thu,'\n",
      "# bad text 'basaichidh'\n",
      "# bad text 'tu;'\n",
      "# bad text 'feumaidh'\n",
      "# bad text 'sinn'\n",
      "# bad text 'teicheadh'\n",
      "# bad text 'gu'\n",
      "# bad text 'luath,'\n",
      "# bad text 'oir'\n",
      "# bad text 'amh'\n",
      "# bad text 'marbhaidh'\n",
      "# bad text 'athair'\n",
      "# bad text 'thu.”'\n",
      "# bad size 34 x 33\n",
      "# bad text 'ghabh'\n",
      "# bad text 'iad,'\n",
      "# bad text 'agus'\n",
      "# bad text 'dbuinn'\n",
      "# bad size 26 x 26\n",
      "# confidence 48.0 < acceptable confidence 60.0\n",
      "# bad text 'stabull,'\n",
      "# bad text 'chaidh'\n",
      "# bad text 'iad.'\n",
      "# confidence 58.0 < acceptable confidence 60.0\n",
      "# bad text 'socair'\n",
      "# bad text 'beagan,”'\n",
      "# bad text 'ise,'\n",
      "# bad text '“agus'\n",
      "# bad text 'cluichidh'\n",
      "# bad text 'mise'\n",
      "# bad text 'cleas'\n",
      "# bad text 't-seann'\n",
      "# confidence 59.0 < acceptable confidence 60.0\n",
      "# bad text 'Leumi'\n",
      "# bad text 'stigh,'\n",
      "# bad text 'agus'\n",
      "# confidence 0.0 < acceptable confidence 60.0\n",
      "# bad size 34 x 18\n",
      "# bad text 'ubhall’na'\n",
      "# bad text 'earannan,'\n",
      "# bad size 34 x 28\n",
      "# bad text 'chuir'\n",
      "# bad size 33 x 17\n",
      "# bad size 51 x 49\n",
      "# bad text 'earrann'\n",
      "# bad text 'dhith'\n",
      "# bad text 'aig'\n",
      "# bad text 'ceann'\n",
      "# bad text 'leapa,'\n",
      "# bad text 'agus'\n",
      "# bad text 'earrann'\n",
      "# bad text 'aig'\n",
      "# bad text 'casan'\n",
      "# bad text 'leapa;'\n",
      "# bad text 'dd'\n",
      "# bad text 'earrann'\n",
      "# bad text 'aig'\n",
      "# bad text 'dorus-chadha,'\n",
      "# bad text 'agus'\n",
      "# confidence 25.0 < acceptable confidence 60.0\n",
      "# bad text 'earann'\n",
      "# bad text 'aig'\n",
      "# bad size 50 x 51\n",
      "# bad text 'dorus'\n",
      "# confidence 43.0 < acceptable confidence 60.0\n",
      "# bad text 'agus'\n",
      "# bad size 27 x 26\n",
      "# bad text 'h-aon'\n",
      "# bad text 'taobh'\n",
      "# bad size 27 x 26\n",
      "# bad size 50 x 51\n",
      "# bad text 'tighe.'\n",
      "# bad text 'Dhiisg'\n",
      "# confidence 45.0 < acceptable confidence 60.0\n",
      "# bad text 'agus'\n",
      "# bad text 'ghlaodh'\n",
      "# bad size 32 x 31\n",
      "# bad text 'bheil'\n",
      "# bad text 'sibhse'\n",
      "# confidence 56.0 < acceptable confidence 60.0\n",
      "# bad text 'cadal.”'\n",
      "# confidence 24.0 < acceptable confidence 60.0\n",
      "# bad text 'fathast,”'\n",
      "# bad text 'ubhall'\n",
      "# bad size 27 x 25\n",
      "# bad text 'bha'\n",
      "# bad text 'aig'\n",
      "# bad text 'ceann'\n",
      "# bad text 'leapa.'\n",
      "# bad text 'ceann'\n",
      "# bad text 'ghreis'\n",
      "# bad text 'ghlaodh'\n",
      "# bad size 50 x 37\n",
      "# bad text 'rithist,'\n",
      "# confidence 39.0 < acceptable confidence 60.0\n",
      "# confidence 51.0 < acceptable confidence 60.0\n",
      "# bad text 'fathast,”'\n",
      "# bad text 'ubhall'\n",
      "# bad size 27 x 25\n",
      "# bad size 48 x 51\n",
      "# bad text 'aig'\n",
      "# bad text 'casan'\n",
      "# confidence 45.0 < acceptable confidence 60.0\n",
      "# bad text 'Greis'\n",
      "# bad text 'déigh'\n",
      "# bad text 'ghlaodh'\n",
      "# bad size 26 x 23\n",
      "# bad text 'rithist,'\n",
      "# bad size 33 x 33\n",
      "# confidence 50.0 < acceptable confidence 60.0\n",
      "# bad text 'fathast,”'\n",
      "# bad text 'thubhairt'\n",
      "# bad text 'ubhal'\n",
      "# bad text 'aig'\n",
      "# bad text 'dorus'\n",
      "# bad size 27 x 25\n",
      "# bad text 'chadha.'\n",
      "# bad text 'Ghlaodh'\n",
      "# confidence 49.0 < acceptable confidence 60.0\n",
      "# bad size 26 x 25\n",
      "# bad text 'rithist,'\n",
      "# confidence 49.0 < acceptable confidence 60.0\n",
      "# bad text 'fhreagair'\n",
      "# bad text 'ubhal'\n",
      "# bad size 26 x 26\n",
      "# bad text 'bha'\n",
      "# bad text 'aig'\n",
      "# bad text 'andorus'\n",
      "# bad text 'mhdr.'\n",
      "# bad text '“'\n",
      "# bad text 'Thasibh'\n",
      "# bad size 33 x 32\n",
      "# bad text 'dol'\n",
      "# confidence 49.0 < acceptable confidence 60.0\n",
      "# bad text 'faide'\n",
      "# bad text 'uam,”'\n",
      "# bad text 'famhair.'\n",
      "# bad size 33 x 32\n",
      "# confidence 12.0 < acceptable confidence 60.0\n",
      "# bad text 'fathast,”'\n",
      "# bad text 'ubhal'\n",
      "# bad size 26 x 26\n",
      "# bad text 'bha'\n",
      "# bad text 'taobh'\n",
      "# bad size 27 x 25\n",
      "# bad text 'doruis.'\n",
      "# bad text '“Tha'\n",
      "# bad text 'sibh'\n",
      "# bad size 26 x 25\n",
      "# bad text 'teichadh,”'\n",
      "# confidence 47.0 < acceptable confidence 60.0\n",
      "# bad text 'Leum'\n",
      "# bad text 'famhair'\n",
      "# bad size 27 x 25\n",
      "# bad text 'chasan,'\n",
      "# bad text 'agus'\n",
      "# bad text 'gu'\n",
      "# bad text 'ruig'\n",
      "# bad text 'leabaidh'\n",
      "# bad text 'chaidh'\n",
      "# bad text 'ach'\n",
      "# bad text 'bha'\n",
      "# bad size 33 x 17\n",
      "# bad text 'gu'\n",
      "# bad text 'fuar,'\n",
      "# bad text 'fas,'\n",
      "# bad text '“'\n",
      "# bad text 'Tha'\n",
      "# bad text 'cuilbheartan'\n",
      "# bad text 'nighean'\n",
      "# bad text 'féin'\n",
      "# bad size 27 x 26\n",
      "# bad text 'feuchainn'\n",
      "# bad text 'rium,”'\n",
      "# bad text 'thubhairt'\n",
      "# bad text 'famhair.'\n",
      "# bad text 'tdir'\n",
      "# bad text 'ghabh'\n",
      "# bad text 'beul'\n",
      "# bad text 'latha,'\n",
      "# bad text 'thuirt'\n",
      "# bad text 'nighean'\n",
      "# bad text 'fhamhair,'\n",
      "# bad text '“Gu'\n",
      "# confidence 20.0 < acceptable confidence 60.0\n",
      "# bad text 'robh'\n",
      "# bad text 'anail'\n",
      "# bad size 27 x 26\n",
      "# confidence 52.0 < acceptable confidence 60.0\n",
      "# bad size 26 x 25\n",
      "# bad text 'losgadh'\n",
      "# bad size 26 x 26\n",
      "# bad text 'droma.”'\n",
      "# bad text '“Cuir'\n",
      "# confidence 34.0 < acceptable confidence 60.0\n",
      "# bad text 'gu'\n",
      "# bad text 'luath,”'\n",
      "# bad text 'ise,'\n",
      "# bad text 'cluais'\n",
      "# bad text 'dhuinn,'\n",
      "# bad text 'agus'\n",
      "# bad size 53 x 53\n",
      "# bad size 53 x 54\n",
      "# bad size 53 x 54\n",
      "# bad text 'gheibh'\n",
      "# bad text 'thu'\n",
      "# bad text 'innte'\n",
      "# bad text 'tilg'\n",
      "# confidence 24.0 < acceptable confidence 60.0\n",
      "# bad size 33 x 33\n",
      "# bad text 'dhéigh'\n",
      "# bad text '“Tha'\n",
      "# bad text 'bior'\n",
      "# bad text 'sgitheach'\n",
      "# bad text 'thubhairt'\n",
      "# bad text 'esan.'\n",
      "# confidence 57.0 < acceptable confidence 60.0\n",
      "# confidence 58.0 < acceptable confidence 60.0\n",
      "# bad text 'dheighe.”'\n",
      "# bad text 'luaithe'\n",
      "# bad text 'rinn'\n",
      "# bad size 27 x 24\n",
      "# bad text 'bha'\n",
      "# bad text 'fichead'\n",
      "# confidence 44.0 < acceptable confidence 60.0\n",
      "# bad text 'cho'\n",
      "# bad text 'tiugh'\n",
      "# bad size 34 x 30\n",
      "# bad text 'bu'\n",
      "# bad text 'ghann'\n",
      "# bad text 'neas'\n",
      "# bad text 'dol'\n",
      "# bad text 'troimhe.'\n",
      "# confidence 49.0 < acceptable confidence 60.0\n",
      "# bad text 'famhair'na'\n",
      "# bad text 'dhian's'\n",
      "# bad text 'siude'n'\n",
      "# bad text 'coinneamh'\n",
      "# bad text 'achinn'\n",
      "# confidence 58.0 < acceptable confidence 60.0\n",
      "# bad text 'amhach'\n",
      "# bad text 'sgitheach!!'\n",
      "# confidence 0.0 < acceptable confidence 60.0\n",
      "# confidence 0.0 < acceptable confidence 60.0\n",
      "# bad text 'nighean'\n",
      "# bad text 'féin'\n",
      "# bad text 'ceudna,”'\n",
      "# bad text 'thubhairt'\n",
      "# bad text 'famhair;'\n",
      "# bad text '“ach'\n",
      "# confidence 0.0 < acceptable confidence 60.0\n",
      "# bad text 'biodh'\n",
      "# bad text 'agamsa'\n",
      "# bad text 'thuagh'\n",
      "# confidence 47.0 < acceptable confidence 60.0\n",
      "# confidence 53.0 < acceptable confidence 60.0\n",
      "# bad size 50 x 54\n",
      "# bad text 'choille'\n",
      "# bad size 50 x 51\n",
      "# confidence 0.0 < acceptable confidence 60.0\n",
      "# bad text 'fhad’'\n",
      "# bad size 26 x 26\n",
      "# bad text 'bhithinn'\n",
      "# bad size 26 x 25\n",
      "# bad text 'déanamh'\n",
      "# bad text 'rathad'\n",
      "# bad text 'troimhe'\n",
      "# bad size 26 x 24\n",
      "# bad text 'aidh'\n",
      "# bad text 'tuaidh'\n",
      "# confidence 41.0 < acceptable confidence 60.0\n",
      "# confidence 49.0 < acceptable confidence 60.0\n",
      "# bad text 'choille,'\n",
      "# bad text 'agus'\n",
      "# bad text 'teagamh'\n",
      "# bad text 'robh'\n",
      "# confidence 44.0 < acceptable confidence 60.0\n",
      "# bad size 33 x 32\n",
      "# confidence 25.0 < acceptable confidence 60.0\n",
      "# bad text 'rathad'\n",
      "# bad text 'troi'\n",
      "# confidence 56.0 < acceptable confidence 60.0\n",
      "# confidence 56.0 < acceptable confidence 60.0\n",
      "# bad text '“Fagaidh'\n",
      "# confidence 27.0 < acceptable confidence 60.0\n",
      "# confidence 55.0 < acceptable confidence 60.0\n",
      "# bad size 26 x 25\n",
      "# bad text 'choille'\n",
      "# confidence 46.0 < acceptable confidence 60.0\n",
      "# confidence 43.0 < acceptable confidence 60.0\n",
      "# bad text 'pn’'\n",
      "# confidence 37.0 < acceptable confidence 60.0\n",
      "# bad text 'thuirt'\n",
      "# bad text 'feannag'\n",
      "# bad size 27 x 25\n",
      "# bad text 'bha'\n",
      "# bad text 'craobh,”'\n",
      "# bad text 'goididh'\n",
      "# Volume_0000/pg0194 143\n",
      "# got 387 elements of class ocrx_word\n",
      "# bad size 31 x 28\n",
      "# bad size 49 x 51\n",
      "# bad size 60 x 61\n",
      "# bad size 30 x 28\n",
      "# bad text 'fool—the'\n",
      "# bad size 57 x 58\n",
      "# bad size 30 x 28\n",
      "# bad size 57 x 58\n",
      "# bad size 30 x 28\n",
      "# bad size 46 x 42\n",
      "# bad size 39 x 37\n",
      "# bad size 40 x 34\n",
      "# bad size 47 x 43\n",
      "# bad size 39 x 37\n",
      "# bad size 58 x 34\n",
      "# bad size 30 x 28\n",
      "# bad size 41 x 27\n",
      "# bad size 37 x 19\n",
      "# bad size 30 x 27\n",
      "# bad size 31 x 28\n",
      "# bad size 30 x 28\n",
      "# bad text 'good-natured'\n",
      "# bad size 39 x 43\n",
      "# bad size 30 x 29\n",
      "# bad size 40 x 44\n",
      "# bad size 30 x 29\n",
      "# bad size 58 x 55\n",
      "# bad size 37 x 41\n",
      "# bad size 30 x 27\n",
      "# confidence 30.0 < acceptable confidence 60.0\n",
      "# bad size 25 x 27\n",
      "# bad size 41 x 26\n",
      "# bad size 31 x 28\n",
      "# bad size 30 x 28\n",
      "# bad size 39 x 42\n",
      "# bad size 58 x 58\n",
      "# bad size 58 x 53\n",
      "# bad size 58 x 58\n",
      "# bad size 58 x 54\n",
      "# bad size 58 x 52\n",
      "# bad size 58 x 50\n",
      "# bad size 58 x 60\n",
      "# bad size 56 x 61\n",
      "# bad size 36 x 19\n",
      "# bad size 56 x 53\n",
      "# bad size 56 x 61\n",
      "# bad size 39 x 37\n",
      "# bad size 30 x 28\n",
      "# bad size 30 x 27\n",
      "# bad size 39 x 40\n",
      "# confidence 9.0 < acceptable confidence 60.0\n",
      "# bad size 39 x 36\n",
      "# bad size 37 x 40\n",
      "# bad size 39 x 39\n",
      "# bad size 40 x 36\n",
      "# bad size 29 x 28\n",
      "# bad size 31 x 28\n",
      "# bad size 37 x 41\n",
      "# bad size 59 x 35\n",
      "# bad size 31 x 28\n",
      "# bad size 40 x 26\n",
      "# bad size 37 x 41\n",
      "# bad size 58 x 26\n",
      "# bad size 18 x 17\n",
      "# bad size 40 x 26\n",
      "# bad size 40 x 37\n",
      "# bad size 41 x 27\n",
      "# bad size 37 x 41\n",
      "# bad size 29 x 27\n",
      "# bad size 29 x 28\n",
      "# bad text 'saddle-horse.'\n",
      "# bad size 37 x 41\n",
      "# Volume_0000/pg0439 458\n",
      "# got 2 elements of class ocrx_word\n",
      "# confidence 33.0 < acceptable confidence 60.0\n",
      "# bad size 263 x 329\n",
      "# Volume_0000/pg0011 458\n",
      "# got 484 elements of class ocrx_word\n",
      "# bad size 27 x 26\n",
      "# bad size 36 x 37\n",
      "# bad size 52 x 31\n",
      "# confidence 32.0 < acceptable confidence 60.0\n",
      "# bad size 35 x 33\n",
      "# bad text 'don’t'\n",
      "# bad text 'myself,’said'\n",
      "# bad size 54 x 43\n",
      "# confidence 44.0 < acceptable confidence 60.0\n",
      "# bad size 33 x 36\n",
      "# bad size 36 x 38\n",
      "# bad size 35 x 37\n",
      "# bad size 36 x 32\n",
      "# bad size 54 x 33\n",
      "# bad size 36 x 36\n",
      "# confidence 20.0 < acceptable confidence 60.0\n",
      "# bad size 35 x 33\n",
      "# bad text 'said—‘'\n",
      "# bad size 27 x 26\n",
      "# bad text 'him—‘'\n",
      "# bad text '(briagh)'\n",
      "# bad text 'said—‘'\n",
      "# bad size 35 x 36\n",
      "# bad size 44 x 21\n",
      "# bad size 53 x 43\n",
      "# bad size 54 x 44\n",
      "# bad size 35 x 27\n",
      "# bad size 54 x 44\n",
      "# bad size 28 x 26\n",
      "# bad size 35 x 38\n",
      "# bad size 31 x 16\n",
      "# bad size 36 x 36\n",
      "# bad size 36 x 39\n",
      "# bad text 'se’r'\n",
      "# bad size 28 x 28\n",
      "# confidence 7.0 < acceptable confidence 60.0\n",
      "# bad size 27 x 27\n",
      "# confidence 57.0 < acceptable confidence 60.0\n",
      "# bad size 36 x 34\n",
      "# bad text 'MHILLISTAIN'\n",
      "# confidence 50.0 < acceptable confidence 60.0\n",
      "# bad size 36 x 36\n",
      "# bad size 36 x 32\n",
      "# bad size 35 x 23\n",
      "# bad size 36 x 39\n",
      "# bad size 41 x 38\n",
      "# bad size 33 x 36\n",
      "# bad size 36 x 38\n",
      "# bad size 32 x 16\n",
      "# bad size 36 x 36\n",
      "# confidence 36.0 < acceptable confidence 60.0\n",
      "# bad size 37 x 41\n",
      "# confidence 58.0 < acceptable confidence 60.0\n",
      "# bad size 35 x 35\n",
      "# confidence 45.0 < acceptable confidence 60.0\n",
      "# bad text 'pocket—a'\n",
      "# bad text 'apple—and'\n",
      "# bad size 35 x 30\n",
      "# bad size 35 x 37\n",
      "# bad size 36 x 31\n",
      "# Volume_0000/pg0205 882\n",
      "# got 312 elements of class ocrx_word\n",
      "# bad text 'xeviii'\n",
      "# bad size 39 x 35\n",
      "# bad size 29 x 28\n",
      "# bad size 36 x 39\n",
      "# bad text 'all—mere'\n",
      "# bad size 40 x 41\n",
      "# bad size 38 x 36\n",
      "# bad size 39 x 43\n",
      "# bad size 38 x 42\n",
      "# bad size 29 x 27\n",
      "# bad text 'shillelahs'\n",
      "# bad text 'now-a-days,'\n",
      "# bad size 39 x 43\n",
      "# bad size 39 x 37\n",
      "# bad size 36 x 19\n",
      "# bad size 38 x 42\n",
      "# bad size 39 x 42\n",
      "# bad size 39 x 27\n",
      "# bad size 38 x 42\n",
      "MAXCOUNT REACHED\n",
      "# Volume_0000/pg0113 1000\n",
      "# MAXCOUNT REACHED\n",
      "# wrote 1000 records to book-words.tar.temp\n"
     ]
    },
    {
     "data": {
      "text/html": [
       "<div class=\"sos_logging sos_info\">INFO: <span class=\"sos_highlight\">word-data</span> output:   <span class=\"sos_highlight\">book-words.tar</span>\n",
       "</div>"
      ]
     },
     "metadata": {},
     "output_type": "display_data"
    },
    {
     "data": {
      "text/html": [
       "<div class=\"sos_logging sos_info\">INFO: Workflow word-data (ID=w31ffbe5a889fac72) is executed successfully with 1 completed step.\n",
       "</div>"
      ]
     },
     "metadata": {},
     "output_type": "display_data"
    }
   ],
   "source": [
    "%sosrun word-data"
   ]
  },
  {
   "cell_type": "code",
   "execution_count": 20,
   "id": "pharmaceutical-delaware",
   "metadata": {
    "kernel": "Python3"
   },
   "outputs": [
    {
     "data": {
      "image/png": "[encoded data removed]",
      "text/plain": [
       "<Figure size 432x288 with 25 Axes>"
      ]
     },
     "metadata": {
      "needs_background": "light"
     },
     "output_type": "display_data"
    }
   ],
   "source": [
    "import webdataset as wds\n",
    "from itertools import islice\n",
    "ds = wds.WebDataset(\"book-words.tar\").decode(\"rgb\")\n",
    "start = 55\n",
    "for i, sample in enumerate(islice(iter(ds), start, start+250, 10)):\n",
    "    plt.subplot(5, 5, i+1)\n",
    "    plt.imshow(sample[\"png\"])\n",
    "    plt.title(sample[\"txt\"])"
   ]
  },
  {
   "cell_type": "markdown",
   "id": "satisfied-oasis",
   "metadata": {
    "kernel": "Python3"
   },
   "source": [
    "## Detecting Character Outliers\n",
    "\n",
    "We need to decide on a character training set. Here is some optional code that goes through all training strings and identifies rare and unusual characters.\n",
    "\n",
    "You can use the output from this optional step either to transform the text strings in the training data, or to add new character set classes to OCRopus 4."
   ]
  },
  {
   "cell_type": "code",
   "execution_count": 21,
   "id": "intensive-kernel",
   "metadata": {
    "kernel": "SoS"
   },
   "outputs": [],
   "source": [
    "[detect-outliers]\n",
    "input: 'book-words.tar'\n",
    "output: 'bad-chars.txt'\n",
    "\n",
    "python:\n",
    "\n",
    "    ds = wds.WebDataset(\"book-words.tar\").decode(\"rgb\")\n",
    "    alltext = [sample[\"txt\"] for sample in ds]\n",
    "\n",
    "    from collections import Counter\n",
    "    counter = Counter()\n",
    "    for s in alltext: counter.update(s)\n",
    "\n",
    "    for c, n in counter.most_common():\n",
    "        if len(str(c.encode(\"unicode_escape\"))) > 4:\n",
    "            print(f\"\"\"{c} {str(c.encode(\"unicode_escape\")):10s} {n:10d}\"\"\")"
   ]
  },
  {
   "cell_type": "markdown",
   "id": "breeding-yeast",
   "metadata": {
    "kernel": "SoS"
   },
   "source": [
    "# Training a Word Segmenter\n",
    "\n",
    "This is the training script for word segmentation. It's pretty straightforward and just uses the `book-seg.tar` data generated previously.\n",
    "\n",
    "All training jobs log to Sqlite3 databases and also save their models into those databases. You can use the `ocropus4 slog` subcommand to extract the best or the last model and plot training curves."
   ]
  },
  {
   "cell_type": "code",
   "execution_count": 22,
   "id": "certified-battlefield",
   "metadata": {
    "kernel": "SoS"
   },
   "outputs": [],
   "source": [
    "[train-segs]\n",
    "input: 'book-seg.tar'\n",
    "output: 'segtrain.pth'\n",
    "sh: expand=True\n",
    "    export MPLBACKEND=TkAgg\n",
    "    vocropus ocroseg train {_input} --log-to segtrain.sqlite3 --ntrain {nsegtrain} --display {display}\n",
    "    vocropus slog getlast segtrain.sqlite3 --output {_output}"
   ]
  },
  {
   "cell_type": "code",
   "execution_count": 23,
   "id": "korean-flash",
   "metadata": {
    "kernel": "SoS",
    "scrolled": true,
    "tags": []
   },
   "outputs": [
    {
     "data": {
      "text/html": [
       "<div class=\"sos_logging sos_info\">INFO: Running <span class=\"sos_highlight\">train-segs</span>: \n",
       "</div>"
      ]
     },
     "metadata": {},
     "output_type": "display_data"
    },
    {
     "name": "stdout",
     "output_type": "stream",
     "text": [
      "No LSB modules are available.\n",
      "No LSB modules are available.\n",
      "Sequential(\n",
      "  (0): GrayDocument(noise=0.0, autoinvert=True)\n",
      "  (1): Input(BDHW->BDHW torch.float32 (0, 1) cuda:0 [None, 1, None, None])\n",
      "  (2): InputStats(segmodel)\n",
      "  (3): ModPad(8)\n",
      "  (4): UnetLayer(\n",
      "    (conv): Conv2d(1, 32, kernel_size=(3, 3), stride=(1, 1), padding=(1, 1))\n",
      "    (down): MaxPool2d(kernel_size=2, stride=2, padding=0, dilation=1, ceil_mode=False)\n",
      "    (up): ConvTranspose2d(128, 32, kernel_size=(3, 3), stride=(2, 2), padding=(1, 1), output_padding=(1, 1))\n",
      "    (sub): UnetLayer(\n",
      "      (conv): Conv2d(32, 64, kernel_size=(3, 3), stride=(1, 1), padding=(1, 1))\n",
      "      (down): MaxPool2d(kernel_size=2, stride=2, padding=0, dilation=1, ceil_mode=False)\n",
      "      (up): ConvTranspose2d(192, 64, kernel_size=(3, 3), stride=(2, 2), padding=(1, 1), output_padding=(1, 1))\n",
      "      (sub): UnetLayer(\n",
      "        (conv): Conv2d(64, 96, kernel_size=(3, 3), stride=(1, 1), padding=(1, 1))\n",
      "        (down): MaxPool2d(kernel_size=2, stride=2, padding=0, dilation=1, ceil_mode=False)\n",
      "        (up): ConvTranspose2d(200, 96, kernel_size=(3, 3), stride=(2, 2), padding=(1, 1), output_padding=(1, 1))\n",
      "        (sub): BDHW_LSTM(\n",
      "          (hlstm): LSTM(96, 100, bidirectional=True)\n",
      "          (vlstm): LSTM(200, 100, bidirectional=True)\n",
      "        )\n",
      "      )\n",
      "    )\n",
      "  )\n",
      "  (5): Conv2d(64, 48, kernel_size=(3, 3), stride=(1, 1), padding=(1, 1))\n",
      "  (6): BatchNorm2d(48, eps=1e-05, momentum=0.1, affine=True, track_running_stats=True)\n",
      "  (7): ReLU()\n",
      "  (8): Conv2d(48, 48, kernel_size=(3, 3), stride=(1, 1), padding=(1, 1))\n",
      "  (9): BatchNorm2d(48, eps=1e-05, momentum=0.1, affine=True, track_running_stats=True)\n",
      "  (10): ReLU()\n",
      "  (11): BDHW_LSTM(\n",
      "    (hlstm): LSTM(48, 32, bidirectional=True)\n",
      "    (vlstm): LSTM(64, 32, bidirectional=True)\n",
      "  )\n",
      "  (12): Conv2d(64, 4, kernel_size=(3, 3), stride=(1, 1), padding=(1, 1))\n",
      ")\n",
      "# saving 2\n",
      "Sequential(\n",
      "  (0): GrayDocument(noise=0.0, autoinvert=True)\n",
      "  (1): Input(BDHW->BDHW torch.float32 (0, 1) cuda:0 [None, 1, None, None])\n",
      "  (2): InputStats(segmodel (n=1) dims [2,2] [1,1] [512,512] [512,512] min [0,0] max [1,1] mean [0.13,0.13] std [0.262,0.262])\n",
      "  (3): ModPad(8)\n",
      "  (4): UnetLayer(\n",
      "    (conv): Conv2d(1, 32, kernel_size=(3, 3), stride=(1, 1), padding=(1, 1))\n",
      "    (down): MaxPool2d(kernel_size=2, stride=2, padding=0, dilation=1, ceil_mode=False)\n",
      "    (up): ConvTranspose2d(128, 32, kernel_size=(3, 3), stride=(2, 2), padding=(1, 1), output_padding=(1, 1))\n",
      "    (sub): UnetLayer(\n",
      "      (conv): Conv2d(32, 64, kernel_size=(3, 3), stride=(1, 1), padding=(1, 1))\n",
      "      (down): MaxPool2d(kernel_size=2, stride=2, padding=0, dilation=1, ceil_mode=False)\n",
      "      (up): ConvTranspose2d(192, 64, kernel_size=(3, 3), stride=(2, 2), padding=(1, 1), output_padding=(1, 1))\n",
      "      (sub): UnetLayer(\n",
      "        (conv): Conv2d(64, 96, kernel_size=(3, 3), stride=(1, 1), padding=(1, 1))\n",
      "        (down): MaxPool2d(kernel_size=2, stride=2, padding=0, dilation=1, ceil_mode=False)\n",
      "        (up): ConvTranspose2d(200, 96, kernel_size=(3, 3), stride=(2, 2), padding=(1, 1), output_padding=(1, 1))\n",
      "        (sub): BDHW_LSTM(\n",
      "          (hlstm): LSTM(96, 100, bidirectional=True)\n",
      "          (vlstm): LSTM(200, 100, bidirectional=True)\n",
      "        )\n",
      "      )\n",
      "    )\n",
      "  )\n",
      "  (5): Conv2d(64, 48, kernel_size=(3, 3), stride=(1, 1), padding=(1, 1))\n",
      "  (6): BatchNorm2d(48, eps=1e-05, momentum=0.1, affine=True, track_running_stats=True)\n",
      "  (7): ReLU()\n",
      "  (8): Conv2d(48, 48, kernel_size=(3, 3), stride=(1, 1), padding=(1, 1))\n",
      "  (9): BatchNorm2d(48, eps=1e-05, momentum=0.1, affine=True, track_running_stats=True)\n",
      "  (10): ReLU()\n",
      "  (11): BDHW_LSTM(\n",
      "    (hlstm): LSTM(48, 32, bidirectional=True)\n",
      "    (vlstm): LSTM(64, 32, bidirectional=True)\n",
      "  )\n",
      "  (12): Conv2d(64, 4, kernel_size=(3, 3), stride=(1, 1), padding=(1, 1))\n",
      ")\n",
      "# saving 200\n",
      "Sequential(\n",
      "  (0): GrayDocument(noise=0.0, autoinvert=True)\n",
      "  (1): Input(BDHW->BDHW torch.float32 (0, 1) cuda:0 [None, 1, None, None])\n",
      "  (2): InputStats(segmodel (n=100) dims [2,2] [1,1] [512,512] [512,512] min [0,0] max [1,1] mean [0.0374,0.275] std [0.156,0.33])\n",
      "  (3): ModPad(8)\n",
      "  (4): UnetLayer(\n",
      "    (conv): Conv2d(1, 32, kernel_size=(3, 3), stride=(1, 1), padding=(1, 1))\n",
      "    (down): MaxPool2d(kernel_size=2, stride=2, padding=0, dilation=1, ceil_mode=False)\n",
      "    (up): ConvTranspose2d(128, 32, kernel_size=(3, 3), stride=(2, 2), padding=(1, 1), output_padding=(1, 1))\n",
      "    (sub): UnetLayer(\n",
      "      (conv): Conv2d(32, 64, kernel_size=(3, 3), stride=(1, 1), padding=(1, 1))\n",
      "      (down): MaxPool2d(kernel_size=2, stride=2, padding=0, dilation=1, ceil_mode=False)\n",
      "      (up): ConvTranspose2d(192, 64, kernel_size=(3, 3), stride=(2, 2), padding=(1, 1), output_padding=(1, 1))\n",
      "      (sub): UnetLayer(\n",
      "        (conv): Conv2d(64, 96, kernel_size=(3, 3), stride=(1, 1), padding=(1, 1))\n",
      "        (down): MaxPool2d(kernel_size=2, stride=2, padding=0, dilation=1, ceil_mode=False)\n",
      "        (up): ConvTranspose2d(200, 96, kernel_size=(3, 3), stride=(2, 2), padding=(1, 1), output_padding=(1, 1))\n",
      "        (sub): BDHW_LSTM(\n",
      "          (hlstm): LSTM(96, 100, bidirectional=True)\n",
      "          (vlstm): LSTM(200, 100, bidirectional=True)\n",
      "        )\n",
      "      )\n",
      "    )\n",
      "  )\n",
      "  (5): Conv2d(64, 48, kernel_size=(3, 3), stride=(1, 1), padding=(1, 1))\n",
      "  (6): BatchNorm2d(48, eps=1e-05, momentum=0.1, affine=True, track_running_stats=True)\n",
      "  (7): ReLU()\n",
      "  (8): Conv2d(48, 48, kernel_size=(3, 3), stride=(1, 1), padding=(1, 1))\n",
      "  (9): BatchNorm2d(48, eps=1e-05, momentum=0.1, affine=True, track_running_stats=True)\n",
      "  (10): ReLU()\n",
      "  (11): BDHW_LSTM(\n",
      "    (hlstm): LSTM(48, 32, bidirectional=True)\n",
      "    (vlstm): LSTM(64, 32, bidirectional=True)\n",
      "  )\n",
      "  (12): Conv2d(64, 4, kernel_size=(3, 3), stride=(1, 1), padding=(1, 1))\n",
      ")\n",
      "saving step 200.0 scalar 1.2116864705085755\n"
     ]
    },
    {
     "data": {
      "text/html": [
       "<div class=\"sos_logging sos_info\">INFO: <span class=\"sos_highlight\">train-segs</span> output:   <span class=\"sos_highlight\">segtrain.pth</span>\n",
       "</div>"
      ]
     },
     "metadata": {},
     "output_type": "display_data"
    },
    {
     "data": {
      "text/html": [
       "<div class=\"sos_logging sos_info\">INFO: Workflow train-segs (ID=wd23f2140b8c1ea88) is executed successfully with 1 completed step.\n",
       "</div>"
      ]
     },
     "metadata": {},
     "output_type": "display_data"
    }
   ],
   "source": [
    "%sosrun train-segs"
   ]
  },
  {
   "cell_type": "markdown",
   "id": "exterior-divide",
   "metadata": {
    "kernel": "SoS"
   },
   "source": [
    "# Training a Word Recognizer\n",
    "\n",
    "To train a word recognizer, we use the `ocrorec train` command using the `book-words.tar` dataset."
   ]
  },
  {
   "cell_type": "code",
   "execution_count": 24,
   "id": "stretch-cedar",
   "metadata": {
    "kernel": "SoS"
   },
   "outputs": [],
   "source": [
    "[train-words]\n",
    "input: 'book-words.tar'\n",
    "output: 'wordtrain.pth'\n",
    "sh: expand=True\n",
    "    export MPLBACKEND=TkAgg\n",
    "    vocropus ocrorec train {_input} --log-to wordtrain.sqlite3 --ntrain {nwordtrain} --display {display}\n",
    "    vocropus slog getlast wordtrain.sqlite3 --output {_output}"
   ]
  },
  {
   "cell_type": "code",
   "execution_count": 25,
   "id": "voluntary-preparation",
   "metadata": {
    "kernel": "SoS",
    "scrolled": true
   },
   "outputs": [
    {
     "data": {
      "text/html": [
       "<div class=\"sos_logging sos_info\">INFO: Running <span class=\"sos_highlight\">train-words</span>: \n",
       "</div>"
      ]
     },
     "metadata": {},
     "output_type": "display_data"
    },
    {
     "name": "stdout",
     "output_type": "stream",
     "text": [
      "No LSB modules are available.\n",
      "No LSB modules are available.\n",
      "200\n",
      "torch.Size([3, 1, 34, 83])\n",
      "Sequential(\n",
      "  (0): GrayDocument(noise=0.0, autoinvert=True)\n",
      "  (1): Input(BDHW->BDHW torch.float32 (0, 1) cuda:0 [None, 1, None, None])\n",
      "  (2): InputStats(textmodel)\n",
      "  (3): Conv2d(1, 32, kernel_size=(3, 3), stride=(1, 1), padding=(1, 1))\n",
      "  (4): BatchNorm2d(32, eps=1e-05, momentum=0.1, affine=True, track_running_stats=True)\n",
      "  (5): ReLU()\n",
      "  (6): Conv2d(32, 32, kernel_size=(3, 3), stride=(1, 1), padding=(1, 1))\n",
      "  (7): BatchNorm2d(32, eps=1e-05, momentum=0.1, affine=True, track_running_stats=True)\n",
      "  (8): ReLU()\n",
      "  (9): MaxPool2d(kernel_size=(2, 1), stride=(2, 1), padding=0, dilation=1, ceil_mode=False)\n",
      "  (10): Conv2d(32, 48, kernel_size=(3, 3), stride=(1, 1), padding=(1, 1))\n",
      "  (11): BatchNorm2d(48, eps=1e-05, momentum=0.1, affine=True, track_running_stats=True)\n",
      "  (12): ReLU()\n",
      "  (13): Conv2d(48, 48, kernel_size=(3, 3), stride=(1, 1), padding=(1, 1))\n",
      "  (14): BatchNorm2d(48, eps=1e-05, momentum=0.1, affine=True, track_running_stats=True)\n",
      "  (15): ReLU()\n",
      "  (16): MaxPool2d(kernel_size=(2, 1), stride=(2, 1), padding=0, dilation=1, ceil_mode=False)\n",
      "  (17): Conv2d(48, 64, kernel_size=(3, 3), stride=(1, 1), padding=(1, 1))\n",
      "  (18): BatchNorm2d(64, eps=1e-05, momentum=0.1, affine=True, track_running_stats=True)\n",
      "  (19): ReLU()\n",
      "  (20): Conv2d(64, 64, kernel_size=(3, 3), stride=(1, 1), padding=(1, 1))\n",
      "  (21): BatchNorm2d(64, eps=1e-05, momentum=0.1, affine=True, track_running_stats=True)\n",
      "  (22): ReLU()\n",
      "  (23): MaxPool2d(kernel_size=2, stride=2, padding=0, dilation=1, ceil_mode=False)\n",
      "  (24): Conv2d(64, 96, kernel_size=(3, 3), stride=(1, 1), padding=(1, 1))\n",
      "  (25): BatchNorm2d(96, eps=1e-05, momentum=0.1, affine=True, track_running_stats=True)\n",
      "  (26): ReLU()\n",
      "  (27): Conv2d(96, 96, kernel_size=(3, 3), stride=(1, 1), padding=(1, 1))\n",
      "  (28): BatchNorm2d(96, eps=1e-05, momentum=0.1, affine=True, track_running_stats=True)\n",
      "  (29): ReLU()\n",
      "  (30): BDHW_LSTM(\n",
      "    (hlstm): LSTM(96, 100, bidirectional=True)\n",
      "    (vlstm): LSTM(200, 100, bidirectional=True)\n",
      "  )\n",
      "  (31): Fun None lambda x: x.max(2)[0]\n",
      "  (32): ConvTranspose1d(200, 400, kernel_size=(1,), stride=(2,))\n",
      "  (33): Conv1d(400, 100, kernel_size=(3,), stride=(1,))\n",
      "  (34): BatchNorm1d(100, eps=1e-05, momentum=0.1, affine=True, track_running_stats=True)\n",
      "  (35): ReLU()\n",
      "  (36): Reorder(\"BDL\", \"LBD\")\n",
      "  (37): LSTM(\n",
      "    (lstm): LSTM(100, 100, bidirectional=True)\n",
      "  )\n",
      "  (38): Reorder(\"LBD\", \"BDL\")\n",
      "  (39): Conv1d(200, 96, kernel_size=(1,), stride=(1,))\n",
      ")\n",
      "setting learning rate to 1.0e-04\n",
      "starting training\n",
      "setting learning rate to 1.0e-03\n",
      "  3         1   119.6315\n",
      "saving step 200.0 scalar 41.95516623311968\n"
     ]
    },
    {
     "data": {
      "text/html": [
       "<div class=\"sos_logging sos_info\">INFO: <span class=\"sos_highlight\">train-words</span> output:   <span class=\"sos_highlight\">wordtrain.pth</span>\n",
       "</div>"
      ]
     },
     "metadata": {},
     "output_type": "display_data"
    },
    {
     "data": {
      "text/html": [
       "<div class=\"sos_logging sos_info\">INFO: Workflow train-words (ID=w0ec70ebde84e35a8) is executed successfully with 1 completed step.\n",
       "</div>"
      ]
     },
     "metadata": {},
     "output_type": "display_data"
    }
   ],
   "source": [
    "%sosrun train-words"
   ]
  },
  {
   "cell_type": "markdown",
   "id": "anonymous-choice",
   "metadata": {
    "kernel": "SoS"
   },
   "source": [
    "# Line Segmentation\n",
    "\n",
    "The base recognizer recognizes individual words; these need to be grouped into text lines as part of the recognition process. We train a separate text line segmentation model for this. The procedure is the same as for word segmentation: we generate line segmentation images for training and then use the `ocroseg train` command to train a segmenter."
   ]
  },
  {
   "cell_type": "code",
   "execution_count": 26,
   "id": "exceptional-youth",
   "metadata": {
    "kernel": "SoS",
    "tags": []
   },
   "outputs": [],
   "source": [
    "[line-data]\n",
    "input: 'tess.tar'\n",
    "output: 'book-lines.tar'\n",
    "sh: expand=True\n",
    "    export MPLBACKEND=TkAgg\n",
    "    vocropus extract-seg hocr2seg {_input} --output {_output}.temp --element ocr_line --extensions 'nrm.jpg tess.hocr' --invert True \\\n",
    "        --show 100 --labels='1, 2, 3' --check line --maxcount {maxextract}\n",
    "    mv {_output}.temp {_output}\n"
   ]
  },
  {
   "cell_type": "code",
   "execution_count": 27,
   "id": "arctic-playing",
   "metadata": {
    "kernel": "SoS",
    "scrolled": true,
    "tags": []
   },
   "outputs": [
    {
     "data": {
      "text/html": [
       "<div class=\"sos_logging sos_info\">INFO: Running <span class=\"sos_highlight\">line-data</span>: \n",
       "</div>"
      ]
     },
     "metadata": {},
     "output_type": "display_data"
    },
    {
     "name": "stdout",
     "output_type": "stream",
     "text": [
      "# Volume_0000/pg0194 count 0 maxcount 1000\n",
      "# 0 low conf, 43 no conf, 43 good, 0 bad text, 43 total\n",
      "# interesting patches 50\n",
      "0\n",
      "# 0 low conf, 43 no conf, 43 good, 0 bad text, 43 total\n",
      "# interesting patches 50\n",
      "# 0 low conf, 43 no conf, 43 good, 0 bad text, 43 total\n",
      "# interesting patches 50\n",
      "# Volume_0000/pg0439 count 150 maxcount 1000\n",
      "# 0 low conf, 36 no conf, 36 good, 0 bad text, 36 total\n",
      "# interesting patches 50\n",
      "# 0 low conf, 36 no conf, 36 good, 0 bad text, 36 total\n",
      "# interesting patches 50\n",
      "# 0 low conf, 36 no conf, 36 good, 0 bad text, 36 total\n",
      "# interesting patches 50\n",
      "# Volume_0000/pg0011 count 300 maxcount 1000\n",
      "# 0 low conf, 2 no conf, 1 good, 0 bad text, 2 total\n",
      "# interesting patches 50\n",
      "# 0 low conf, 2 no conf, 1 good, 0 bad text, 2 total\n",
      "# interesting patches 50\n",
      "# 0 low conf, 2 no conf, 1 good, 0 bad text, 2 total\n",
      "# interesting patches 41\n",
      "# Volume_0000/pg0205 count 441 maxcount 1000\n",
      "# 0 low conf, 40 no conf, 40 good, 0 bad text, 40 total\n",
      "# interesting patches 50\n",
      "# 0 low conf, 40 no conf, 40 good, 0 bad text, 40 total\n",
      "# interesting patches 50\n",
      "# 0 low conf, 40 no conf, 40 good, 0 bad text, 40 total\n",
      "# interesting patches 50\n",
      "# Volume_0000/pg0113 count 591 maxcount 1000\n",
      "# 0 low conf, 36 no conf, 36 good, 0 bad text, 36 total\n",
      "# interesting patches 50\n",
      "# 0 low conf, 36 no conf, 36 good, 0 bad text, 36 total\n",
      "# interesting patches 50\n",
      "# 0 low conf, 36 no conf, 36 good, 0 bad text, 36 total\n",
      "# interesting patches 50\n",
      "# Volume_0000/pg0018 count 741 maxcount 1000\n",
      "# 0 low conf, 10 no conf, 8 good, 1 bad text, 11 total\n",
      "# interesting patches 50\n",
      "# 0 low conf, 10 no conf, 8 good, 1 bad text, 11 total\n",
      "# interesting patches 50\n",
      "# 0 low conf, 10 no conf, 8 good, 1 bad text, 11 total\n",
      "# interesting patches 50\n",
      "# Volume_0000/pg0351 count 891 maxcount 1000\n",
      "# 0 low conf, 41 no conf, 41 good, 0 bad text, 41 total\n",
      "# interesting patches 50\n",
      "# 0 low conf, 41 no conf, 41 good, 0 bad text, 41 total\n",
      "# interesting patches 50\n",
      "# 0 low conf, 41 no conf, 41 good, 0 bad text, 41 total\n",
      "# interesting patches 50\n",
      "# Volume_0000/pg0021 count 1000 maxcount 1000\n",
      "MAXCOUNT REACHED\n",
      "# wrote 1000 records to book-lines.tar.temp\n"
     ]
    },
    {
     "data": {
      "text/html": [
       "<div class=\"sos_logging sos_info\">INFO: <span class=\"sos_highlight\">line-data</span> output:   <span class=\"sos_highlight\">book-lines.tar</span>\n",
       "</div>"
      ]
     },
     "metadata": {},
     "output_type": "display_data"
    },
    {
     "data": {
      "text/html": [
       "<div class=\"sos_logging sos_info\">INFO: Workflow line-data (ID=wd490dec2aefdafc9) is executed successfully with 1 completed step.\n",
       "</div>"
      ]
     },
     "metadata": {},
     "output_type": "display_data"
    }
   ],
   "source": [
    "%sosrun line-data"
   ]
  },
  {
   "cell_type": "code",
   "execution_count": 28,
   "id": "willing-prevention",
   "metadata": {
    "kernel": "Python3",
    "tags": []
   },
   "outputs": [
    {
     "name": "stdout",
     "output_type": "stream",
     "text": [
      "dict_keys(['__key__', 'png', 'seg.png'])\n"
     ]
    },
    {
     "data": {
      "text/plain": [
       "<matplotlib.image.AxesImage at 0x7fcb6e5ef370>"
      ]
     },
     "execution_count": 28,
     "metadata": {},
     "output_type": "execute_result"
    },
    {
     "data": {
      "image/png": "[encoded data removed]",
      "text/plain": [
       "<Figure size 432x288 with 2 Axes>"
      ]
     },
     "metadata": {
      "needs_background": "light"
     },
     "output_type": "display_data"
    }
   ],
   "source": [
    "ds = wds.WebDataset(\"book-lines.tar\").decode(\"rgb\")\n",
    "sample= next(islice(iter(ds), 100, 999))\n",
    "print(sample.keys())\n",
    "plt.subplot(121); plt.imshow(sample[\"png\"])\n",
    "plt.subplot(122); plt.imshow(sample[\"seg.png\"][...,2])"
   ]
  },
  {
   "cell_type": "code",
   "execution_count": 29,
   "id": "placed-jaguar",
   "metadata": {
    "kernel": "SoS"
   },
   "outputs": [],
   "source": [
    "[train-lines]\n",
    "input: 'book-lines.tar'\n",
    "output: 'linetrain.pth'\n",
    "sh: expand=True\n",
    "    export MPLBACKEND=TkAgg\n",
    "    vocropus ocroseg train {_input} --log-to linetrain.sqlite3 --ntrain {nsegtrain} --display {display}\n",
    "    rm -f {_output}\n",
    "    vocropus slog getlast linetrain.sqlite3 --output {_output}"
   ]
  },
  {
   "cell_type": "code",
   "execution_count": 30,
   "id": "suited-camera",
   "metadata": {
    "kernel": "SoS",
    "scrolled": true,
    "tags": []
   },
   "outputs": [
    {
     "data": {
      "text/html": [
       "<div class=\"sos_logging sos_info\">INFO: Running <span class=\"sos_highlight\">train-lines</span>: \n",
       "</div>"
      ]
     },
     "metadata": {},
     "output_type": "display_data"
    },
    {
     "name": "stdout",
     "output_type": "stream",
     "text": [
      "No LSB modules are available.\n",
      "No LSB modules are available.\n",
      "Sequential(\n",
      "  (0): GrayDocument(noise=0.0, autoinvert=True)\n",
      "  (1): Input(BDHW->BDHW torch.float32 (0, 1) cuda:0 [None, 1, None, None])\n",
      "  (2): InputStats(segmodel)\n",
      "  (3): ModPad(8)\n",
      "  (4): UnetLayer(\n",
      "    (conv): Conv2d(1, 32, kernel_size=(3, 3), stride=(1, 1), padding=(1, 1))\n",
      "    (down): MaxPool2d(kernel_size=2, stride=2, padding=0, dilation=1, ceil_mode=False)\n",
      "    (up): ConvTranspose2d(128, 32, kernel_size=(3, 3), stride=(2, 2), padding=(1, 1), output_padding=(1, 1))\n",
      "    (sub): UnetLayer(\n",
      "      (conv): Conv2d(32, 64, kernel_size=(3, 3), stride=(1, 1), padding=(1, 1))\n",
      "      (down): MaxPool2d(kernel_size=2, stride=2, padding=0, dilation=1, ceil_mode=False)\n",
      "      (up): ConvTranspose2d(192, 64, kernel_size=(3, 3), stride=(2, 2), padding=(1, 1), output_padding=(1, 1))\n",
      "      (sub): UnetLayer(\n",
      "        (conv): Conv2d(64, 96, kernel_size=(3, 3), stride=(1, 1), padding=(1, 1))\n",
      "        (down): MaxPool2d(kernel_size=2, stride=2, padding=0, dilation=1, ceil_mode=False)\n",
      "        (up): ConvTranspose2d(200, 96, kernel_size=(3, 3), stride=(2, 2), padding=(1, 1), output_padding=(1, 1))\n",
      "        (sub): BDHW_LSTM(\n",
      "          (hlstm): LSTM(96, 100, bidirectional=True)\n",
      "          (vlstm): LSTM(200, 100, bidirectional=True)\n",
      "        )\n",
      "      )\n",
      "    )\n",
      "  )\n",
      "  (5): Conv2d(64, 48, kernel_size=(3, 3), stride=(1, 1), padding=(1, 1))\n",
      "  (6): BatchNorm2d(48, eps=1e-05, momentum=0.1, affine=True, track_running_stats=True)\n",
      "  (7): ReLU()\n",
      "  (8): Conv2d(48, 48, kernel_size=(3, 3), stride=(1, 1), padding=(1, 1))\n",
      "  (9): BatchNorm2d(48, eps=1e-05, momentum=0.1, affine=True, track_running_stats=True)\n",
      "  (10): ReLU()\n",
      "  (11): BDHW_LSTM(\n",
      "    (hlstm): LSTM(48, 32, bidirectional=True)\n",
      "    (vlstm): LSTM(64, 32, bidirectional=True)\n",
      "  )\n",
      "  (12): Conv2d(64, 4, kernel_size=(3, 3), stride=(1, 1), padding=(1, 1))\n",
      ")\n",
      "# saving 2\n",
      "Sequential(\n",
      "  (0): GrayDocument(noise=0.0, autoinvert=True)\n",
      "  (1): Input(BDHW->BDHW torch.float32 (0, 1) cuda:0 [None, 1, None, None])\n",
      "  (2): InputStats(segmodel (n=1) dims [2,2] [1,1] [512,512] [512,512] min [0,0] max [1,1] mean [0.0555,0.0555] std [0.186,0.186])\n",
      "  (3): ModPad(8)\n",
      "  (4): UnetLayer(\n",
      "    (conv): Conv2d(1, 32, kernel_size=(3, 3), stride=(1, 1), padding=(1, 1))\n",
      "    (down): MaxPool2d(kernel_size=2, stride=2, padding=0, dilation=1, ceil_mode=False)\n",
      "    (up): ConvTranspose2d(128, 32, kernel_size=(3, 3), stride=(2, 2), padding=(1, 1), output_padding=(1, 1))\n",
      "    (sub): UnetLayer(\n",
      "      (conv): Conv2d(32, 64, kernel_size=(3, 3), stride=(1, 1), padding=(1, 1))\n",
      "      (down): MaxPool2d(kernel_size=2, stride=2, padding=0, dilation=1, ceil_mode=False)\n",
      "      (up): ConvTranspose2d(192, 64, kernel_size=(3, 3), stride=(2, 2), padding=(1, 1), output_padding=(1, 1))\n",
      "      (sub): UnetLayer(\n",
      "        (conv): Conv2d(64, 96, kernel_size=(3, 3), stride=(1, 1), padding=(1, 1))\n",
      "        (down): MaxPool2d(kernel_size=2, stride=2, padding=0, dilation=1, ceil_mode=False)\n",
      "        (up): ConvTranspose2d(200, 96, kernel_size=(3, 3), stride=(2, 2), padding=(1, 1), output_padding=(1, 1))\n",
      "        (sub): BDHW_LSTM(\n",
      "          (hlstm): LSTM(96, 100, bidirectional=True)\n",
      "          (vlstm): LSTM(200, 100, bidirectional=True)\n",
      "        )\n",
      "      )\n",
      "    )\n",
      "  )\n",
      "  (5): Conv2d(64, 48, kernel_size=(3, 3), stride=(1, 1), padding=(1, 1))\n",
      "  (6): BatchNorm2d(48, eps=1e-05, momentum=0.1, affine=True, track_running_stats=True)\n",
      "  (7): ReLU()\n",
      "  (8): Conv2d(48, 48, kernel_size=(3, 3), stride=(1, 1), padding=(1, 1))\n",
      "  (9): BatchNorm2d(48, eps=1e-05, momentum=0.1, affine=True, track_running_stats=True)\n",
      "  (10): ReLU()\n",
      "  (11): BDHW_LSTM(\n",
      "    (hlstm): LSTM(48, 32, bidirectional=True)\n",
      "    (vlstm): LSTM(64, 32, bidirectional=True)\n",
      "  )\n",
      "  (12): Conv2d(64, 4, kernel_size=(3, 3), stride=(1, 1), padding=(1, 1))\n",
      ")\n",
      "# saving 200\n",
      "Sequential(\n",
      "  (0): GrayDocument(noise=0.0, autoinvert=True)\n",
      "  (1): Input(BDHW->BDHW torch.float32 (0, 1) cuda:0 [None, 1, None, None])\n",
      "  (2): InputStats(segmodel (n=100) dims [2,2] [1,1] [512,512] [512,512] min [0,0] max [1,1] mean [0.0121,0.275] std [0.0941,0.332])\n",
      "  (3): ModPad(8)\n",
      "  (4): UnetLayer(\n",
      "    (conv): Conv2d(1, 32, kernel_size=(3, 3), stride=(1, 1), padding=(1, 1))\n",
      "    (down): MaxPool2d(kernel_size=2, stride=2, padding=0, dilation=1, ceil_mode=False)\n",
      "    (up): ConvTranspose2d(128, 32, kernel_size=(3, 3), stride=(2, 2), padding=(1, 1), output_padding=(1, 1))\n",
      "    (sub): UnetLayer(\n",
      "      (conv): Conv2d(32, 64, kernel_size=(3, 3), stride=(1, 1), padding=(1, 1))\n",
      "      (down): MaxPool2d(kernel_size=2, stride=2, padding=0, dilation=1, ceil_mode=False)\n",
      "      (up): ConvTranspose2d(192, 64, kernel_size=(3, 3), stride=(2, 2), padding=(1, 1), output_padding=(1, 1))\n",
      "      (sub): UnetLayer(\n",
      "        (conv): Conv2d(64, 96, kernel_size=(3, 3), stride=(1, 1), padding=(1, 1))\n",
      "        (down): MaxPool2d(kernel_size=2, stride=2, padding=0, dilation=1, ceil_mode=False)\n",
      "        (up): ConvTranspose2d(200, 96, kernel_size=(3, 3), stride=(2, 2), padding=(1, 1), output_padding=(1, 1))\n",
      "        (sub): BDHW_LSTM(\n",
      "          (hlstm): LSTM(96, 100, bidirectional=True)\n",
      "          (vlstm): LSTM(200, 100, bidirectional=True)\n",
      "        )\n",
      "      )\n",
      "    )\n",
      "  )\n",
      "  (5): Conv2d(64, 48, kernel_size=(3, 3), stride=(1, 1), padding=(1, 1))\n",
      "  (6): BatchNorm2d(48, eps=1e-05, momentum=0.1, affine=True, track_running_stats=True)\n",
      "  (7): ReLU()\n",
      "  (8): Conv2d(48, 48, kernel_size=(3, 3), stride=(1, 1), padding=(1, 1))\n",
      "  (9): BatchNorm2d(48, eps=1e-05, momentum=0.1, affine=True, track_running_stats=True)\n",
      "  (10): ReLU()\n",
      "  (11): BDHW_LSTM(\n",
      "    (hlstm): LSTM(48, 32, bidirectional=True)\n",
      "    (vlstm): LSTM(64, 32, bidirectional=True)\n",
      "  )\n",
      "  (12): Conv2d(64, 4, kernel_size=(3, 3), stride=(1, 1), padding=(1, 1))\n",
      ")\n",
      "saving step 200.0 scalar 1.1490951204299926\n"
     ]
    },
    {
     "data": {
      "text/html": [
       "<div class=\"sos_logging sos_info\">INFO: <span class=\"sos_highlight\">train-lines</span> output:   <span class=\"sos_highlight\">linetrain.pth</span>\n",
       "</div>"
      ]
     },
     "metadata": {},
     "output_type": "display_data"
    },
    {
     "data": {
      "text/html": [
       "<div class=\"sos_logging sos_info\">INFO: Workflow train-lines (ID=w953bac738ad8d9d5) is executed successfully with 1 completed step.\n",
       "</div>"
      ]
     },
     "metadata": {},
     "output_type": "display_data"
    }
   ],
   "source": [
    "%sosrun train-lines"
   ]
  },
  {
   "cell_type": "markdown",
   "id": "apart-arkansas",
   "metadata": {
    "kernel": "SoS"
   },
   "source": [
    "# Running the Page Recognizer\n",
    "\n",
    "The page reocgnizer consists of several steps:\n",
    "\n",
    "- word segmentation: segment the input page into individual words\n",
    "- word recognition: apply the word recognizer to the word segments\n",
    "- line segmentation: apply the line segmenter to obtain text line seeds\n",
    "- grouping: use the line segmentation output to group word boxes into text line\n",
    "- sorting: text lines are finally sorted in a simple way to obtain the final output\n",
    "\n",
    "Output is both in .tar format and as a single .html file in hOCR format (the hOCR is not compliant yet).\n",
    "\n",
    "The final sort currently uses simple heuristics; eventually, there will be a second grouping step based on text block training."
   ]
  },
  {
   "cell_type": "code",
   "execution_count": 31,
   "id": "norwegian-mistress",
   "metadata": {
    "kernel": "SoS"
   },
   "outputs": [],
   "source": [
    "[page-recognition]\n",
    "input: 'tess.tar'\n",
    "output: 'recognized.tar'\n",
    "sh: expand=True\n",
    "    export MPLBACKEND=TkAgg\n",
    "    vocropus pagerec recognize {_input} --output {_output} --recmodel wordtrain.pth --segmodel segtrain.pth --lgmodel linetrain.pth --full-html recognized.html --extensions nrm.jpg --maxrec 10"
   ]
  },
  {
   "cell_type": "code",
   "execution_count": 32,
   "id": "quiet-weekly",
   "metadata": {
    "kernel": "SoS",
    "scrolled": true,
    "tags": []
   },
   "outputs": [
    {
     "data": {
      "text/html": [
       "<div class=\"sos_logging sos_info\">INFO: Running <span class=\"sos_highlight\">page-recognition</span>: \n",
       "</div>"
      ]
     },
     "metadata": {},
     "output_type": "display_data"
    },
    {
     "data": {
      "text/html": [
       "<div class=\"sos_logging sos_info\">INFO: <span class=\"sos_highlight\">page-recognition</span> (index=0) is <span class=\"sos_highlight\">ignored</span> due to saved signature\n",
       "</div>"
      ]
     },
     "metadata": {},
     "output_type": "display_data"
    },
    {
     "data": {
      "text/html": [
       "<div class=\"sos_logging sos_info\">INFO: <span class=\"sos_highlight\">page-recognition</span> output:   <span class=\"sos_highlight\">recognized.tar</span>\n",
       "</div>"
      ]
     },
     "metadata": {},
     "output_type": "display_data"
    },
    {
     "data": {
      "text/html": [
       "<div class=\"sos_logging sos_info\">INFO: Workflow page-recognition (ID=wc440f69b72d91dff) is ignored with 1 ignored step.\n",
       "</div>"
      ]
     },
     "metadata": {},
     "output_type": "display_data"
    }
   ],
   "source": [
    "%sosrun page-recognition"
   ]
  },
  {
   "cell_type": "markdown",
   "id": "silent-samuel",
   "metadata": {
    "kernel": "SoS"
   },
   "source": [
    "Here are some recognition results; these are NOT representative of what is achievable with OCRopus 4, since they are recognition results obtained on a tiny training data set with limited training data. Given this very limited training, recognition performance is actually pretty good."
   ]
  },
  {
   "cell_type": "code",
   "execution_count": 33,
   "id": "arbitrary-circus",
   "metadata": {
    "kernel": "SoS"
   },
   "outputs": [
    {
     "name": "stdout",
     "output_type": "stream",
     "text": [
      "   caught by the giant, tied to a \" m\n",
      "\n",
      "Volume_0000/pg0079\n",
      "\n",
      "   ☒ ☒ f N ☒ ☒ ☒ ☒ lxiv INTRODUCTION. the land where Sanscrit was spoken,\n",
      "   and all these, and many more, play their part in popular tales\n",
      "   elsewhere, while no real animal is ever mentioned which is pecu- liar\n",
      "   to lands out of the road which leads overland to India. Nearly all\n",
      "   these have Gaelic names, and most of them are still living within a few\n",
      "   days' journey of the Hebrides under other names. I saw a live wolf from\n",
      "   a diligence one fine morning in Brittany, and I have seen bears in\n",
      "   Scandinavia and in Germany. The only far-fetched animal is the Lion,\n",
      "   and in another story a similar creature appears as \" Cu Seang.\" Here is\n",
      "   a fresh scent-for Sing is Lion in India-and may once have meant Lion in\n",
      "   Gaelic; i for though Leomh- an is the word now used, Seang is applied\n",
      "   to any- thing slender and active. Shune is a dog in Sanscrit, Siunnach\n",
      "   a fox in Gaelic, and there are many other Gaelic words which point to\n",
      "   the n eastern origin of Celtic nations.\" The story cannot have crossed\n",
      "   the sea from the West. ☒ It is therefore probable that it came from the\n",
      "   East, for it is not of home growth, and the ☒ question is, how did it\n",
      "   get to Barra ? It seems to have been known along a certain track for\n",
      "   many ages. It is possible that it came from the far East with the\n",
      "   people, and that it has survived ever since. It is hard to account for\n",
      "   it otherwise. Those who have most studied the subject so account for\n",
      "   popular tales elsewhere, and, therefore, John Macphie's ☒ story of the\n",
      "   Sea-Maiden acquires an interest not all its own Much has been written,\n",
      "   and said, and discovered about the popular migrations which have poured\n",
      "   from East to We est, and which are moving on still. Philo- logy has\n",
      "   mapped out the course of the human stream, and here, in the mind of an\n",
      "   old fisherman, unable to\n"
     ]
    }
   ],
   "source": [
    "!lynx -dump recognized.html | tail -30"
   ]
  },
  {
   "cell_type": "markdown",
   "id": "strange-stone",
   "metadata": {
    "kernel": "SoS"
   },
   "source": [
    "# Page Orientation\n",
    "\n",
    "Before any kind of document processing, it is a good idea to ensure that pages are right side up. The `ocrorot` command handles this. We can first train a page orientation model and then apply it to correct the orientation of pages. Training just requires a collection of pages in right-side-up orientation as input."
   ]
  },
  {
   "cell_type": "code",
   "execution_count": 34,
   "id": "strong-israel",
   "metadata": {
    "kernel": "SoS"
   },
   "outputs": [],
   "source": [
    "[train-rot]\n",
    "input: 'tess.tar'\n",
    "output: 'rottrain.pth'\n",
    "sh: expand=True\n",
    "    export MPLBACKEND=TkAgg\n",
    "    base=$(basename {_output} .pth)\n",
    "    rm -f $base.sqlite3\n",
    "    vocropus ocrorot train {_input} --display 15 --output $base.sqlite3 --nsamples {nrottrain} --replicate 8 --num-workers 8 --extensions nrm.jpg\n",
    "    vocropus slog getbest $base.sqlite3 --output {_output}"
   ]
  },
  {
   "cell_type": "code",
   "execution_count": 35,
   "id": "greatest-circus",
   "metadata": {
    "kernel": "SoS",
    "scrolled": true,
    "tags": []
   },
   "outputs": [
    {
     "data": {
      "text/html": [
       "<div class=\"sos_logging sos_info\">INFO: Running <span class=\"sos_highlight\">train-rot</span>: \n",
       "</div>"
      ]
     },
     "metadata": {},
     "output_type": "display_data"
    },
    {
     "name": "stdout",
     "output_type": "stream",
     "text": [
      "No LSB modules are available.\n",
      "No LSB modules are available.\n",
      "Sequential(\n",
      "  (0): CheckSizes((2, 128), (1, 512), (256, 256), (256, 256))\n",
      "  (1): Conv2d(1, 8, kernel_size=(3, 3), stride=(1, 1), padding=(1, 1))\n",
      "  (2): BatchNorm2d(8, eps=1e-05, momentum=0.1, affine=True, track_running_stats=True)\n",
      "  (3): ReLU()\n",
      "  (4): Conv2d(8, 8, kernel_size=(3, 3), stride=(1, 1), padding=(1, 1))\n",
      "  (5): BatchNorm2d(8, eps=1e-05, momentum=0.1, affine=True, track_running_stats=True)\n",
      "  (6): ReLU()\n",
      "  (7): MaxPool2d(kernel_size=2, stride=2, padding=0, dilation=1, ceil_mode=False)\n",
      "  (8): Conv2d(8, 8, kernel_size=(3, 3), stride=(1, 1), padding=(1, 1))\n",
      "  (9): BatchNorm2d(8, eps=1e-05, momentum=0.1, affine=True, track_running_stats=True)\n",
      "  (10): ReLU()\n",
      "  (11): Conv2d(8, 8, kernel_size=(3, 3), stride=(1, 1), padding=(1, 1))\n",
      "  (12): BatchNorm2d(8, eps=1e-05, momentum=0.1, affine=True, track_running_stats=True)\n",
      "  (13): ReLU()\n",
      "  (14): MaxPool2d(kernel_size=2, stride=2, padding=0, dilation=1, ceil_mode=False)\n",
      "  (15): Conv2d(8, 8, kernel_size=(3, 3), stride=(1, 1), padding=(1, 1))\n",
      "  (16): BatchNorm2d(8, eps=1e-05, momentum=0.1, affine=True, track_running_stats=True)\n",
      "  (17): ReLU()\n",
      "  (18): Conv2d(8, 8, kernel_size=(3, 3), stride=(1, 1), padding=(1, 1))\n",
      "  (19): BatchNorm2d(8, eps=1e-05, momentum=0.1, affine=True, track_running_stats=True)\n",
      "  (20): ReLU()\n",
      "  (21): MaxPool2d(kernel_size=2, stride=2, padding=0, dilation=1, ceil_mode=False)\n",
      "  (22): Conv2d(8, 8, kernel_size=(3, 3), stride=(1, 1), padding=(1, 1))\n",
      "  (23): BatchNorm2d(8, eps=1e-05, momentum=0.1, affine=True, track_running_stats=True)\n",
      "  (24): ReLU()\n",
      "  (25): Conv2d(8, 8, kernel_size=(3, 3), stride=(1, 1), padding=(1, 1))\n",
      "  (26): BatchNorm2d(8, eps=1e-05, momentum=0.1, affine=True, track_running_stats=True)\n",
      "  (27): ReLU()\n",
      "  (28): MaxPool2d(kernel_size=2, stride=2, padding=0, dilation=1, ceil_mode=False)\n",
      "  (29): GlobalAvgPool2d()\n",
      "  (30): Linear(in_features=8, out_features=64, bias=True)\n",
      "  (31): BatchNorm1d(64, eps=1e-05, momentum=0.1, affine=True, track_running_stats=True)\n",
      "  (32): ReLU()\n",
      "  (33): Linear(in_features=64, out_features=4, bias=True)\n",
      "  (34): CheckSizes((2, 128), (4, 4))\n",
      ")\n",
      "64 1.3677337169647217 0.671875 0.026999999999999996\n",
      "\n",
      "saved at 256\n",
      "saving step 256.0 scalar 1.3775816857814789\n"
     ]
    },
    {
     "data": {
      "text/html": [
       "<div class=\"sos_logging sos_info\">INFO: <span class=\"sos_highlight\">train-rot</span> output:   <span class=\"sos_highlight\">rottrain.pth</span>\n",
       "</div>"
      ]
     },
     "metadata": {},
     "output_type": "display_data"
    },
    {
     "data": {
      "text/html": [
       "<div class=\"sos_logging sos_info\">INFO: Workflow train-rot (ID=w2366b8da658a9b3b) is executed successfully with 1 completed step.\n",
       "</div>"
      ]
     },
     "metadata": {},
     "output_type": "display_data"
    }
   ],
   "source": [
    "%sosrun train-rot"
   ]
  },
  {
   "cell_type": "code",
   "execution_count": 36,
   "id": "conventional-china",
   "metadata": {
    "kernel": "SoS"
   },
   "outputs": [],
   "source": [
    "[predict-rot]\n",
    "input: 'rottrain.pth'\n",
    "sh: expand=True\n",
    "    vocropus ocrorot correct tess.tar --nsamples 10 --model rottrain.pth"
   ]
  },
  {
   "cell_type": "code",
   "execution_count": 37,
   "id": "attempted-georgia",
   "metadata": {
    "kernel": "SoS"
   },
   "outputs": [
    {
     "data": {
      "text/html": [
       "<div class=\"sos_logging sos_info\">INFO: Running <span class=\"sos_highlight\">predict-rot</span>: \n",
       "</div>"
      ]
     },
     "metadata": {},
     "output_type": "display_data"
    },
    {
     "name": "stdout",
     "output_type": "stream",
     "text": [
      "Volume_0000/pg0194 (2115, 1522) 0\n",
      "Volume_0000/pg0439 (2108, 1572) 0\n",
      "Volume_0000/pg0011 (2108, 1518) 0\n",
      "Volume_0000/pg0205 (2115, 1522) 0\n",
      "Volume_0000/pg0113 (2118, 1504) 0\n",
      "Volume_0000/pg0018 (2108, 1518) 0\n",
      "Volume_0000/pg0351 (2132, 1519) 0\n",
      "Volume_0000/pg0021 (2108, 1518) 0\n",
      "Volume_0000/pg0410 (2132, 1519) 0\n",
      "Volume_0000/pg0079 (2118, 1504) 0\n"
     ]
    },
    {
     "data": {
      "text/html": [
       "<div class=\"sos_logging sos_info\">INFO: Workflow predict-rot (ID=w294989719c37cbe8) is executed successfully with 1 completed step.\n",
       "</div>"
      ]
     },
     "metadata": {},
     "output_type": "display_data"
    }
   ],
   "source": [
    "%sosrun predict-rot"
   ]
  },
  {
   "cell_type": "markdown",
   "id": "transparent-cologne",
   "metadata": {
    "kernel": "SoS"
   },
   "source": [
    "# Page Skew Correction\n",
    "\n",
    "\"Page skew\" refers to small rotations of scanned pages--small deviations from the vertical. The `ocroskew` command can be used to train page skew models and perform page skew correction. These models are generally trained and applied after page orientation correction. Training just requires a collection of already deskewed images as input."
   ]
  },
  {
   "cell_type": "code",
   "execution_count": 38,
   "id": "representative-football",
   "metadata": {
    "kernel": "SoS"
   },
   "outputs": [],
   "source": [
    "[train-skew]\n",
    "input: 'tess.tar'\n",
    "output: 'skewtrain.pth'\n",
    "sh: expand=True\n",
    "    export MPLBACKEND=TkAgg\n",
    "    base=$(basename {_output} .pth)\n",
    "    rm -f $base.sqlite3\n",
    "    vocropus ocroskew train {_input} --display 15 --output $base.sqlite3 --nsamples {nskewtrain} --replicate 8 --num-workers 8 --extensions 'nrm.jpg'\n",
    "    vocropus slog getbest $base.sqlite3 --output {_output}"
   ]
  },
  {
   "cell_type": "code",
   "execution_count": 39,
   "id": "opening-jurisdiction",
   "metadata": {
    "kernel": "SoS"
   },
   "outputs": [
    {
     "data": {
      "text/html": [
       "<div class=\"sos_logging sos_info\">INFO: Running <span class=\"sos_highlight\">train-skew</span>: \n",
       "</div>"
      ]
     },
     "metadata": {},
     "output_type": "display_data"
    },
    {
     "name": "stdout",
     "output_type": "stream",
     "text": [
      "No LSB modules are available.\n",
      "No LSB modules are available.\n",
      "Sequential(\n",
      "  (0): GrayDocument(noise=0.0, autoinvert=True)\n",
      "  (1): Input(BDHW->BDHW torch.float32 (0, 1) cuda:0 [None, 1, None, None])\n",
      "  (2): Conv2d(1, 8, kernel_size=(5, 5), stride=(1, 1), padding=(2, 2))\n",
      "  (3): BatchNorm2d(8, eps=1e-05, momentum=0.1, affine=True, track_running_stats=True)\n",
      "  (4): ReLU()\n",
      "  (5): Spectrum-logplus1\n",
      "  (6): Conv2d(8, 4, kernel_size=(5, 5), stride=(1, 1), padding=(2, 2))\n",
      "  (7): BatchNorm2d(4, eps=1e-05, momentum=0.1, affine=True, track_running_stats=True)\n",
      "  (8): ReLU()\n",
      "  (9): Reshape(0, [1, 2, 3])\n",
      "  (10): Linear(in_features=262144, out_features=210, bias=True)\n",
      "  (11): BatchNorm1d(210, eps=1e-05, momentum=0.1, affine=True, track_running_stats=True)\n",
      "  (12): ReLU()\n",
      "  (13): Linear(in_features=210, out_features=21, bias=True)\n",
      ")\n",
      "64 3.0400679111480713 0.90625 0.026999999999999996\n",
      "\n",
      "saved at 256\n",
      "saving step 256.0 scalar 3.0862616896629333\n"
     ]
    },
    {
     "data": {
      "text/html": [
       "<div class=\"sos_logging sos_info\">INFO: <span class=\"sos_highlight\">train-skew</span> output:   <span class=\"sos_highlight\">skewtrain.pth</span>\n",
       "</div>"
      ]
     },
     "metadata": {},
     "output_type": "display_data"
    },
    {
     "data": {
      "text/html": [
       "<div class=\"sos_logging sos_info\">INFO: Workflow train-skew (ID=w654195ad78f32e25) is executed successfully with 1 completed step.\n",
       "</div>"
      ]
     },
     "metadata": {},
     "output_type": "display_data"
    }
   ],
   "source": [
    "%sosrun train-skew"
   ]
  },
  {
   "cell_type": "code",
   "execution_count": 40,
   "id": "convertible-logan",
   "metadata": {
    "kernel": "SoS"
   },
   "outputs": [],
   "source": [
    "[predict-skew]\n",
    "input: 'skewtrain.pth'\n",
    "sh: expand=True\n",
    "    vocropus ocroskew correct tess.tar --nsamples 10 --model skewtrain.pth"
   ]
  },
  {
   "cell_type": "code",
   "execution_count": 41,
   "id": "laughing-floating",
   "metadata": {
    "kernel": "SoS"
   },
   "outputs": [
    {
     "data": {
      "text/html": [
       "<div class=\"sos_logging sos_info\">INFO: Running <span class=\"sos_highlight\">predict-skew</span>: \n",
       "</div>"
      ]
     },
     "metadata": {},
     "output_type": "display_data"
    },
    {
     "name": "stdout",
     "output_type": "stream",
     "text": [
      "Volume_0000/pg0194 (2115, 1522) -0.010000000000000009\n",
      "Volume_0000/pg0439 (2108, 1572) -0.010000000000000009\n",
      "Volume_0000/pg0011 (2108, 1518) -0.060000000000000005\n",
      "Volume_0000/pg0205 (2115, 1522) -0.010000000000000009\n",
      "Volume_0000/pg0113 (2118, 1504) -0.010000000000000009\n",
      "Volume_0000/pg0018 (2108, 1518) -0.010000000000000009\n",
      "Volume_0000/pg0351 (2132, 1519) -0.010000000000000009\n",
      "Volume_0000/pg0021 (2108, 1518) -0.060000000000000005\n",
      "Volume_0000/pg0410 (2132, 1519) -0.060000000000000005\n",
      "Volume_0000/pg0079 (2118, 1504) -0.010000000000000009\n"
     ]
    },
    {
     "data": {
      "text/html": [
       "<div class=\"sos_logging sos_info\">INFO: Workflow predict-skew (ID=w9ec4016d5cc1fec2) is executed successfully with 1 completed step.\n",
       "</div>"
      ]
     },
     "metadata": {},
     "output_type": "display_data"
    }
   ],
   "source": [
    "%sosrun predict-skew"
   ]
  },
  {
   "cell_type": "markdown",
   "id": "roman-place",
   "metadata": {
    "kernel": "SoS"
   },
   "source": [
    "# Page Scale Analysis\n",
    "\n",
    "Document layout analysis, and to a lesser degree text recognition, assumes that documents are presented at a fairly consistent image resolution (usually 300 dpi). The `ocroscale` command can be trained on a collection of documents at the desired target resolution (e.g., 300 dpi) and when applied to novel documents, will estimate the document scale relative to the training collection. No other ground truth is necessary.\n",
    "\n",
    "The `ocroscale` command has the option for page-by-page \"scale correction\", though for bulk processing, it is better to estimate the scale factor for a new batch of documents once and then rescale the entire document batch with a consistent scale."
   ]
  },
  {
   "cell_type": "code",
   "execution_count": 42,
   "id": "reflected-sector",
   "metadata": {
    "kernel": "SoS"
   },
   "outputs": [],
   "source": [
    "[train-scale]\n",
    "input: 'tess.tar'\n",
    "output: 'scaletrain.pth'\n",
    "sh: expand=True\n",
    "    export MPLBACKEND=TkAgg\n",
    "    base=$(basename {_output} .pth)\n",
    "    rm -f $base.sqlite3\n",
    "    vocropus ocroscale train {_input} --display 15 --output $base.sqlite3 --nsamples {nscaletrain} --replicate 8 --num-workers 8\n",
    "    vocropus slog getbest $base.sqlite3 --output {_output}"
   ]
  },
  {
   "cell_type": "code",
   "execution_count": 43,
   "id": "sorted-pledge",
   "metadata": {
    "kernel": "SoS",
    "tags": []
   },
   "outputs": [
    {
     "data": {
      "text/html": [
       "<div class=\"sos_logging sos_info\">INFO: Running <span class=\"sos_highlight\">train-scale</span>: \n",
       "</div>"
      ]
     },
     "metadata": {},
     "output_type": "display_data"
    },
    {
     "name": "stdout",
     "output_type": "stream",
     "text": [
      "No LSB modules are available.\n",
      "No LSB modules are available.\n",
      "Sequential(\n",
      "  (0): GrayDocument(noise=0.0, autoinvert=True)\n",
      "  (1): Input(BDHW->BDHW torch.float32 (0, 1) cuda:0 [None, 1, None, None])\n",
      "  (2): Conv2d(1, 8, kernel_size=(5, 5), stride=(1, 1), padding=(2, 2))\n",
      "  (3): BatchNorm2d(8, eps=1e-05, momentum=0.1, affine=True, track_running_stats=True)\n",
      "  (4): ReLU()\n",
      "  (5): Spectrum-logplus1\n",
      "  (6): Conv2d(8, 4, kernel_size=(5, 5), stride=(1, 1), padding=(2, 2))\n",
      "  (7): BatchNorm2d(4, eps=1e-05, momentum=0.1, affine=True, track_running_stats=True)\n",
      "  (8): ReLU()\n",
      "  (9): Reshape(0, [1, 2, 3])\n",
      "  (10): Linear(in_features=480000, out_features=110, bias=True)\n",
      "  (11): BatchNorm1d(110, eps=1e-05, momentum=0.1, affine=True, track_running_stats=True)\n",
      "  (12): ReLU()\n",
      "  (13): Linear(in_features=110, out_features=11, bias=True)\n",
      ")\n",
      "16 2.5027568340301514 1.0 0.026999999999999996\n",
      "\n",
      "saved at 208\n",
      "saving step 208.0 scalar 2.0297491183647742\n"
     ]
    },
    {
     "data": {
      "text/html": [
       "<div class=\"sos_logging sos_info\">INFO: <span class=\"sos_highlight\">train-scale</span> output:   <span class=\"sos_highlight\">scaletrain.pth</span>\n",
       "</div>"
      ]
     },
     "metadata": {},
     "output_type": "display_data"
    },
    {
     "data": {
      "text/html": [
       "<div class=\"sos_logging sos_info\">INFO: Workflow train-scale (ID=we84988c3be8fbc1d) is executed successfully with 1 completed step.\n",
       "</div>"
      ]
     },
     "metadata": {},
     "output_type": "display_data"
    }
   ],
   "source": [
    "%sosrun train-scale"
   ]
  },
  {
   "cell_type": "code",
   "execution_count": 44,
   "id": "historic-fountain",
   "metadata": {
    "kernel": "SoS"
   },
   "outputs": [],
   "source": [
    "[predict-scale]\n",
    "input: 'scaletrain.pth'\n",
    "sh: expand=True\n",
    "    vocropus ocroscale hist tess.tar --nsamples 10 --model scaletrain.pth"
   ]
  },
  {
   "cell_type": "code",
   "execution_count": 45,
   "id": "alert-mumbai",
   "metadata": {
    "kernel": "SoS"
   },
   "outputs": [
    {
     "data": {
      "text/html": [
       "<div class=\"sos_logging sos_info\">INFO: Running <span class=\"sos_highlight\">predict-scale</span>: \n",
       "</div>"
      ]
     },
     "metadata": {},
     "output_type": "display_data"
    },
    {
     "name": "stdout",
     "output_type": "stream",
     "text": [
      "Volume_0000/pg0194 (2115, 1522) 1.19\n",
      "Volume_0000/pg0439 (2108, 1572) 1.19\n",
      "Volume_0000/pg0011 (2108, 1518) 3.00\n",
      "Volume_0000/pg0205 (2115, 1522) 1.19\n",
      "Volume_0000/pg0113 (2118, 1504) 1.19\n",
      "Volume_0000/pg0018 (2108, 1518) 1.89\n",
      "Volume_0000/pg0351 (2132, 1519) 1.19\n",
      "Volume_0000/pg0021 (2108, 1518) 3.00\n",
      "Volume_0000/pg0410 (2132, 1519) 1.89\n",
      "Volume_0000/pg0079 (2118, 1504) 1.19\n",
      "1.8928720334405797\n"
     ]
    },
    {
     "data": {
      "text/html": [
       "<div class=\"sos_logging sos_info\">INFO: Workflow predict-scale (ID=wfef4ae324c3f1274) is executed successfully with 1 completed step.\n",
       "</div>"
      ]
     },
     "metadata": {},
     "output_type": "display_data"
    }
   ],
   "source": [
    "%sosrun predict-scale"
   ]
  },
  {
   "cell_type": "markdown",
   "id": "sacred-turkey",
   "metadata": {
    "kernel": "SoS"
   },
   "source": [
    "# Document Binarization Models\n",
    "\n",
    "For most documents, it is best to first convert them to binary format. Binarization models can be trained and applied with the `ocrobin` command.\n",
    "\n",
    "Here, we are training the binarization model on the output of the `nlbin` command. While this may seem redundant, the `ocrobin` output is actually slightly better, and more importantly, the `ocrobin` binarizer runs on the GPU and is faster."
   ]
  },
  {
   "cell_type": "code",
   "execution_count": 89,
   "id": "british-jewel",
   "metadata": {
    "kernel": "SoS"
   },
   "outputs": [],
   "source": [
    "[train-bin]\n",
    "input: 'raw.tar'\n",
    "output: 'bintrain.pth'\n",
    "sh: expand=True\n",
    "    echo {nbintrain}\n",
    "    export MPLBACKEND=TkAgg\n",
    "    base=$(basename {_output} .pth)\n",
    "    rm -f $base.sqlite3\n",
    "    vocropus ocrobin train {_input} --display 15 --output $base.sqlite3 --nsamples {nbintrain} \\\n",
    "        --extensions 'jpg nrm.jpg' --lr '1e-1/(1+n//10000)**.5' --replicate 8 --num-workers 8 --absnorm 0.2,0.9\n",
    "    vocropus slog getbest $base.sqlite3 --output {_output}"
   ]
  },
  {
   "cell_type": "code",
   "execution_count": 90,
   "id": "adverse-telling",
   "metadata": {
    "kernel": "SoS"
   },
   "outputs": [
    {
     "data": {
      "text/html": [
       "<div class=\"sos_logging sos_info\">INFO: Running <span class=\"sos_highlight\">train-bin</span>: \n",
       "</div>"
      ]
     },
     "metadata": {},
     "output_type": "display_data"
    },
    {
     "name": "stdout",
     "output_type": "stream",
     "text": [
      "10000\n",
      "No LSB modules are available.\n",
      "Sequential(\n",
      "  (0): GrayDocument(noise=0.0, autoinvert=True)\n",
      "  (1): Input(BDHW->BDHW torch.float32 (0, 1) cuda:0 [None, 1, None, None])\n",
      "  (2): InputStats(cbinarization)\n",
      "  (3): ModPad(32)\n",
      "  (4): UnetLayer(\n",
      "    (conv): Conv2d(1, 32, kernel_size=(3, 3), stride=(1, 1), padding=(1, 1))\n",
      "    (down): MaxPool2d(kernel_size=2, stride=2, padding=0, dilation=1, ceil_mode=False)\n",
      "    (up): ConvTranspose2d(128, 32, kernel_size=(3, 3), stride=(2, 2), padding=(1, 1), output_padding=(1, 1))\n",
      "    (sub): UnetLayer(\n",
      "      (conv): Conv2d(32, 64, kernel_size=(3, 3), stride=(1, 1), padding=(1, 1))\n",
      "      (down): MaxPool2d(kernel_size=2, stride=2, padding=0, dilation=1, ceil_mode=False)\n",
      "      (up): ConvTranspose2d(256, 64, kernel_size=(3, 3), stride=(2, 2), padding=(1, 1), output_padding=(1, 1))\n",
      "      (sub): UnetLayer(\n",
      "        (conv): Conv2d(64, 128, kernel_size=(3, 3), stride=(1, 1), padding=(1, 1))\n",
      "        (down): MaxPool2d(kernel_size=2, stride=2, padding=0, dilation=1, ceil_mode=False)\n",
      "        (up): ConvTranspose2d(512, 128, kernel_size=(3, 3), stride=(2, 2), padding=(1, 1), output_padding=(1, 1))\n",
      "        (sub): UnetLayer(\n",
      "          (conv): Conv2d(128, 256, kernel_size=(3, 3), stride=(1, 1), padding=(1, 1))\n",
      "          (down): MaxPool2d(kernel_size=2, stride=2, padding=0, dilation=1, ceil_mode=False)\n",
      "          (up): ConvTranspose2d(1024, 256, kernel_size=(3, 3), stride=(2, 2), padding=(1, 1), output_padding=(1, 1))\n",
      "          (sub): UnetLayer(\n",
      "            (conv): Conv2d(256, 512, kernel_size=(3, 3), stride=(1, 1), padding=(1, 1))\n",
      "            (down): MaxPool2d(kernel_size=2, stride=2, padding=0, dilation=1, ceil_mode=False)\n",
      "            (up): ConvTranspose2d(256, 512, kernel_size=(3, 3), stride=(2, 2), padding=(1, 1), output_padding=(1, 1))\n",
      "            (sub): Sequential(\n",
      "              (0): Conv2d(512, 256, kernel_size=(3, 3), stride=(1, 1), padding=(1, 1))\n",
      "              (1): BatchNorm2d(256, eps=1e-05, momentum=0.1, affine=True, track_running_stats=True)\n",
      "              (2): ReLU()\n",
      "            )\n",
      "          )\n",
      "        )\n",
      "      )\n",
      "    )\n",
      "  )\n",
      "  (5): Conv2d(64, 1, kernel_size=(3, 3), stride=(1, 1), padding=(1, 1))\n",
      "  (6): Sigmoid()\n",
      ")\n",
      "# setting lr to 0.001\n",
      "# setting lr to 0.1\n",
      "epoch 16 loss 0.23354831337928772\n",
      "epoch 2896 loss 0.023540853237789844\n",
      "epoch 5469 loss 0.020476625791309554\n",
      "epoch 8019 loss 0.018101273432374002\n",
      "# setting lr to 0.07071067811865475\n",
      "epoch 10803 loss 0.015264088131254539\n",
      "epoch 13363 loss 0.014245993254357018\n",
      "epoch 15916 loss 0.013047582830186002\n",
      "epoch 18668 loss 0.013000927761779166\n",
      "# setting lr to 0.05773502691896258\n",
      "epoch 21218 loss 0.01229911833629012\n",
      "epoch 23779 loss 0.011461749264970423\n",
      "epoch 26547 loss 0.011537711442448199\n",
      "epoch 29117 loss 0.011736146928742528\n",
      "# setting lr to 0.05\n",
      "epoch 31682 loss 0.012045287911314517\n",
      "epoch 34444 loss 0.011651550302281976\n",
      "epoch 37212 loss 0.011965612615225836\n",
      "epoch 39778 loss 0.01229284062469378\n",
      "# setting lr to 0.044721359549995794\n",
      "epoch 42342 loss 0.012320387676474639\n",
      "epoch 45126 loss 0.01158054569887463\n",
      "epoch 47695 loss 0.010731168522499501\n",
      "# setting lr to 0.040824829046386304\n",
      "epoch 50265 loss 0.011547164154355414\n",
      "epoch 53049 loss 0.012195164576987737\n",
      "epoch 55605 loss 0.01320225935964845\n",
      "epoch 58168 loss 0.01285040986398235\n",
      "# setting lr to 0.03779644730092272\n",
      "epoch 60952 loss 0.012070198082714341\n",
      "epoch 63509 loss 0.011795735938008875\n",
      "epoch 66068 loss 0.012281427481560967\n",
      "epoch 68868 loss 0.011805642327526584\n",
      "# setting lr to 0.035355339059327376\n",
      "epoch 71434 loss 0.011877731832326389\n",
      "epoch 74008 loss 0.011196983514470049\n",
      "epoch 76786 loss 0.01176099694299046\n",
      "epoch 79554 loss 0.011609399959561416\n",
      "# setting lr to 0.03333333333333333\n",
      "epoch 82112 loss 0.0120635409145616\n",
      "epoch 84678 loss 0.011644383002072572\n",
      "epoch 87462 loss 0.011434605768881738\n",
      "# setting lr to 0.03162277660168379\n",
      "epoch 90029 loss 0.011487288744654506\n",
      "epoch 92587 loss 0.011964422317221762\n",
      "epoch 95371 loss 0.011704580245306715\n",
      "epoch 97917 loss 0.011223844472435303\n",
      "# setting lr to 0.030151134457776365\n",
      "epoch 100469 loss 0.010618797061615623\n",
      "epoch 103253 loss 0.011137078615138307\n",
      "epoch 105818 loss 0.010923426895053125\n",
      "epoch 108389 loss 0.011889609602978453\n",
      "# setting lr to 0.02886751345948129\n",
      "epoch 111173 loss 0.011267820856533944\n",
      "epoch 113729 loss 0.011543363668723033\n",
      "epoch 116298 loss 0.011114322906127199\n",
      "epoch 118925 loss 0.011988666737219319\n",
      "# setting lr to 0.02773500981126146\n",
      "epoch 121709 loss 0.011765542329638265\n",
      "epoch 124272 loss 0.01233551808563061\n",
      "epoch 126842 loss 0.011516663459129632\n",
      "epoch 129610 loss 0.012055481144227087\n",
      "# setting lr to 0.02672612419124244\n",
      "epoch 132162 loss 0.01173281838139519\n",
      "epoch 134711 loss 0.011757574478397146\n",
      "epoch 137495 loss 0.010983166667982004\n",
      "# setting lr to 0.025819888974716113\n",
      "epoch 140050 loss 0.011022505623172037\n",
      "epoch 142587 loss 0.01106476229603868\n",
      "epoch 145371 loss 0.010997005968005397\n",
      "epoch 147921 loss 0.010568159148679115\n",
      "# setting lr to 0.025\n",
      "epoch 150496 loss 0.011286956165684387\n",
      "epoch 153280 loss 0.011558094952721148\n",
      "epoch 155839 loss 0.011700473629054613\n",
      "epoch 158403 loss 0.011437080621835776\n",
      "saving step 105178.0 scalar 0.01012588466051966\n"
     ]
    },
    {
     "data": {
      "text/html": [
       "<div class=\"sos_logging sos_info\">INFO: <span class=\"sos_highlight\">train-bin</span> output:   <span class=\"sos_highlight\">bintrain.pth</span>\n",
       "</div>"
      ]
     },
     "metadata": {},
     "output_type": "display_data"
    },
    {
     "data": {
      "text/html": [
       "<div class=\"sos_logging sos_info\">INFO: Workflow train-bin (ID=w3f5cb20f39d030d1) is executed successfully with 1 completed step.\n",
       "</div>"
      ]
     },
     "metadata": {},
     "output_type": "display_data"
    }
   ],
   "source": [
    "%sosrun train-bin"
   ]
  },
  {
   "cell_type": "code",
   "execution_count": 71,
   "id": "curious-atlanta",
   "metadata": {
    "kernel": "SoS"
   },
   "outputs": [],
   "source": [
    "!rm bintrain.pth"
   ]
  },
  {
   "cell_type": "code",
   "execution_count": null,
   "id": "equipped-passport",
   "metadata": {
    "kernel": "SoS"
   },
   "outputs": [],
   "source": []
  }
 ],
 "metadata": {
  "kernelspec": {
   "display_name": "SoS",
   "language": "sos",
   "name": "sos"
  },
  "language_info": {
   "codemirror_mode": "sos",
   "file_extension": ".sos",
   "mimetype": "text/x-sos",
   "name": "sos",
   "nbconvert_exporter": "sos_notebook.converter.SoS_Exporter",
   "pygments_lexer": "sos"
  },
  "sos": {
   "kernels": [
    [
     "Bash",
     "bash",
     "bash",
     "",
     "shell"
    ],
    [
     "Python3",
     "python3",
     "Python3",
     "#FFD91A",
     {
      "name": "ipython",
      "version": 3
     }
    ],
    [
     "SoS",
     "sos",
     "",
     "",
     "sos"
    ]
   ],
   "panel": {
    "displayed": true,
    "height": 0
   },
   "version": "0.22.4"
  }
 },
 "nbformat": 4,
 "nbformat_minor": 5
}
