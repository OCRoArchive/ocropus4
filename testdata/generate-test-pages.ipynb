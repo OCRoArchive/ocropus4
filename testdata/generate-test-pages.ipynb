{
 "cells": [
  {
   "cell_type": "code",
   "execution_count": 61,
   "id": "cff776fb-5abc-420f-8990-cc5ed675f1c5",
   "metadata": {},
   "outputs": [],
   "source": [
    "import os\n",
    "import random"
   ]
  },
  {
   "cell_type": "code",
   "execution_count": 91,
   "id": "9cd6d63e-2cf1-41ec-a837-5d81bc74aa64",
   "metadata": {},
   "outputs": [
    {
     "data": {
      "text/plain": [
       "['retrofits Inca Knuth curlews terminated attempts',\n",
       " 'vocations rendezvousing debater clerk decamp',\n",
       " 'memorization study taut confounded Purdue Dorian',\n",
       " 'reach spewing perfectest lapped peddlers Marriott',\n",
       " 'cartridge blended attachment balconies Concord',\n",
       " 'teams Sweden cohabitation advertiser lazing',\n",
       " 'Khachaturian eminently excitement Snoopy Jenifer',\n",
       " 'setbacks indefinite maturity oftenest Shaw',\n",
       " 'redecorating infidelities integers slovenlier',\n",
       " 'Picasso bazookas lasagnas snowmobiles airmailing',\n",
       " 'endocrine dissimulation Midway zombie chasm',\n",
       " 'flume outdone misanthropist advent meanly okra',\n",
       " 'Pryor coequal illumines crouching scans enigmas',\n",
       " 'wordier cuddliest bargains disembowelling hoe',\n",
       " 'fictitious judgment approximations soberness',\n",
       " 'sponger neutrons Short iniquities trolley',\n",
       " 'misinterpretation Espinoza softeners inking',\n",
       " 'webbed Omahas rookeries cavities grannie',\n",
       " 'Manx bandit fallowed initializes balmier',\n",
       " 'computerizing jaws dedicating passengers Daley',\n",
       " 'caparisoning phone piquant happen caseloads',\n",
       " 'companionable caracul owe unearthed antiquity',\n",
       " 'reprogramed Mary cowards glumness Incas Kenyans',\n",
       " 'enriching magisterial Pavlovian toughness',\n",
       " 'Galilean midlands hurls duff twisters breathy']"
      ]
     },
     "execution_count": 91,
     "metadata": {},
     "output_type": "execute_result"
    }
   ],
   "source": [
    "lines = os.popen(\"cat /usr/share/dict/words | grep '...' | grep -v \\\"'\\\" | sort -R | fmt -50 | sed 25q\").readlines()\n",
    "lines = [s.strip() for s in lines]\n",
    "lines"
   ]
  },
  {
   "cell_type": "code",
   "execution_count": 92,
   "id": "bd29e422-6461-4e3d-84fd-711d1c5b4d65",
   "metadata": {},
   "outputs": [
    {
     "data": {
      "text/plain": [
       "'(?Vm&=Tk$;Ri\"9Pg~7Ne|5Lcz3Jax1H_v/F]t-D[r+BYp)@Wn\\'>Ul%<Sj#:Qh!8Of}6Md{4Kby2I`w0G^u.E\\\\s,CZq*AXo'"
      ]
     },
     "execution_count": 92,
     "metadata": {},
     "output_type": "execute_result"
    }
   ],
   "source": [
    "s = \"\"\n",
    "result = \"\"\n",
    "for i in range(33, 127):\n",
    "    s += chr(i)\n",
    "    result += chr((i*23) % 94 + 33)\n",
    "result"
   ]
  },
  {
   "cell_type": "code",
   "execution_count": 93,
   "id": "d3374831-1227-4e7b-aabf-517857ad466f",
   "metadata": {},
   "outputs": [
    {
     "data": {
      "text/plain": [
       "['(?Vm& =Tk$; Ri\"9P g~7Ne |5Lcz 3Jax1 H_v/F ]t-D[ r+BYp )@Wn\\'',\n",
       " '>Ul%< Sj#:Q h!8Of }6Md{ 4Kby2 I`w0G ^u.E\\\\ s,CZq *AXo']"
      ]
     },
     "execution_count": 93,
     "metadata": {},
     "output_type": "execute_result"
    }
   ],
   "source": [
    "m, n = 5, 10\n",
    "chunks = [result[i:i+m] for i in range(0, len(result), m)]\n",
    "chunks = [\" \".join(chunks[i:i+n]) for i in range(0, len(chunks), n)]\n",
    "chunks"
   ]
  },
  {
   "cell_type": "code",
   "execution_count": 94,
   "id": "c781c9c4-e32c-4d31-b7c9-01ceb901f385",
   "metadata": {},
   "outputs": [
    {
     "data": {
      "text/plain": [
       "['0.03424 0.004 0.0 17.78544 178.6 146.3508 0.00015 0.201',\n",
       " '2204.59771 2.8800 0.01 159.89 39.45299 452.9983 159.34 0.0044',\n",
       " '49.3617 2918.7882 0.0 0.001 0.02 0.00682 63.92 0.08',\n",
       " '738.7 0.0 2440.94 12.5 0.23 5570.53490 0.2456 0.36',\n",
       " '0.06800 0.063 0.452 0.0034 2418.3970 0.011 0.0 0.02',\n",
       " '0.09 7.11 14.402 2671.76 17.63 0.001 1.5850 0.002',\n",
       " '0.0030 208.213 0.000 0.00096 94.6222 0.000 85.15 0.0']"
      ]
     },
     "execution_count": 94,
     "metadata": {},
     "output_type": "execute_result"
    }
   ],
   "source": [
    "m, n = 60, 8\n",
    "nums = [\"%*.*f\" % (random.randint(1, 3), random.randint(1, 5), 10**(8.0*random.random()-4.0)) for _ in range(m)]\n",
    "nums = [\" \".join(nums[i:i+n]) for i in range(0, len(nums), n)][:-1]\n",
    "nums"
   ]
  },
  {
   "cell_type": "code",
   "execution_count": 99,
   "id": "f332032f-f543-4e3f-99eb-216435b564d0",
   "metadata": {},
   "outputs": [
    {
     "data": {
      "text/plain": [
       "['___ Begin retrofits Inca Knuth curlews terminated attempts End ___',\n",
       " '___ Begin vocations rendezvousing debater clerk decamp End ___',\n",
       " '___ Begin memorization study taut confounded Purdue Dorian End ___',\n",
       " '___ Begin reach spewing perfectest lapped peddlers Marriott End ___',\n",
       " '___ Begin cartridge blended attachment balconies Concord End ___',\n",
       " '___ Begin teams Sweden cohabitation advertiser lazing End ___',\n",
       " '___ Begin Khachaturian eminently excitement Snoopy Jenifer End ___',\n",
       " '___ Begin setbacks indefinite maturity oftenest Shaw End ___',\n",
       " '___ Begin redecorating infidelities integers slovenlier End ___',\n",
       " '___ Begin Picasso bazookas lasagnas snowmobiles airmailing End ___',\n",
       " '___ Begin endocrine dissimulation Midway zombie chasm End ___',\n",
       " '___ Begin flume outdone misanthropist advent meanly okra End ___',\n",
       " '___ Begin Pryor coequal illumines crouching scans enigmas End ___',\n",
       " '___ Begin wordier cuddliest bargains disembowelling hoe End ___',\n",
       " '___ Begin fictitious judgment approximations soberness End ___',\n",
       " '___ Begin sponger neutrons Short iniquities trolley End ___',\n",
       " '___ Begin misinterpretation Espinoza softeners inking End ___',\n",
       " '___ Begin webbed Omahas rookeries cavities grannie End ___',\n",
       " '___ Begin Manx bandit fallowed initializes balmier End ___',\n",
       " '___ Begin computerizing jaws dedicating passengers Daley End ___',\n",
       " '___ Begin caparisoning phone piquant happen caseloads End ___',\n",
       " '___ Begin companionable caracul owe unearthed antiquity End ___',\n",
       " '___ Begin reprogramed Mary cowards glumness Incas Kenyans End ___',\n",
       " '___ Begin enriching magisterial Pavlovian toughness End ___',\n",
       " '___ Begin Galilean midlands hurls duff twisters breathy End ___',\n",
       " '___ Begin (?Vm& =Tk$; Ri\"9P g~7Ne |5Lcz 3Jax1 H_v/F ]t-D[ r+BYp )@Wn\\' End ___',\n",
       " '___ Begin >Ul%< Sj#:Q h!8Of }6Md{ 4Kby2 I`w0G ^u.E\\\\ s,CZq *AXo End ___',\n",
       " '___ Begin 0.03424 0.004 0.0 17.78544 178.6 146.3508 0.00015 0.201 End ___',\n",
       " '___ Begin 2204.59771 2.8800 0.01 159.89 39.45299 452.9983 159.34 0.0044 End ___',\n",
       " '___ Begin 49.3617 2918.7882 0.0 0.001 0.02 0.00682 63.92 0.08 End ___',\n",
       " '___ Begin 738.7 0.0 2440.94 12.5 0.23 5570.53490 0.2456 0.36 End ___',\n",
       " '___ Begin 0.06800 0.063 0.452 0.0034 2418.3970 0.011 0.0 0.02 End ___',\n",
       " '___ Begin 0.09 7.11 14.402 2671.76 17.63 0.001 1.5850 0.002 End ___',\n",
       " '___ Begin 0.0030 208.213 0.000 0.00096 94.6222 0.000 85.15 0.0 End ___']"
      ]
     },
     "execution_count": 99,
     "metadata": {},
     "output_type": "execute_result"
    }
   ],
   "source": [
    "page = lines + chunks + nums\n",
    "page = [\"___ Begin \"+l+\" End ___\" for l in page]\n",
    "page"
   ]
  },
  {
   "cell_type": "code",
   "execution_count": 101,
   "id": "d9851514-f385-416a-b3f8-8fb2d46ebbbc",
   "metadata": {},
   "outputs": [
    {
     "name": "stdout",
     "output_type": "stream",
     "text": [
      "___ Begin retrofits Inca Knuth curlews terminated attempts End ___\n",
      "___ Begin vocations rendezvousing debater clerk decamp End ___\n",
      "___ Begin memorization study taut confounded Purdue Dorian End ___\n",
      "___ Begin reach spewing perfectest lapped peddlers Marriott End ___\n",
      "___ Begin cartridge blended attachment balconies Concord End ___\n",
      "___ Begin teams Sweden cohabitation advertiser lazing End ___\n",
      "___ Begin Khachaturian eminently excitement Snoopy Jenifer End ___\n",
      "___ Begin setbacks indefinite maturity oftenest Shaw End ___\n",
      "___ Begin redecorating infidelities integers slovenlier End ___\n",
      "___ Begin Picasso bazookas lasagnas snowmobiles airmailing End ___\n",
      "___ Begin endocrine dissimulation Midway zombie chasm End ___\n",
      "___ Begin flume outdone misanthropist advent meanly okra End ___\n",
      "___ Begin Pryor coequal illumines crouching scans enigmas End ___\n",
      "___ Begin wordier cuddliest bargains disembowelling hoe End ___\n",
      "___ Begin fictitious judgment approximations soberness End ___\n",
      "___ Begin sponger neutrons Short iniquities trolley End ___\n",
      "___ Begin misinterpretation Espinoza softeners inking End ___\n",
      "___ Begin webbed Omahas rookeries cavities grannie End ___\n",
      "___ Begin Manx bandit fallowed initializes balmier End ___\n",
      "___ Begin computerizing jaws dedicating passengers Daley End ___\n",
      "___ Begin caparisoning phone piquant happen caseloads End ___\n",
      "___ Begin companionable caracul owe unearthed antiquity End ___\n",
      "___ Begin reprogramed Mary cowards glumness Incas Kenyans End ___\n",
      "___ Begin enriching magisterial Pavlovian toughness End ___\n",
      "___ Begin Galilean midlands hurls duff twisters breathy End ___\n",
      "___ Begin (?Vm& =Tk$; Ri\"9P g~7Ne |5Lcz 3Jax1 H_v/F ]t-D[ r+BYp )@Wn' End ___\n",
      "___ Begin >Ul%< Sj#:Q h!8Of }6Md{ 4Kby2 I`w0G ^u.E\\ s,CZq *AXo End ___\n",
      "___ Begin 0.03424 0.004 0.0 17.78544 178.6 146.3508 0.00015 0.201 End ___\n",
      "___ Begin 2204.59771 2.8800 0.01 159.89 39.45299 452.9983 159.34 0.0044 End ___\n",
      "___ Begin 49.3617 2918.7882 0.0 0.001 0.02 0.00682 63.92 0.08 End ___\n",
      "___ Begin 738.7 0.0 2440.94 12.5 0.23 5570.53490 0.2456 0.36 End ___\n",
      "___ Begin 0.06800 0.063 0.452 0.0034 2418.3970 0.011 0.0 0.02 End ___\n",
      "___ Begin 0.09 7.11 14.402 2671.76 17.63 0.001 1.5850 0.002 End ___\n",
      "___ Begin 0.0030 208.213 0.000 0.00096 94.6222 0.000 85.15 0.0 End ___\n"
     ]
    }
   ],
   "source": [
    "print(\"\\n\".join(page))"
   ]
  },
  {
   "cell_type": "code",
   "execution_count": null,
   "id": "4f7adfbf-99f0-401e-ab2a-0847699e0fd8",
   "metadata": {},
   "outputs": [],
   "source": []
  },
  {
   "cell_type": "code",
   "execution_count": null,
   "id": "42244e31-7d04-42c6-8db4-34f440b85572",
   "metadata": {},
   "outputs": [],
   "source": []
  }
 ],
 "metadata": {
  "kernelspec": {
   "display_name": "Python 3 (ipykernel)",
   "language": "python",
   "name": "python3"
  },
  "language_info": {
   "codemirror_mode": {
    "name": "ipython",
    "version": 3
   },
   "file_extension": ".py",
   "mimetype": "text/x-python",
   "name": "python",
   "nbconvert_exporter": "python",
   "pygments_lexer": "ipython3",
   "version": "3.8.10"
  }
 },
 "nbformat": 4,
 "nbformat_minor": 5
}
